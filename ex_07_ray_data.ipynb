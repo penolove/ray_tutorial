{
 "cells": [
  {
   "cell_type": "markdown",
   "id": "0656cb6d-a54e-4264-971f-4a254118e5d2",
   "metadata": {},
   "source": [
    "# Ray Data (still in beta)\n",
    "Ray Datasets are the standard way to load and exchange data in Ray libraries and applications. Datasets provide basic distributed data transformations such as map, filter, and repartition, and are compatible with a variety of file formats, datasources, and distributed frameworks."
   ]
  },
  {
   "cell_type": "code",
   "execution_count": 1,
   "id": "f5f1cc7a-6977-440b-8134-016439e986aa",
   "metadata": {},
   "outputs": [
    {
     "name": "stderr",
     "output_type": "stream",
     "text": [
      "2021-12-26 15:13:58,270\tINFO services.py:1340 -- View the Ray dashboard at \u001b[1m\u001b[32mhttp://127.0.0.1:8265\u001b[39m\u001b[22m\n"
     ]
    },
    {
     "data": {
      "text/plain": [
       "{'node_ip_address': '192.168.84.193',\n",
       " 'raylet_ip_address': '192.168.84.193',\n",
       " 'redis_address': '192.168.84.193:6379',\n",
       " 'object_store_address': '/tmp/ray/session_2021-12-26_15-13-55_562074_2086/sockets/plasma_store',\n",
       " 'raylet_socket_name': '/tmp/ray/session_2021-12-26_15-13-55_562074_2086/sockets/raylet',\n",
       " 'webui_url': '127.0.0.1:8265',\n",
       " 'session_dir': '/tmp/ray/session_2021-12-26_15-13-55_562074_2086',\n",
       " 'metrics_export_port': 51466,\n",
       " 'node_id': '622069df4572a1f75c22ab53831780238c4f84e569661c5c3ad0ffdb'}"
      ]
     },
     "execution_count": 1,
     "metadata": {},
     "output_type": "execute_result"
    }
   ],
   "source": [
    "import ray\n",
    "ray.init()"
   ]
  },
  {
   "cell_type": "code",
   "execution_count": 2,
   "id": "413d861a-d77e-40ae-86d4-4c01d62fc6ff",
   "metadata": {},
   "outputs": [],
   "source": [
    "ds = ray.data.range(10000)"
   ]
  },
  {
   "cell_type": "code",
   "execution_count": 3,
   "id": "28b424b9-6d44-47ac-a986-902417dbf2cb",
   "metadata": {},
   "outputs": [
    {
     "name": "stdout",
     "output_type": "stream",
     "text": [
      "<class 'ray.data.dataset.Dataset'>\n"
     ]
    }
   ],
   "source": [
    "print(type(ds))"
   ]
  },
  {
   "cell_type": "code",
   "execution_count": 8,
   "id": "c3c6a480-a65b-4b7f-8a38-8d23928eb4e3",
   "metadata": {
    "collapsed": true,
    "jupyter": {
     "outputs_hidden": true
    },
    "tags": []
   },
   "outputs": [
    {
     "name": "stdout",
     "output_type": "stream",
     "text": [
      "======== Object references status: 2021-12-26 15:13:26.971783 ========\n",
      "Grouping by node address...        Sorting by object size...        Display allentries per group...\n",
      "\n",
      "\n",
      "--- Summary for node address: 192.168.84.193 ---\n",
      "Mem Used by Objects  Local References  Pinned        Pending Tasks  Captured in Objects  Actor Handles\n",
      "70000.0 B            400, (69800.0 B)  0, (0.0 B)    0, (0.0 B)     0, (0.0 B)           13, (-13.0 B)\n",
      "\n",
      "--- Object references for node address: 192.168.84.193 ---\n",
      "IP Address | PID | Type | Call Site | Size | Reference Type | Object Ref\n",
      "\n",
      "192.168.84.193 | 1898 | Worker |           | ?    | ACTOR_HANDLE   | ffffffffffffffffc2864d56385a6324af4fff2e0100000001000000\n",
      "\n",
      "\n",
      "192.168.84.193 | 1900 | Worker |           | ?    | ACTOR_HANDLE   | ffffffffffffffffc2864d56385a6324af4fff2e0100000001000000\n",
      "\n",
      "\n",
      "192.168.84.193 | 1899 | Worker |           | ?    | ACTOR_HANDLE   | ffffffffffffffffc2864d56385a6324af4fff2e0100000001000000\n",
      "\n",
      "\n",
      "192.168.84.193 | 1576 | Worker |           | ?    | ACTOR_HANDLE   | ffffffffffffffffc2864d56385a6324af4fff2e0100000001000000\n",
      "\n",
      "\n",
      "192.168.84.193 | 1579 | Worker |           | ?    | ACTOR_HANDLE   | ffffffffffffffffc2864d56385a6324af4fff2e0100000001000000\n",
      "\n",
      "\n",
      "192.168.84.193 | 1580 | Worker |           | ?    | ACTOR_HANDLE   | ffffffffffffffffc2864d56385a6324af4fff2e0100000001000000\n",
      "\n",
      "\n",
      "192.168.84.193 | 1581 | Worker |           | ?    | ACTOR_HANDLE   | ffffffffffffffffc2864d56385a6324af4fff2e0100000001000000\n",
      "\n",
      "\n",
      "192.168.84.193 | 1575 | Worker |           | ?    | ACTOR_HANDLE   | ffffffffffffffffc2864d56385a6324af4fff2e0100000001000000\n",
      "\n",
      "\n",
      "192.168.84.193 | 1578 | Worker |           | ?    | ACTOR_HANDLE   | ffffffffffffffffc2864d56385a6324af4fff2e0100000001000000\n",
      "\n",
      "\n",
      "192.168.84.193 | 1574 | Worker |           | ?    | ACTOR_HANDLE   | ffffffffffffffffc2864d56385a6324af4fff2e0100000001000000\n",
      "\n",
      "\n",
      "192.168.84.193 | 1901 | Worker |           | ?    | ACTOR_HANDLE   | ffffffffffffffffc2864d56385a6324af4fff2e0100000001000000\n",
      "\n",
      "\n",
      "192.168.84.193 | 1577 | Worker |           | ?    | ACTOR_HANDLE   | ffffffffffffffffc2864d56385a6324af4fff2e0100000001000000\n",
      "\n",
      "\n",
      "192.168.84.193 | 1427 | Driver | <unknown> | ?    | LOCAL_REFERENCE | faf123d8b1b35293ffffffffffffffffffffffff0100000002000000\n",
      "\n",
      "\n",
      "192.168.84.193 | 1427 | Driver | <unknown> | ?    | LOCAL_REFERENCE | 69a44463d6ec2f20ffffffffffffffffffffffff0100000002000000\n",
      "\n",
      "\n",
      "192.168.84.193 | 1427 | Driver | <unknown> | ?    | LOCAL_REFERENCE | 90fd018037cd8211ffffffffffffffffffffffff0100000002000000\n",
      "\n",
      "\n",
      "192.168.84.193 | 1427 | Driver | <unknown> | ?    | LOCAL_REFERENCE | c025a41ba5609597ffffffffffffffffffffffff0100000002000000\n",
      "\n",
      "\n",
      "192.168.84.193 | 1427 | Driver | <unknown> | ?    | LOCAL_REFERENCE | ed64f45346849778ffffffffffffffffffffffff0100000002000000\n",
      "\n",
      "\n",
      "192.168.84.193 | 1427 | Driver | <unknown> | ?    | LOCAL_REFERENCE | 39abb479acfc261bffffffffffffffffffffffff0100000002000000\n",
      "\n",
      "\n",
      "192.168.84.193 | 1427 | Driver | <unknown> | ?    | LOCAL_REFERENCE | a15e43fc986a9597ffffffffffffffffffffffff0100000002000000\n",
      "\n",
      "\n",
      "192.168.84.193 | 1427 | Driver | <unknown> | ?    | LOCAL_REFERENCE | a150357784540d7bffffffffffffffffffffffff0100000002000000\n",
      "\n",
      "\n",
      "192.168.84.193 | 1427 | Driver | <unknown> | ?    | LOCAL_REFERENCE | d4cd095eff01a11fffffffffffffffffffffffff0100000002000000\n",
      "\n",
      "\n",
      "192.168.84.193 | 1427 | Driver | <unknown> | ?    | LOCAL_REFERENCE | 65a1a3aaa614cba3ffffffffffffffffffffffff0100000002000000\n",
      "\n",
      "\n",
      "192.168.84.193 | 1427 | Driver | <unknown> | ?    | LOCAL_REFERENCE | 46766c5b0167bafaffffffffffffffffffffffff0100000002000000\n",
      "\n",
      "\n",
      "192.168.84.193 | 1427 | Driver | <unknown> | ?    | LOCAL_REFERENCE | ff263408fac73fd7ffffffffffffffffffffffff0100000002000000\n",
      "\n",
      "\n",
      "192.168.84.193 | 1427 | Driver | <unknown> | ?    | LOCAL_REFERENCE | b4b63d32e46ad812ffffffffffffffffffffffff0100000002000000\n",
      "\n",
      "\n",
      "192.168.84.193 | 1427 | Driver | <unknown> | ?    | LOCAL_REFERENCE | 419d38867099fbd8ffffffffffffffffffffffff0100000002000000\n",
      "\n",
      "\n",
      "192.168.84.193 | 1427 | Driver | <unknown> | ?    | LOCAL_REFERENCE | 32cccd03c567a254ffffffffffffffffffffffff0100000002000000\n",
      "\n",
      "\n",
      "192.168.84.193 | 1427 | Driver | <unknown> | ?    | LOCAL_REFERENCE | 48b7ee15cf1ae472ffffffffffffffffffffffff0100000002000000\n",
      "\n",
      "\n",
      "192.168.84.193 | 1427 | Driver | <unknown> | ?    | LOCAL_REFERENCE | 19f1295112af6a56ffffffffffffffffffffffff0100000002000000\n",
      "\n",
      "\n",
      "192.168.84.193 | 1427 | Driver | <unknown> | ?    | LOCAL_REFERENCE | c361e4b8895ba43cffffffffffffffffffffffff0100000002000000\n",
      "\n",
      "\n",
      "192.168.84.193 | 1427 | Driver | <unknown> | ?    | LOCAL_REFERENCE | 3e63a51020b5b425ffffffffffffffffffffffff0100000002000000\n",
      "\n",
      "\n",
      "192.168.84.193 | 1427 | Driver | <unknown> | ?    | LOCAL_REFERENCE | 02f9b42dcf9096dbffffffffffffffffffffffff0100000002000000\n",
      "\n",
      "\n",
      "192.168.84.193 | 1427 | Driver | <unknown> | ?    | LOCAL_REFERENCE | e07eebba574c5c52ffffffffffffffffffffffff0100000002000000\n",
      "\n",
      "\n",
      "192.168.84.193 | 1427 | Driver | <unknown> | ?    | LOCAL_REFERENCE | 3a4bb9b95c2938a4ffffffffffffffffffffffff0100000002000000\n",
      "\n",
      "\n",
      "192.168.84.193 | 1427 | Driver | <unknown> | ?    | LOCAL_REFERENCE | 43bdcf5f0df9124cffffffffffffffffffffffff0100000002000000\n",
      "\n",
      "\n",
      "192.168.84.193 | 1427 | Driver | <unknown> | ?    | LOCAL_REFERENCE | 59f76feddb5a7dbcffffffffffffffffffffffff0100000002000000\n",
      "\n",
      "\n",
      "192.168.84.193 | 1427 | Driver | <unknown> | ?    | LOCAL_REFERENCE | a06d247da28159b7ffffffffffffffffffffffff0100000002000000\n",
      "\n",
      "\n",
      "192.168.84.193 | 1427 | Driver | <unknown> | ?    | LOCAL_REFERENCE | aac4ca32fcd13c59ffffffffffffffffffffffff0100000002000000\n",
      "\n",
      "\n",
      "192.168.84.193 | 1427 | Driver | <unknown> | ?    | LOCAL_REFERENCE | 24eed4584329c19affffffffffffffffffffffff0100000002000000\n",
      "\n",
      "\n",
      "192.168.84.193 | 1427 | Driver | <unknown> | ?    | LOCAL_REFERENCE | f72915c3acda6455ffffffffffffffffffffffff0100000002000000\n",
      "\n",
      "\n",
      "192.168.84.193 | 1427 | Driver | <unknown> | ?    | LOCAL_REFERENCE | bbde8638d39a1245ffffffffffffffffffffffff0100000002000000\n",
      "\n",
      "\n",
      "192.168.84.193 | 1427 | Driver | <unknown> | ?    | LOCAL_REFERENCE | 2b1d1545893d1daeffffffffffffffffffffffff0100000002000000\n",
      "\n",
      "\n",
      "192.168.84.193 | 1427 | Driver | <unknown> | ?    | LOCAL_REFERENCE | c0e56a21dcb5fe64ffffffffffffffffffffffff0100000002000000\n",
      "\n",
      "\n",
      "192.168.84.193 | 1427 | Driver | <unknown> | ?    | LOCAL_REFERENCE | f74e3e0219621f0bffffffffffffffffffffffff0100000002000000\n",
      "\n",
      "\n",
      "192.168.84.193 | 1427 | Driver | <unknown> | ?    | LOCAL_REFERENCE | 77cd0cc01feb307dffffffffffffffffffffffff0100000002000000\n",
      "\n",
      "\n",
      "192.168.84.193 | 1427 | Driver | <unknown> | ?    | LOCAL_REFERENCE | 9624f296d48a0a19ffffffffffffffffffffffff0100000002000000\n",
      "\n",
      "\n",
      "192.168.84.193 | 1427 | Driver | <unknown> | ?    | LOCAL_REFERENCE | 7d118de670c46e28ffffffffffffffffffffffff0100000002000000\n",
      "\n",
      "\n",
      "192.168.84.193 | 1427 | Driver | <unknown> | ?    | LOCAL_REFERENCE | 99e62cd984b8c7deffffffffffffffffffffffff0100000002000000\n",
      "\n",
      "\n",
      "192.168.84.193 | 1427 | Driver | <unknown> | ?    | LOCAL_REFERENCE | 3f903472d63abe4effffffffffffffffffffffff0100000002000000\n",
      "\n",
      "\n",
      "192.168.84.193 | 1427 | Driver | <unknown> | ?    | LOCAL_REFERENCE | cdcaca9b2d0112c5ffffffffffffffffffffffff0100000002000000\n",
      "\n",
      "\n",
      "192.168.84.193 | 1427 | Driver | <unknown> | ?    | LOCAL_REFERENCE | 753565f917242c11ffffffffffffffffffffffff0100000002000000\n",
      "\n",
      "\n",
      "192.168.84.193 | 1427 | Driver | <unknown> | ?    | LOCAL_REFERENCE | 27c0dca5954f99afffffffffffffffffffffffff0100000002000000\n",
      "\n",
      "\n",
      "192.168.84.193 | 1427 | Driver | <unknown> | ?    | LOCAL_REFERENCE | 5e4556eab3523b9cffffffffffffffffffffffff0100000002000000\n",
      "\n",
      "\n",
      "192.168.84.193 | 1427 | Driver | <unknown> | ?    | LOCAL_REFERENCE | 5497aa04f981e4a1ffffffffffffffffffffffff0100000002000000\n",
      "\n",
      "\n",
      "192.168.84.193 | 1427 | Driver | <unknown> | ?    | LOCAL_REFERENCE | 7fabc23126d27f51ffffffffffffffffffffffff0100000002000000\n",
      "\n",
      "\n",
      "192.168.84.193 | 1427 | Driver | <unknown> | ?    | LOCAL_REFERENCE | cc0320e00aa0584cffffffffffffffffffffffff0100000002000000\n",
      "\n",
      "\n",
      "192.168.84.193 | 1427 | Driver | <unknown> | ?    | LOCAL_REFERENCE | 85186699e206774effffffffffffffffffffffff0100000002000000\n",
      "\n",
      "\n",
      "192.168.84.193 | 1427 | Driver | <unknown> | ?    | LOCAL_REFERENCE | 5b78680d95855782ffffffffffffffffffffffff0100000002000000\n",
      "\n",
      "\n",
      "192.168.84.193 | 1427 | Driver | <unknown> | ?    | LOCAL_REFERENCE | 4817e60e48bb672affffffffffffffffffffffff0100000002000000\n",
      "\n",
      "\n",
      "192.168.84.193 | 1427 | Driver | <unknown> | ?    | LOCAL_REFERENCE | d89139dd4ad01734ffffffffffffffffffffffff0100000002000000\n",
      "\n",
      "\n",
      "192.168.84.193 | 1427 | Driver | <unknown> | ?    | LOCAL_REFERENCE | c3a51edce6322cb0ffffffffffffffffffffffff0100000002000000\n",
      "\n",
      "\n",
      "192.168.84.193 | 1427 | Driver | <unknown> | ?    | LOCAL_REFERENCE | 283cd1aaa77ebfceffffffffffffffffffffffff0100000002000000\n",
      "\n",
      "\n",
      "192.168.84.193 | 1427 | Driver | <unknown> | ?    | LOCAL_REFERENCE | 2f380fa819400849ffffffffffffffffffffffff0100000002000000\n",
      "\n",
      "\n",
      "192.168.84.193 | 1427 | Driver | <unknown> | ?    | LOCAL_REFERENCE | 9f8d7f46a2c850cfffffffffffffffffffffffff0100000002000000\n",
      "\n",
      "\n",
      "192.168.84.193 | 1427 | Driver | <unknown> | ?    | LOCAL_REFERENCE | fc8204747604c8ccffffffffffffffffffffffff0100000002000000\n",
      "\n",
      "\n",
      "192.168.84.193 | 1427 | Driver | <unknown> | ?    | LOCAL_REFERENCE | 747754f46b61f47dffffffffffffffffffffffff0100000002000000\n",
      "\n",
      "\n",
      "192.168.84.193 | 1427 | Driver | <unknown> | ?    | LOCAL_REFERENCE | aae99729138a74d2ffffffffffffffffffffffff0100000002000000\n",
      "\n",
      "\n",
      "192.168.84.193 | 1427 | Driver | <unknown> | ?    | LOCAL_REFERENCE | 2638cdc57fda8d43ffffffffffffffffffffffff0100000002000000\n",
      "\n",
      "\n",
      "192.168.84.193 | 1427 | Driver | <unknown> | ?    | LOCAL_REFERENCE | 8dca14b7f0ef35a5ffffffffffffffffffffffff0100000002000000\n",
      "\n",
      "\n",
      "192.168.84.193 | 1427 | Driver | <unknown> | ?    | LOCAL_REFERENCE | 92f10cea97f12e5dffffffffffffffffffffffff0100000002000000\n",
      "\n",
      "\n",
      "192.168.84.193 | 1427 | Driver | <unknown> | ?    | LOCAL_REFERENCE | 34c9c2094e42fdbfffffffffffffffffffffffff0100000002000000\n",
      "\n",
      "\n",
      "192.168.84.193 | 1427 | Driver | <unknown> | ?    | LOCAL_REFERENCE | d6be6c0e2ea6df93ffffffffffffffffffffffff0100000002000000\n",
      "\n",
      "\n",
      "192.168.84.193 | 1427 | Driver | <unknown> | ?    | LOCAL_REFERENCE | da16cde2289a1051ffffffffffffffffffffffff0100000002000000\n",
      "\n",
      "\n",
      "192.168.84.193 | 1427 | Driver | <unknown> | ?    | LOCAL_REFERENCE | 480a853c2c4c6f27ffffffffffffffffffffffff0100000002000000\n",
      "\n",
      "\n",
      "192.168.84.193 | 1427 | Driver | <unknown> | ?    | LOCAL_REFERENCE | ea50a9a22a3b0d9fffffffffffffffffffffffff0100000002000000\n",
      "\n",
      "\n",
      "192.168.84.193 | 1427 | Driver | <unknown> | ?    | LOCAL_REFERENCE | e625fb24a67e7f4affffffffffffffffffffffff0100000002000000\n",
      "\n",
      "\n",
      "192.168.84.193 | 1427 | Driver | <unknown> | ?    | LOCAL_REFERENCE | 7a3943c8d243e392ffffffffffffffffffffffff0100000002000000\n",
      "\n",
      "\n",
      "192.168.84.193 | 1427 | Driver | <unknown> | ?    | LOCAL_REFERENCE | 30c04f84db70b40cffffffffffffffffffffffff0100000002000000\n",
      "\n",
      "\n",
      "192.168.84.193 | 1427 | Driver | <unknown> | ?    | LOCAL_REFERENCE | b904200e39b72e25ffffffffffffffffffffffff0100000002000000\n",
      "\n",
      "\n",
      "192.168.84.193 | 1427 | Driver | <unknown> | ?    | LOCAL_REFERENCE | 1de3d62ecc441e2dffffffffffffffffffffffff0100000002000000\n",
      "\n",
      "\n",
      "192.168.84.193 | 1427 | Driver | <unknown> | ?    | LOCAL_REFERENCE | 7d0a4228a9578dfeffffffffffffffffffffffff0100000002000000\n",
      "\n",
      "\n",
      "192.168.84.193 | 1427 | Driver | <unknown> | ?    | LOCAL_REFERENCE | 909a212b104ea2f1ffffffffffffffffffffffff0100000002000000\n",
      "\n",
      "\n",
      "192.168.84.193 | 1427 | Driver | <unknown> | ?    | LOCAL_REFERENCE | f65fedf31389fc68ffffffffffffffffffffffff0100000002000000\n",
      "\n",
      "\n",
      "192.168.84.193 | 1427 | Driver | <unknown> | ?    | LOCAL_REFERENCE | b9c64831282591f9ffffffffffffffffffffffff0100000002000000\n",
      "\n",
      "\n",
      "192.168.84.193 | 1427 | Driver | <unknown> | ?    | LOCAL_REFERENCE | 3a78ec95833a4631ffffffffffffffffffffffff0100000002000000\n",
      "\n",
      "\n",
      "192.168.84.193 | 1427 | Driver | <unknown> | ?    | LOCAL_REFERENCE | d3ab1aaf09c00ee8ffffffffffffffffffffffff0100000002000000\n",
      "\n",
      "\n",
      "192.168.84.193 | 1427 | Driver | <unknown> | ?    | LOCAL_REFERENCE | 8ac2990a3c89d814ffffffffffffffffffffffff0100000002000000\n",
      "\n",
      "\n",
      "192.168.84.193 | 1427 | Driver | <unknown> | ?    | LOCAL_REFERENCE | fc51829ebaba45e2ffffffffffffffffffffffff0100000002000000\n",
      "\n",
      "\n",
      "192.168.84.193 | 1427 | Driver | <unknown> | ?    | LOCAL_REFERENCE | c6953afc4a9f69e9ffffffffffffffffffffffff0100000002000000\n",
      "\n",
      "\n",
      "192.168.84.193 | 1427 | Driver | <unknown> | ?    | LOCAL_REFERENCE | 54cc81a39af1e4faffffffffffffffffffffffff0100000002000000\n",
      "\n",
      "\n",
      "192.168.84.193 | 1427 | Driver | <unknown> | ?    | LOCAL_REFERENCE | d68fec326c8433c9ffffffffffffffffffffffff0100000002000000\n",
      "\n",
      "\n",
      "192.168.84.193 | 1427 | Driver | <unknown> | ?    | LOCAL_REFERENCE | 0e940498380997deffffffffffffffffffffffff0100000002000000\n",
      "\n",
      "\n",
      "192.168.84.193 | 1427 | Driver | <unknown> | ?    | LOCAL_REFERENCE | 2948f769827ca076ffffffffffffffffffffffff0100000002000000\n",
      "\n",
      "\n",
      "192.168.84.193 | 1427 | Driver | <unknown> | ?    | LOCAL_REFERENCE | db3ae28ea3d091dbffffffffffffffffffffffff0100000002000000\n",
      "\n",
      "\n",
      "192.168.84.193 | 1427 | Driver | <unknown> | ?    | LOCAL_REFERENCE | 609d7f556b6757adffffffffffffffffffffffff0100000002000000\n",
      "\n",
      "\n",
      "192.168.84.193 | 1427 | Driver | <unknown> | ?    | LOCAL_REFERENCE | 42867781e3b6e074ffffffffffffffffffffffff0100000002000000\n",
      "\n",
      "\n",
      "192.168.84.193 | 1427 | Driver | <unknown> | ?    | LOCAL_REFERENCE | 735730a1bdf733b7ffffffffffffffffffffffff0100000002000000\n",
      "\n",
      "\n",
      "192.168.84.193 | 1427 | Driver | <unknown> | ?    | LOCAL_REFERENCE | dbda44882cfe1588ffffffffffffffffffffffff0100000002000000\n",
      "\n",
      "\n",
      "192.168.84.193 | 1427 | Driver | <unknown> | ?    | LOCAL_REFERENCE | ce2397de373e5655ffffffffffffffffffffffff0100000002000000\n",
      "\n",
      "\n",
      "192.168.84.193 | 1427 | Driver | <unknown> | ?    | LOCAL_REFERENCE | 139e431dd460af76ffffffffffffffffffffffff0100000002000000\n",
      "\n",
      "\n",
      "192.168.84.193 | 1427 | Driver | <unknown> | ?    | LOCAL_REFERENCE | ef25d802e8c24317ffffffffffffffffffffffff0100000002000000\n",
      "\n",
      "\n",
      "192.168.84.193 | 1427 | Driver | <unknown> | ?    | LOCAL_REFERENCE | bde90c6e4585812cffffffffffffffffffffffff0100000002000000\n",
      "\n",
      "\n",
      "192.168.84.193 | 1427 | Driver | <unknown> | ?    | LOCAL_REFERENCE | 485cd1e3cfb4af77ffffffffffffffffffffffff0100000002000000\n",
      "\n",
      "\n",
      "192.168.84.193 | 1427 | Driver | <unknown> | ?    | LOCAL_REFERENCE | 0a18f9286e7f0a3dffffffffffffffffffffffff0100000002000000\n",
      "\n",
      "\n",
      "192.168.84.193 | 1427 | Driver | <unknown> | ?    | LOCAL_REFERENCE | 5b222b7c04dcac35ffffffffffffffffffffffff0100000002000000\n",
      "\n",
      "\n",
      "192.168.84.193 | 1427 | Driver | <unknown> | ?    | LOCAL_REFERENCE | 44ed5e1383be6308ffffffffffffffffffffffff0100000002000000\n",
      "\n",
      "\n",
      "192.168.84.193 | 1427 | Driver | <unknown> | ?    | LOCAL_REFERENCE | eae47e67369247d5ffffffffffffffffffffffff0100000002000000\n",
      "\n",
      "\n",
      "192.168.84.193 | 1427 | Driver | <unknown> | ?    | LOCAL_REFERENCE | e7b04d2c8c844064ffffffffffffffffffffffff0100000002000000\n",
      "\n",
      "\n",
      "192.168.84.193 | 1427 | Driver | <unknown> | ?    | LOCAL_REFERENCE | 8e088f779f48acd6ffffffffffffffffffffffff0100000002000000\n",
      "\n",
      "\n",
      "192.168.84.193 | 1427 | Driver | <unknown> | ?    | LOCAL_REFERENCE | e707441f8900a635ffffffffffffffffffffffff0100000002000000\n",
      "\n",
      "\n",
      "192.168.84.193 | 1427 | Driver | <unknown> | ?    | LOCAL_REFERENCE | a12253d7c747501cffffffffffffffffffffffff0100000002000000\n",
      "\n",
      "\n",
      "192.168.84.193 | 1427 | Driver | <unknown> | ?    | LOCAL_REFERENCE | 964d85edc3bacb5bffffffffffffffffffffffff0100000002000000\n",
      "\n",
      "\n",
      "192.168.84.193 | 1427 | Driver | <unknown> | ?    | LOCAL_REFERENCE | 6346e12fbb9bd273ffffffffffffffffffffffff0100000002000000\n",
      "\n",
      "\n",
      "192.168.84.193 | 1427 | Driver | <unknown> | ?    | LOCAL_REFERENCE | 9d22d7133452b1ffffffffffffffffffffffffff0100000002000000\n",
      "\n",
      "\n",
      "192.168.84.193 | 1427 | Driver | <unknown> | ?    | LOCAL_REFERENCE | cd17d17a5e18c3eaffffffffffffffffffffffff0100000002000000\n",
      "\n",
      "\n",
      "192.168.84.193 | 1427 | Driver | <unknown> | ?    | LOCAL_REFERENCE | 6c1e0b9bd7e2a3a6ffffffffffffffffffffffff0100000002000000\n",
      "\n",
      "\n",
      "192.168.84.193 | 1427 | Driver | <unknown> | ?    | LOCAL_REFERENCE | a56654db7f924b56ffffffffffffffffffffffff0100000002000000\n",
      "\n",
      "\n",
      "192.168.84.193 | 1427 | Driver | <unknown> | ?    | LOCAL_REFERENCE | 9e8c0eaa9bab673cffffffffffffffffffffffff0100000002000000\n",
      "\n",
      "\n",
      "192.168.84.193 | 1427 | Driver | <unknown> | ?    | LOCAL_REFERENCE | edf5de839b4ef7dcffffffffffffffffffffffff0100000002000000\n",
      "\n",
      "\n",
      "192.168.84.193 | 1427 | Driver | <unknown> | ?    | LOCAL_REFERENCE | a14ba7d472277b18ffffffffffffffffffffffff0100000002000000\n",
      "\n",
      "\n",
      "192.168.84.193 | 1427 | Driver | <unknown> | ?    | LOCAL_REFERENCE | 166b6437247067d6ffffffffffffffffffffffff0100000002000000\n",
      "\n",
      "\n",
      "192.168.84.193 | 1427 | Driver | <unknown> | ?    | LOCAL_REFERENCE | f2fc8469c1e2df51ffffffffffffffffffffffff0100000002000000\n",
      "\n",
      "\n",
      "192.168.84.193 | 1427 | Driver | <unknown> | ?    | LOCAL_REFERENCE | a5ae88a63853199dffffffffffffffffffffffff0100000002000000\n",
      "\n",
      "\n",
      "192.168.84.193 | 1427 | Driver | <unknown> | ?    | LOCAL_REFERENCE | 6b33df4961081abdffffffffffffffffffffffff0100000002000000\n",
      "\n",
      "\n",
      "192.168.84.193 | 1427 | Driver | <unknown> | ?    | LOCAL_REFERENCE | 31ffddd68e69d833ffffffffffffffffffffffff0100000002000000\n",
      "\n",
      "\n",
      "192.168.84.193 | 1427 | Driver | <unknown> | ?    | LOCAL_REFERENCE | 36e14f5d7a18682effffffffffffffffffffffff0100000002000000\n",
      "\n",
      "\n",
      "192.168.84.193 | 1427 | Driver | <unknown> | ?    | LOCAL_REFERENCE | 1e9d04d3b7e4dfb2ffffffffffffffffffffffff0100000002000000\n",
      "\n",
      "\n",
      "192.168.84.193 | 1427 | Driver | <unknown> | ?    | LOCAL_REFERENCE | 00c4b50fa56034e6ffffffffffffffffffffffff0100000002000000\n",
      "\n",
      "\n",
      "192.168.84.193 | 1427 | Driver | <unknown> | ?    | LOCAL_REFERENCE | 7513710212de102affffffffffffffffffffffff0100000002000000\n",
      "\n",
      "\n",
      "192.168.84.193 | 1427 | Driver | <unknown> | ?    | LOCAL_REFERENCE | d56d800cbde6ca14ffffffffffffffffffffffff0100000002000000\n",
      "\n",
      "\n",
      "192.168.84.193 | 1427 | Driver | <unknown> | ?    | LOCAL_REFERENCE | f9f296d1eb90d689ffffffffffffffffffffffff0100000002000000\n",
      "\n",
      "\n",
      "192.168.84.193 | 1427 | Driver | <unknown> | ?    | LOCAL_REFERENCE | 402ddcfdf56ca87affffffffffffffffffffffff0100000002000000\n",
      "\n",
      "\n",
      "192.168.84.193 | 1427 | Driver | <unknown> | ?    | LOCAL_REFERENCE | e320f439b49c5157ffffffffffffffffffffffff0100000002000000\n",
      "\n",
      "\n",
      "192.168.84.193 | 1427 | Driver | <unknown> | ?    | LOCAL_REFERENCE | e004d35e3a7c2cb2ffffffffffffffffffffffff0100000002000000\n",
      "\n",
      "\n",
      "192.168.84.193 | 1427 | Driver | <unknown> | ?    | LOCAL_REFERENCE | 38db0ab51c6b6cfbffffffffffffffffffffffff0100000002000000\n",
      "\n",
      "\n",
      "192.168.84.193 | 1427 | Driver | <unknown> | ?    | LOCAL_REFERENCE | 9bb55bc9a880f4ceffffffffffffffffffffffff0100000002000000\n",
      "\n",
      "\n",
      "192.168.84.193 | 1427 | Driver | <unknown> | ?    | LOCAL_REFERENCE | 59f3350af995668affffffffffffffffffffffff0100000002000000\n",
      "\n",
      "\n",
      "192.168.84.193 | 1427 | Driver | <unknown> | ?    | LOCAL_REFERENCE | b01ef3d33cc89dcdffffffffffffffffffffffff0100000002000000\n",
      "\n",
      "\n",
      "192.168.84.193 | 1427 | Driver | <unknown> | ?    | LOCAL_REFERENCE | 2b690075612da717ffffffffffffffffffffffff0100000002000000\n",
      "\n",
      "\n",
      "192.168.84.193 | 1427 | Driver | <unknown> | ?    | LOCAL_REFERENCE | d3ec2e91753e4340ffffffffffffffffffffffff0100000002000000\n",
      "\n",
      "\n",
      "192.168.84.193 | 1427 | Driver | <unknown> | ?    | LOCAL_REFERENCE | 02f9c3a971058d26ffffffffffffffffffffffff0100000002000000\n",
      "\n",
      "\n",
      "192.168.84.193 | 1427 | Driver | <unknown> | ?    | LOCAL_REFERENCE | 6dbd075c28ae20d7ffffffffffffffffffffffff0100000002000000\n",
      "\n",
      "\n",
      "192.168.84.193 | 1427 | Driver | <unknown> | ?    | LOCAL_REFERENCE | 6dc8af0b4b33bcfaffffffffffffffffffffffff0100000002000000\n",
      "\n",
      "\n",
      "192.168.84.193 | 1427 | Driver | <unknown> | ?    | LOCAL_REFERENCE | 931690d20f999d2fffffffffffffffffffffffff0100000002000000\n",
      "\n",
      "\n",
      "192.168.84.193 | 1427 | Driver | <unknown> | ?    | LOCAL_REFERENCE | ec7da20ba0a94845ffffffffffffffffffffffff0100000002000000\n",
      "\n",
      "\n",
      "192.168.84.193 | 1427 | Driver | <unknown> | ?    | LOCAL_REFERENCE | a7f56d220ef857faffffffffffffffffffffffff0100000002000000\n",
      "\n",
      "\n",
      "192.168.84.193 | 1427 | Driver | <unknown> | ?    | LOCAL_REFERENCE | 764f8475f05bf001ffffffffffffffffffffffff0100000002000000\n",
      "\n",
      "\n",
      "192.168.84.193 | 1427 | Driver | <unknown> | ?    | LOCAL_REFERENCE | 3f83646dddac6e52ffffffffffffffffffffffff0100000002000000\n",
      "\n",
      "\n",
      "192.168.84.193 | 1427 | Driver | <unknown> | ?    | LOCAL_REFERENCE | dc81b612c7b1ec30ffffffffffffffffffffffff0100000002000000\n",
      "\n",
      "\n",
      "192.168.84.193 | 1427 | Driver | <unknown> | ?    | LOCAL_REFERENCE | 02bed209b72c305affffffffffffffffffffffff0100000002000000\n",
      "\n",
      "\n",
      "192.168.84.193 | 1427 | Driver | <unknown> | ?    | LOCAL_REFERENCE | 623b26bdd75b28e9ffffffffffffffffffffffff0100000002000000\n",
      "\n",
      "\n",
      "192.168.84.193 | 1427 | Driver | <unknown> | ?    | LOCAL_REFERENCE | 056c456cfc479687ffffffffffffffffffffffff0100000002000000\n",
      "\n",
      "\n",
      "192.168.84.193 | 1427 | Driver | <unknown> | ?    | LOCAL_REFERENCE | b6b1bf9bcf8721b5ffffffffffffffffffffffff0100000002000000\n",
      "\n",
      "\n",
      "192.168.84.193 | 1427 | Driver | <unknown> | ?    | LOCAL_REFERENCE | 1512d441ba7a26bcffffffffffffffffffffffff0100000002000000\n",
      "\n",
      "\n",
      "192.168.84.193 | 1427 | Driver | <unknown> | ?    | LOCAL_REFERENCE | d68840d2161b10fbffffffffffffffffffffffff0100000002000000\n",
      "\n",
      "\n",
      "192.168.84.193 | 1427 | Driver | <unknown> | ?    | LOCAL_REFERENCE | 5d51c9acaefe7611ffffffffffffffffffffffff0100000002000000\n",
      "\n",
      "\n",
      "192.168.84.193 | 1427 | Driver | <unknown> | ?    | LOCAL_REFERENCE | d9550f926994eccdffffffffffffffffffffffff0100000002000000\n",
      "\n",
      "\n",
      "192.168.84.193 | 1427 | Driver | <unknown> | ?    | LOCAL_REFERENCE | b361d7a36076b6a6ffffffffffffffffffffffff0100000002000000\n",
      "\n",
      "\n",
      "192.168.84.193 | 1427 | Driver | <unknown> | ?    | LOCAL_REFERENCE | 0fb939667ee64409ffffffffffffffffffffffff0100000002000000\n",
      "\n",
      "\n",
      "192.168.84.193 | 1427 | Driver | <unknown> | ?    | LOCAL_REFERENCE | fddd08b1d1ce0c2bffffffffffffffffffffffff0100000002000000\n",
      "\n",
      "\n",
      "192.168.84.193 | 1427 | Driver | <unknown> | ?    | LOCAL_REFERENCE | 4ee449587774c1f0ffffffffffffffffffffffff0100000002000000\n",
      "\n",
      "\n",
      "192.168.84.193 | 1427 | Driver | <unknown> | ?    | LOCAL_REFERENCE | 671f1fd57bc3e36effffffffffffffffffffffff0100000002000000\n",
      "\n",
      "\n",
      "192.168.84.193 | 1427 | Driver | <unknown> | ?    | LOCAL_REFERENCE | 4ddf996cc45c7de5ffffffffffffffffffffffff0100000002000000\n",
      "\n",
      "\n",
      "192.168.84.193 | 1427 | Driver | <unknown> | ?    | LOCAL_REFERENCE | 11ac9524461283ceffffffffffffffffffffffff0100000002000000\n",
      "\n",
      "\n",
      "192.168.84.193 | 1427 | Driver | <unknown> | ?    | LOCAL_REFERENCE | a52e5caf016c1aebffffffffffffffffffffffff0100000002000000\n",
      "\n",
      "\n",
      "192.168.84.193 | 1427 | Driver | <unknown> | ?    | LOCAL_REFERENCE | 2ba2de5a059b7c7affffffffffffffffffffffff0100000002000000\n",
      "\n",
      "\n",
      "192.168.84.193 | 1427 | Driver | <unknown> | ?    | LOCAL_REFERENCE | 7d174d6864a3d2bbffffffffffffffffffffffff0100000002000000\n",
      "\n",
      "\n",
      "192.168.84.193 | 1427 | Driver | <unknown> | ?    | LOCAL_REFERENCE | adfbf615e1b4bed2ffffffffffffffffffffffff0100000002000000\n",
      "\n",
      "\n",
      "192.168.84.193 | 1427 | Driver | <unknown> | ?    | LOCAL_REFERENCE | e310f8a190d13b09ffffffffffffffffffffffff0100000002000000\n",
      "\n",
      "\n",
      "192.168.84.193 | 1427 | Driver | <unknown> | ?    | LOCAL_REFERENCE | 98899ba4786b29ddffffffffffffffffffffffff0100000002000000\n",
      "\n",
      "\n",
      "192.168.84.193 | 1427 | Driver | <unknown> | ?    | LOCAL_REFERENCE | ff1eb204d30f6c0fffffffffffffffffffffffff0100000002000000\n",
      "\n",
      "\n",
      "192.168.84.193 | 1427 | Driver | <unknown> | ?    | LOCAL_REFERENCE | 9ce1987488ca1394ffffffffffffffffffffffff0100000002000000\n",
      "\n",
      "\n",
      "192.168.84.193 | 1427 | Driver | <unknown> | ?    | LOCAL_REFERENCE | 792da9e7d09a2b93ffffffffffffffffffffffff0100000002000000\n",
      "\n",
      "\n",
      "192.168.84.193 | 1427 | Driver | <unknown> | ?    | LOCAL_REFERENCE | 3cbb460a53b9781affffffffffffffffffffffff0100000002000000\n",
      "\n",
      "\n",
      "192.168.84.193 | 1427 | Driver | <unknown> | ?    | LOCAL_REFERENCE | 4c37da832ee7bc31ffffffffffffffffffffffff0100000002000000\n",
      "\n",
      "\n",
      "192.168.84.193 | 1427 | Driver | <unknown> | ?    | LOCAL_REFERENCE | ee4e90da584ab0ebffffffffffffffffffffffff0100000002000000\n",
      "\n",
      "\n",
      "192.168.84.193 | 1427 | Driver | <unknown> | ?    | LOCAL_REFERENCE | 21711c35be2858f6ffffffffffffffffffffffff0100000002000000\n",
      "\n",
      "\n",
      "192.168.84.193 | 1427 | Driver | <unknown> | ?    | LOCAL_REFERENCE | e5eb40d302a6fdfaffffffffffffffffffffffff0100000002000000\n",
      "\n",
      "\n",
      "192.168.84.193 | 1427 | Driver | <unknown> | ?    | LOCAL_REFERENCE | 52776386fecbac7affffffffffffffffffffffff0100000002000000\n",
      "\n",
      "\n",
      "192.168.84.193 | 1427 | Driver | <unknown> | ?    | LOCAL_REFERENCE | 7c4496026a641650ffffffffffffffffffffffff0100000002000000\n",
      "\n",
      "\n",
      "192.168.84.193 | 1427 | Driver | <unknown> | ?    | LOCAL_REFERENCE | 68ecb7b4eb086e6affffffffffffffffffffffff0100000002000000\n",
      "\n",
      "\n",
      "192.168.84.193 | 1427 | Driver | <unknown> | ?    | LOCAL_REFERENCE | b9679322487eb9c3ffffffffffffffffffffffff0100000002000000\n",
      "\n",
      "\n",
      "192.168.84.193 | 1427 | Driver | <unknown> | ?    | LOCAL_REFERENCE | acb2f4769a638593ffffffffffffffffffffffff0100000002000000\n",
      "\n",
      "\n",
      "192.168.84.193 | 1427 | Driver | <unknown> | ?    | LOCAL_REFERENCE | 2fe79181c2b3eb83ffffffffffffffffffffffff0100000002000000\n",
      "\n",
      "\n",
      "192.168.84.193 | 1427 | Driver | <unknown> | ?    | LOCAL_REFERENCE | c96088b12950798bffffffffffffffffffffffff0100000002000000\n",
      "\n",
      "\n",
      "192.168.84.193 | 1427 | Driver | <unknown> | ?    | LOCAL_REFERENCE | d5a75db31f99bd73ffffffffffffffffffffffff0100000002000000\n",
      "\n",
      "\n",
      "192.168.84.193 | 1427 | Driver | <unknown> | ?    | LOCAL_REFERENCE | 11b5fcd52d49c071ffffffffffffffffffffffff0100000002000000\n",
      "\n",
      "\n",
      "192.168.84.193 | 1427 | Driver | <unknown> | ?    | LOCAL_REFERENCE | 47d445c93c6a7903ffffffffffffffffffffffff0100000002000000\n",
      "\n",
      "\n",
      "192.168.84.193 | 1427 | Driver | <unknown> | ?    | LOCAL_REFERENCE | dca45053799be206ffffffffffffffffffffffff0100000002000000\n",
      "\n",
      "\n",
      "192.168.84.193 | 1427 | Driver | <unknown> | ?    | LOCAL_REFERENCE | f7dc3a80d7a578ceffffffffffffffffffffffff0100000002000000\n",
      "\n",
      "\n",
      "192.168.84.193 | 1427 | Driver | <unknown> | ?    | LOCAL_REFERENCE | 92d4c064f994815effffffffffffffffffffffff0100000002000000\n",
      "\n",
      "\n",
      "192.168.84.193 | 1427 | Driver | <unknown> | ?    | LOCAL_REFERENCE | 24a16b24332d04c0ffffffffffffffffffffffff0100000002000000\n",
      "\n",
      "\n",
      "192.168.84.193 | 1427 | Driver | <unknown> | ?    | LOCAL_REFERENCE | 680bcac5eaead5beffffffffffffffffffffffff0100000002000000\n",
      "\n",
      "\n",
      "192.168.84.193 | 1427 | Driver | <unknown> | ?    | LOCAL_REFERENCE | 4e2ab276f14c37c2ffffffffffffffffffffffff0100000002000000\n",
      "\n",
      "\n",
      "192.168.84.193 | 1427 | Driver | <unknown> | ?    | LOCAL_REFERENCE | b19d0cb50d2bae9dffffffffffffffffffffffff0100000002000000\n",
      "\n",
      "\n",
      "192.168.84.193 | 1427 | Driver | <unknown> | ?    | LOCAL_REFERENCE | a4b140629d390f70ffffffffffffffffffffffff0100000002000000\n",
      "\n",
      "\n",
      "192.168.84.193 | 1427 | Driver | <unknown> | ?    | LOCAL_REFERENCE | 25b29c22c19f79d2ffffffffffffffffffffffff0100000002000000\n",
      "\n",
      "\n",
      "192.168.84.193 | 1427 | Driver | <unknown> | ?    | LOCAL_REFERENCE | a41fc1586ae77e55ffffffffffffffffffffffff0100000002000000\n",
      "\n",
      "\n",
      "192.168.84.193 | 1427 | Driver | <unknown> | ?    | LOCAL_REFERENCE | d695335b811eab9bffffffffffffffffffffffff0100000002000000\n",
      "\n",
      "\n",
      "192.168.84.193 | 1427 | Driver | <unknown> | ?    | LOCAL_REFERENCE | aa64d94c3d0cf856ffffffffffffffffffffffff0100000002000000\n",
      "\n",
      "\n",
      "192.168.84.193 | 1427 | Driver | <unknown> | ?    | LOCAL_REFERENCE | eb7cccec83cc166cffffffffffffffffffffffff0100000002000000\n",
      "\n",
      "\n",
      "192.168.84.193 | 1427 | Driver |           | ?    | ACTOR_HANDLE   | ffffffffffffffffc2864d56385a6324af4fff2e0100000001000000\n",
      "\n",
      "\n",
      "192.168.84.193 | 1427 | Driver | <unknown> | ?    | LOCAL_REFERENCE | 6f4f08f301901921ffffffffffffffffffffffff0100000002000000\n",
      "\n",
      "\n",
      "192.168.84.193 | 1427 | Driver | <unknown> | ?    | LOCAL_REFERENCE | 69a6825d641b4613ffffffffffffffffffffffff0100000002000000\n",
      "\n",
      "\n",
      "192.168.84.193 | 1427 | Driver | <unknown> | ?    | LOCAL_REFERENCE | e11fe2800445c79affffffffffffffffffffffff0100000002000000\n",
      "\n",
      "\n",
      "192.168.84.193 | 1427 | Driver | <unknown> | ?    | LOCAL_REFERENCE | 8d810c38302b25afffffffffffffffffffffffff0100000002000000\n",
      "\n",
      "\n",
      "192.168.84.193 | 1427 | Driver | <unknown> | ?    | LOCAL_REFERENCE | 1ef5eb26e201102dffffffffffffffffffffffff0100000002000000\n",
      "\n",
      "\n",
      "192.168.84.193 | 1427 | Driver | <unknown> | ?    | LOCAL_REFERENCE | b4bba3bd025ddc5effffffffffffffffffffffff0100000002000000\n",
      "\n",
      "\n",
      "192.168.84.193 | 1427 | Driver | <unknown> | ?    | LOCAL_REFERENCE | 9d78bd90898368caffffffffffffffffffffffff0100000002000000\n",
      "\n",
      "\n",
      "192.168.84.193 | 1427 | Driver | <unknown> | ?    | LOCAL_REFERENCE | 40aed905f700f037ffffffffffffffffffffffff0100000002000000\n",
      "\n",
      "\n",
      "192.168.84.193 | 1427 | Driver | <unknown> | ?    | LOCAL_REFERENCE | 2f41f345ddf68417ffffffffffffffffffffffff0100000002000000\n",
      "\n",
      "\n",
      "192.168.84.193 | 1427 | Driver | <unknown> | ?    | LOCAL_REFERENCE | 20d3f3cc944a6233ffffffffffffffffffffffff0100000002000000\n",
      "\n",
      "\n",
      "192.168.84.193 | 1427 | Driver | <unknown> | ?    | LOCAL_REFERENCE | ad2654ac589a3f88ffffffffffffffffffffffff0100000002000000\n",
      "\n",
      "\n",
      "192.168.84.193 | 1427 | Driver |           | 350.0 B | LOCAL_REFERENCE | 056c456cfc479687ffffffffffffffffffffffff0100000001000000\n",
      "\n",
      "\n",
      "192.168.84.193 | 1427 | Driver |           | 350.0 B | LOCAL_REFERENCE | bbde8638d39a1245ffffffffffffffffffffffff0100000001000000\n",
      "\n",
      "\n",
      "192.168.84.193 | 1427 | Driver |           | 350.0 B | LOCAL_REFERENCE | 46766c5b0167bafaffffffffffffffffffffffff0100000001000000\n",
      "\n",
      "\n",
      "192.168.84.193 | 1427 | Driver |           | 350.0 B | LOCAL_REFERENCE | 6c1e0b9bd7e2a3a6ffffffffffffffffffffffff0100000001000000\n",
      "\n",
      "\n",
      "192.168.84.193 | 1427 | Driver |           | 350.0 B | LOCAL_REFERENCE | f2fc8469c1e2df51ffffffffffffffffffffffff0100000001000000\n",
      "\n",
      "\n",
      "192.168.84.193 | 1427 | Driver |           | 350.0 B | LOCAL_REFERENCE | 5497aa04f981e4a1ffffffffffffffffffffffff0100000001000000\n",
      "\n",
      "\n",
      "192.168.84.193 | 1427 | Driver |           | 350.0 B | LOCAL_REFERENCE | 7fabc23126d27f51ffffffffffffffffffffffff0100000001000000\n",
      "\n",
      "\n",
      "192.168.84.193 | 1427 | Driver |           | 350.0 B | LOCAL_REFERENCE | 9e8c0eaa9bab673cffffffffffffffffffffffff0100000001000000\n",
      "\n",
      "\n",
      "192.168.84.193 | 1427 | Driver |           | 350.0 B | LOCAL_REFERENCE | 92d4c064f994815effffffffffffffffffffffff0100000001000000\n",
      "\n",
      "\n",
      "192.168.84.193 | 1427 | Driver |           | 350.0 B | LOCAL_REFERENCE | a5ae88a63853199dffffffffffffffffffffffff0100000001000000\n",
      "\n",
      "\n",
      "192.168.84.193 | 1427 | Driver |           | 350.0 B | LOCAL_REFERENCE | 1de3d62ecc441e2dffffffffffffffffffffffff0100000001000000\n",
      "\n",
      "\n",
      "192.168.84.193 | 1427 | Driver |           | 350.0 B | LOCAL_REFERENCE | f9f296d1eb90d689ffffffffffffffffffffffff0100000001000000\n",
      "\n",
      "\n",
      "192.168.84.193 | 1427 | Driver |           | 350.0 B | LOCAL_REFERENCE | fddd08b1d1ce0c2bffffffffffffffffffffffff0100000001000000\n",
      "\n",
      "\n",
      "192.168.84.193 | 1427 | Driver |           | 350.0 B | LOCAL_REFERENCE | 59f76feddb5a7dbcffffffffffffffffffffffff0100000001000000\n",
      "\n",
      "\n",
      "192.168.84.193 | 1427 | Driver |           | 350.0 B | LOCAL_REFERENCE | ee4e90da584ab0ebffffffffffffffffffffffff0100000001000000\n",
      "\n",
      "\n",
      "192.168.84.193 | 1427 | Driver |           | 350.0 B | LOCAL_REFERENCE | 9624f296d48a0a19ffffffffffffffffffffffff0100000001000000\n",
      "\n",
      "\n",
      "192.168.84.193 | 1427 | Driver |           | 350.0 B | LOCAL_REFERENCE | 3a4bb9b95c2938a4ffffffffffffffffffffffff0100000001000000\n",
      "\n",
      "\n",
      "192.168.84.193 | 1427 | Driver |           | 350.0 B | LOCAL_REFERENCE | 02bed209b72c305affffffffffffffffffffffff0100000001000000\n",
      "\n",
      "\n",
      "192.168.84.193 | 1427 | Driver |           | 350.0 B | LOCAL_REFERENCE | d89139dd4ad01734ffffffffffffffffffffffff0100000001000000\n",
      "\n",
      "\n",
      "192.168.84.193 | 1427 | Driver |           | 350.0 B | LOCAL_REFERENCE | 38db0ab51c6b6cfbffffffffffffffffffffffff0100000001000000\n",
      "\n",
      "\n",
      "192.168.84.193 | 1427 | Driver |           | 350.0 B | LOCAL_REFERENCE | ed64f45346849778ffffffffffffffffffffffff0100000001000000\n",
      "\n",
      "\n",
      "192.168.84.193 | 1427 | Driver |           | 350.0 B | LOCAL_REFERENCE | c3a51edce6322cb0ffffffffffffffffffffffff0100000001000000\n",
      "\n",
      "\n",
      "192.168.84.193 | 1427 | Driver |           | 350.0 B | LOCAL_REFERENCE | b9c64831282591f9ffffffffffffffffffffffff0100000001000000\n",
      "\n",
      "\n",
      "192.168.84.193 | 1427 | Driver |           | 350.0 B | LOCAL_REFERENCE | 4817e60e48bb672affffffffffffffffffffffff0100000001000000\n",
      "\n",
      "\n",
      "192.168.84.193 | 1427 | Driver |           | 350.0 B | LOCAL_REFERENCE | edf5de839b4ef7dcffffffffffffffffffffffff0100000001000000\n",
      "\n",
      "\n",
      "192.168.84.193 | 1427 | Driver |           | 350.0 B | LOCAL_REFERENCE | 480a853c2c4c6f27ffffffffffffffffffffffff0100000001000000\n",
      "\n",
      "\n",
      "192.168.84.193 | 1427 | Driver |           | 350.0 B | LOCAL_REFERENCE | d9550f926994eccdffffffffffffffffffffffff0100000001000000\n",
      "\n",
      "\n",
      "192.168.84.193 | 1427 | Driver |           | 350.0 B | LOCAL_REFERENCE | 1ef5eb26e201102dffffffffffffffffffffffff0100000001000000\n",
      "\n",
      "\n",
      "192.168.84.193 | 1427 | Driver |           | 350.0 B | LOCAL_REFERENCE | 2b690075612da717ffffffffffffffffffffffff0100000001000000\n",
      "\n",
      "\n",
      "192.168.84.193 | 1427 | Driver |           | 350.0 B | LOCAL_REFERENCE | 3cbb460a53b9781affffffffffffffffffffffff0100000001000000\n",
      "\n",
      "\n",
      "192.168.84.193 | 1427 | Driver |           | 350.0 B | LOCAL_REFERENCE | 24eed4584329c19affffffffffffffffffffffff0100000001000000\n",
      "\n",
      "\n",
      "192.168.84.193 | 1427 | Driver |           | 350.0 B | LOCAL_REFERENCE | 7a3943c8d243e392ffffffffffffffffffffffff0100000001000000\n",
      "\n",
      "\n",
      "192.168.84.193 | 1427 | Driver |           | 350.0 B | LOCAL_REFERENCE | 792da9e7d09a2b93ffffffffffffffffffffffff0100000001000000\n",
      "\n",
      "\n",
      "192.168.84.193 | 1427 | Driver |           | 350.0 B | LOCAL_REFERENCE | d3ab1aaf09c00ee8ffffffffffffffffffffffff0100000001000000\n",
      "\n",
      "\n",
      "192.168.84.193 | 1427 | Driver |           | 350.0 B | LOCAL_REFERENCE | bde90c6e4585812cffffffffffffffffffffffff0100000001000000\n",
      "\n",
      "\n",
      "192.168.84.193 | 1427 | Driver |           | 350.0 B | LOCAL_REFERENCE | 5b222b7c04dcac35ffffffffffffffffffffffff0100000001000000\n",
      "\n",
      "\n",
      "192.168.84.193 | 1427 | Driver |           | 350.0 B | LOCAL_REFERENCE | 47d445c93c6a7903ffffffffffffffffffffffff0100000001000000\n",
      "\n",
      "\n",
      "192.168.84.193 | 1427 | Driver |           | 350.0 B | LOCAL_REFERENCE | 77cd0cc01feb307dffffffffffffffffffffffff0100000001000000\n",
      "\n",
      "\n",
      "192.168.84.193 | 1427 | Driver |           | 350.0 B | LOCAL_REFERENCE | 59f3350af995668affffffffffffffffffffffff0100000001000000\n",
      "\n",
      "\n",
      "192.168.84.193 | 1427 | Driver |           | 350.0 B | LOCAL_REFERENCE | ad2654ac589a3f88ffffffffffffffffffffffff0100000001000000\n",
      "\n",
      "\n",
      "192.168.84.193 | 1427 | Driver |           | 350.0 B | LOCAL_REFERENCE | 5e4556eab3523b9cffffffffffffffffffffffff0100000001000000\n",
      "\n",
      "\n",
      "192.168.84.193 | 1427 | Driver |           | 350.0 B | LOCAL_REFERENCE | 6346e12fbb9bd273ffffffffffffffffffffffff0100000001000000\n",
      "\n",
      "\n",
      "192.168.84.193 | 1427 | Driver |           | 350.0 B | LOCAL_REFERENCE | faf123d8b1b35293ffffffffffffffffffffffff0100000001000000\n",
      "\n",
      "\n",
      "192.168.84.193 | 1427 | Driver |           | 350.0 B | LOCAL_REFERENCE | 99e62cd984b8c7deffffffffffffffffffffffff0100000001000000\n",
      "\n",
      "\n",
      "192.168.84.193 | 1427 | Driver |           | 350.0 B | LOCAL_REFERENCE | dca45053799be206ffffffffffffffffffffffff0100000001000000\n",
      "\n",
      "\n",
      "192.168.84.193 | 1427 | Driver |           | 350.0 B | LOCAL_REFERENCE | f65fedf31389fc68ffffffffffffffffffffffff0100000001000000\n",
      "\n",
      "\n",
      "192.168.84.193 | 1427 | Driver |           | 350.0 B | LOCAL_REFERENCE | d4cd095eff01a11fffffffffffffffffffffffff0100000001000000\n",
      "\n",
      "\n",
      "192.168.84.193 | 1427 | Driver |           | 350.0 B | LOCAL_REFERENCE | f74e3e0219621f0bffffffffffffffffffffffff0100000001000000\n",
      "\n",
      "\n",
      "192.168.84.193 | 1427 | Driver |           | 350.0 B | LOCAL_REFERENCE | ff1eb204d30f6c0fffffffffffffffffffffffff0100000001000000\n",
      "\n",
      "\n",
      "192.168.84.193 | 1427 | Driver |           | 350.0 B | LOCAL_REFERENCE | 19f1295112af6a56ffffffffffffffffffffffff0100000001000000\n",
      "\n",
      "\n",
      "192.168.84.193 | 1427 | Driver |           | 350.0 B | LOCAL_REFERENCE | 34c9c2094e42fdbfffffffffffffffffffffffff0100000001000000\n",
      "\n",
      "\n",
      "192.168.84.193 | 1427 | Driver |           | 350.0 B | LOCAL_REFERENCE | 8e088f779f48acd6ffffffffffffffffffffffff0100000001000000\n",
      "\n",
      "\n",
      "192.168.84.193 | 1427 | Driver |           | 350.0 B | LOCAL_REFERENCE | b9679322487eb9c3ffffffffffffffffffffffff0100000001000000\n",
      "\n",
      "\n",
      "192.168.84.193 | 1427 | Driver |           | 350.0 B | LOCAL_REFERENCE | 623b26bdd75b28e9ffffffffffffffffffffffff0100000001000000\n",
      "\n",
      "\n",
      "192.168.84.193 | 1427 | Driver |           | 350.0 B | LOCAL_REFERENCE | 3e63a51020b5b425ffffffffffffffffffffffff0100000001000000\n",
      "\n",
      "\n",
      "192.168.84.193 | 1427 | Driver |           | 350.0 B | LOCAL_REFERENCE | acb2f4769a638593ffffffffffffffffffffffff0100000001000000\n",
      "\n",
      "\n",
      "192.168.84.193 | 1427 | Driver |           | 350.0 B | LOCAL_REFERENCE | 2638cdc57fda8d43ffffffffffffffffffffffff0100000001000000\n",
      "\n",
      "\n",
      "192.168.84.193 | 1427 | Driver |           | 350.0 B | LOCAL_REFERENCE | da16cde2289a1051ffffffffffffffffffffffff0100000001000000\n",
      "\n",
      "\n",
      "192.168.84.193 | 1427 | Driver |           | 350.0 B | LOCAL_REFERENCE | ec7da20ba0a94845ffffffffffffffffffffffff0100000001000000\n",
      "\n",
      "\n",
      "192.168.84.193 | 1427 | Driver |           | 350.0 B | LOCAL_REFERENCE | ff263408fac73fd7ffffffffffffffffffffffff0100000001000000\n",
      "\n",
      "\n",
      "192.168.84.193 | 1427 | Driver |           | 350.0 B | LOCAL_REFERENCE | 9f8d7f46a2c850cfffffffffffffffffffffffff0100000001000000\n",
      "\n",
      "\n",
      "192.168.84.193 | 1427 | Driver |           | 350.0 B | LOCAL_REFERENCE | a14ba7d472277b18ffffffffffffffffffffffff0100000001000000\n",
      "\n",
      "\n",
      "192.168.84.193 | 1427 | Driver |           | 350.0 B | LOCAL_REFERENCE | 4ee449587774c1f0ffffffffffffffffffffffff0100000001000000\n",
      "\n",
      "\n",
      "192.168.84.193 | 1427 | Driver |           | 350.0 B | LOCAL_REFERENCE | 7c4496026a641650ffffffffffffffffffffffff0100000001000000\n",
      "\n",
      "\n",
      "192.168.84.193 | 1427 | Driver |           | 350.0 B | LOCAL_REFERENCE | a4b140629d390f70ffffffffffffffffffffffff0100000001000000\n",
      "\n",
      "\n",
      "192.168.84.193 | 1427 | Driver |           | 350.0 B | LOCAL_REFERENCE | d5a75db31f99bd73ffffffffffffffffffffffff0100000001000000\n",
      "\n",
      "\n",
      "192.168.84.193 | 1427 | Driver |           | 350.0 B | LOCAL_REFERENCE | a52e5caf016c1aebffffffffffffffffffffffff0100000001000000\n",
      "\n",
      "\n",
      "192.168.84.193 | 1427 | Driver |           | 350.0 B | LOCAL_REFERENCE | 166b6437247067d6ffffffffffffffffffffffff0100000001000000\n",
      "\n",
      "\n",
      "192.168.84.193 | 1427 | Driver |           | 350.0 B | LOCAL_REFERENCE | 283cd1aaa77ebfceffffffffffffffffffffffff0100000001000000\n",
      "\n",
      "\n",
      "192.168.84.193 | 1427 | Driver |           | 350.0 B | LOCAL_REFERENCE | 98899ba4786b29ddffffffffffffffffffffffff0100000001000000\n",
      "\n",
      "\n",
      "192.168.84.193 | 1427 | Driver |           | 350.0 B | LOCAL_REFERENCE | 44ed5e1383be6308ffffffffffffffffffffffff0100000001000000\n",
      "\n",
      "\n",
      "192.168.84.193 | 1427 | Driver |           | 350.0 B | LOCAL_REFERENCE | c361e4b8895ba43cffffffffffffffffffffffff0100000001000000\n",
      "\n",
      "\n",
      "192.168.84.193 | 1427 | Driver |           | 350.0 B | LOCAL_REFERENCE | 54cc81a39af1e4faffffffffffffffffffffffff0100000001000000\n",
      "\n",
      "\n",
      "192.168.84.193 | 1427 | Driver |           | 350.0 B | LOCAL_REFERENCE | b19d0cb50d2bae9dffffffffffffffffffffffff0100000001000000\n",
      "\n",
      "\n",
      "192.168.84.193 | 1427 | Driver |           | 350.0 B | LOCAL_REFERENCE | e11fe2800445c79affffffffffffffffffffffff0100000001000000\n",
      "\n",
      "\n",
      "192.168.84.193 | 1427 | Driver |           | 350.0 B | LOCAL_REFERENCE | 68ecb7b4eb086e6affffffffffffffffffffffff0100000001000000\n",
      "\n",
      "\n",
      "192.168.84.193 | 1427 | Driver |           | 350.0 B | LOCAL_REFERENCE | eae47e67369247d5ffffffffffffffffffffffff0100000001000000\n",
      "\n",
      "\n",
      "192.168.84.193 | 1427 | Driver |           | 350.0 B | LOCAL_REFERENCE | 1e9d04d3b7e4dfb2ffffffffffffffffffffffff0100000001000000\n",
      "\n",
      "\n",
      "192.168.84.193 | 1427 | Driver |           | 350.0 B | LOCAL_REFERENCE | 4ddf996cc45c7de5ffffffffffffffffffffffff0100000001000000\n",
      "\n",
      "\n",
      "192.168.84.193 | 1427 | Driver |           | 350.0 B | LOCAL_REFERENCE | 0a18f9286e7f0a3dffffffffffffffffffffffff0100000001000000\n",
      "\n",
      "\n",
      "192.168.84.193 | 1427 | Driver |           | 350.0 B | LOCAL_REFERENCE | 7d118de670c46e28ffffffffffffffffffffffff0100000001000000\n",
      "\n",
      "\n",
      "192.168.84.193 | 1427 | Driver |           | 350.0 B | LOCAL_REFERENCE | dc81b612c7b1ec30ffffffffffffffffffffffff0100000001000000\n",
      "\n",
      "\n",
      "192.168.84.193 | 1427 | Driver |           | 350.0 B | LOCAL_REFERENCE | 20d3f3cc944a6233ffffffffffffffffffffffff0100000001000000\n",
      "\n",
      "\n",
      "192.168.84.193 | 1427 | Driver |           | 350.0 B | LOCAL_REFERENCE | 85186699e206774effffffffffffffffffffffff0100000001000000\n",
      "\n",
      "\n",
      "192.168.84.193 | 1427 | Driver |           | 350.0 B | LOCAL_REFERENCE | 3a78ec95833a4631ffffffffffffffffffffffff0100000001000000\n",
      "\n",
      "\n",
      "192.168.84.193 | 1427 | Driver |           | 350.0 B | LOCAL_REFERENCE | b01ef3d33cc89dcdffffffffffffffffffffffff0100000001000000\n",
      "\n",
      "\n",
      "192.168.84.193 | 1427 | Driver |           | 350.0 B | LOCAL_REFERENCE | d68fec326c8433c9ffffffffffffffffffffffff0100000001000000\n",
      "\n",
      "\n",
      "192.168.84.193 | 1427 | Driver |           | 350.0 B | LOCAL_REFERENCE | 2948f769827ca076ffffffffffffffffffffffff0100000001000000\n",
      "\n",
      "\n",
      "192.168.84.193 | 1427 | Driver |           | 350.0 B | LOCAL_REFERENCE | c6953afc4a9f69e9ffffffffffffffffffffffff0100000001000000\n",
      "\n",
      "\n",
      "192.168.84.193 | 1427 | Driver |           | 350.0 B | LOCAL_REFERENCE | 27c0dca5954f99afffffffffffffffffffffffff0100000001000000\n",
      "\n",
      "\n",
      "192.168.84.193 | 1427 | Driver |           | 350.0 B | LOCAL_REFERENCE | f72915c3acda6455ffffffffffffffffffffffff0100000001000000\n",
      "\n",
      "\n",
      "192.168.84.193 | 1427 | Driver |           | 350.0 B | LOCAL_REFERENCE | cdcaca9b2d0112c5ffffffffffffffffffffffff0100000001000000\n",
      "\n",
      "\n",
      "192.168.84.193 | 1427 | Driver |           | 350.0 B | LOCAL_REFERENCE | a12253d7c747501cffffffffffffffffffffffff0100000001000000\n",
      "\n",
      "\n",
      "192.168.84.193 | 1427 | Driver |           | 350.0 B | LOCAL_REFERENCE | e707441f8900a635ffffffffffffffffffffffff0100000001000000\n",
      "\n",
      "\n",
      "192.168.84.193 | 1427 | Driver |           | 350.0 B | LOCAL_REFERENCE | 139e431dd460af76ffffffffffffffffffffffff0100000001000000\n",
      "\n",
      "\n",
      "192.168.84.193 | 1427 | Driver |           | 350.0 B | LOCAL_REFERENCE | e320f439b49c5157ffffffffffffffffffffffff0100000001000000\n",
      "\n",
      "\n",
      "192.168.84.193 | 1427 | Driver |           | 350.0 B | LOCAL_REFERENCE | e07eebba574c5c52ffffffffffffffffffffffff0100000001000000\n",
      "\n",
      "\n",
      "192.168.84.193 | 1427 | Driver |           | 350.0 B | LOCAL_REFERENCE | 3f903472d63abe4effffffffffffffffffffffff0100000001000000\n",
      "\n",
      "\n",
      "192.168.84.193 | 1427 | Driver |           | 350.0 B | LOCAL_REFERENCE | 30c04f84db70b40cffffffffffffffffffffffff0100000001000000\n",
      "\n",
      "\n",
      "192.168.84.193 | 1427 | Driver |           | 350.0 B | LOCAL_REFERENCE | 5d51c9acaefe7611ffffffffffffffffffffffff0100000001000000\n",
      "\n",
      "\n",
      "192.168.84.193 | 1427 | Driver |           | 350.0 B | LOCAL_REFERENCE | 43bdcf5f0df9124cffffffffffffffffffffffff0100000001000000\n",
      "\n",
      "\n",
      "192.168.84.193 | 1427 | Driver |           | 350.0 B | LOCAL_REFERENCE | 735730a1bdf733b7ffffffffffffffffffffffff0100000001000000\n",
      "\n",
      "\n",
      "192.168.84.193 | 1427 | Driver |           | 350.0 B | LOCAL_REFERENCE | f7dc3a80d7a578ceffffffffffffffffffffffff0100000001000000\n",
      "\n",
      "\n",
      "192.168.84.193 | 1427 | Driver |           | 350.0 B | LOCAL_REFERENCE | a15e43fc986a9597ffffffffffffffffffffffff0100000001000000\n",
      "\n",
      "\n",
      "192.168.84.193 | 1427 | Driver |           | 350.0 B | LOCAL_REFERENCE | 25b29c22c19f79d2ffffffffffffffffffffffff0100000001000000\n",
      "\n",
      "\n",
      "192.168.84.193 | 1427 | Driver |           | 350.0 B | LOCAL_REFERENCE | 671f1fd57bc3e36effffffffffffffffffffffff0100000001000000\n",
      "\n",
      "\n",
      "192.168.84.193 | 1427 | Driver |           | 350.0 B | LOCAL_REFERENCE | 4e2ab276f14c37c2ffffffffffffffffffffffff0100000001000000\n",
      "\n",
      "\n",
      "192.168.84.193 | 1427 | Driver |           | 350.0 B | LOCAL_REFERENCE | 609d7f556b6757adffffffffffffffffffffffff0100000001000000\n",
      "\n",
      "\n",
      "192.168.84.193 | 1427 | Driver |           | 350.0 B | LOCAL_REFERENCE | 6f4f08f301901921ffffffffffffffffffffffff0100000001000000\n",
      "\n",
      "\n",
      "192.168.84.193 | 1427 | Driver |           | 350.0 B | LOCAL_REFERENCE | d6be6c0e2ea6df93ffffffffffffffffffffffff0100000001000000\n",
      "\n",
      "\n",
      "192.168.84.193 | 1427 | Driver |           | 350.0 B | LOCAL_REFERENCE | e7b04d2c8c844064ffffffffffffffffffffffff0100000001000000\n",
      "\n",
      "\n",
      "192.168.84.193 | 1427 | Driver |           | 350.0 B | LOCAL_REFERENCE | 764f8475f05bf001ffffffffffffffffffffffff0100000001000000\n",
      "\n",
      "\n",
      "192.168.84.193 | 1427 | Driver |           | 350.0 B | LOCAL_REFERENCE | c025a41ba5609597ffffffffffffffffffffffff0100000001000000\n",
      "\n",
      "\n",
      "192.168.84.193 | 1427 | Driver |           | 350.0 B | LOCAL_REFERENCE | d56d800cbde6ca14ffffffffffffffffffffffff0100000001000000\n",
      "\n",
      "\n",
      "192.168.84.193 | 1427 | Driver |           | 350.0 B | LOCAL_REFERENCE | 402ddcfdf56ca87affffffffffffffffffffffff0100000001000000\n",
      "\n",
      "\n",
      "192.168.84.193 | 1427 | Driver |           | 350.0 B | LOCAL_REFERENCE | 0fb939667ee64409ffffffffffffffffffffffff0100000001000000\n",
      "\n",
      "\n",
      "192.168.84.193 | 1427 | Driver |           | 350.0 B | LOCAL_REFERENCE | aa64d94c3d0cf856ffffffffffffffffffffffff0100000001000000\n",
      "\n",
      "\n",
      "192.168.84.193 | 1427 | Driver |           | 350.0 B | LOCAL_REFERENCE | 931690d20f999d2fffffffffffffffffffffffff0100000001000000\n",
      "\n",
      "\n",
      "192.168.84.193 | 1427 | Driver |           | 350.0 B | LOCAL_REFERENCE | 52776386fecbac7affffffffffffffffffffffff0100000001000000\n",
      "\n",
      "\n",
      "192.168.84.193 | 1427 | Driver |           | 350.0 B | LOCAL_REFERENCE | a56654db7f924b56ffffffffffffffffffffffff0100000001000000\n",
      "\n",
      "\n",
      "192.168.84.193 | 1427 | Driver |           | 350.0 B | LOCAL_REFERENCE | 6b33df4961081abdffffffffffffffffffffffff0100000001000000\n",
      "\n",
      "\n",
      "192.168.84.193 | 1427 | Driver |           | 350.0 B | LOCAL_REFERENCE | fc51829ebaba45e2ffffffffffffffffffffffff0100000001000000\n",
      "\n",
      "\n",
      "192.168.84.193 | 1427 | Driver |           | 350.0 B | LOCAL_REFERENCE | 753565f917242c11ffffffffffffffffffffffff0100000001000000\n",
      "\n",
      "\n",
      "192.168.84.193 | 1427 | Driver |           | 350.0 B | LOCAL_REFERENCE | 1512d441ba7a26bcffffffffffffffffffffffff0100000001000000\n",
      "\n",
      "\n",
      "192.168.84.193 | 1427 | Driver |           | 350.0 B | LOCAL_REFERENCE | 69a44463d6ec2f20ffffffffffffffffffffffff0100000001000000\n",
      "\n",
      "\n",
      "192.168.84.193 | 1427 | Driver |           | 350.0 B | LOCAL_REFERENCE | 8dca14b7f0ef35a5ffffffffffffffffffffffff0100000001000000\n",
      "\n",
      "\n",
      "192.168.84.193 | 1427 | Driver |           | 350.0 B | LOCAL_REFERENCE | 6dc8af0b4b33bcfaffffffffffffffffffffffff0100000001000000\n",
      "\n",
      "\n",
      "192.168.84.193 | 1427 | Driver |           | 350.0 B | LOCAL_REFERENCE | dbda44882cfe1588ffffffffffffffffffffffff0100000001000000\n",
      "\n",
      "\n",
      "192.168.84.193 | 1427 | Driver |           | 350.0 B | LOCAL_REFERENCE | ea50a9a22a3b0d9fffffffffffffffffffffffff0100000001000000\n",
      "\n",
      "\n",
      "192.168.84.193 | 1427 | Driver |           | 350.0 B | LOCAL_REFERENCE | 02f9c3a971058d26ffffffffffffffffffffffff0100000001000000\n",
      "\n",
      "\n",
      "192.168.84.193 | 1427 | Driver |           | 350.0 B | LOCAL_REFERENCE | 48b7ee15cf1ae472ffffffffffffffffffffffff0100000001000000\n",
      "\n",
      "\n",
      "192.168.84.193 | 1427 | Driver |           | 350.0 B | LOCAL_REFERENCE | a7f56d220ef857faffffffffffffffffffffffff0100000001000000\n",
      "\n",
      "\n",
      "192.168.84.193 | 1427 | Driver |           | 350.0 B | LOCAL_REFERENCE | e310f8a190d13b09ffffffffffffffffffffffff0100000001000000\n",
      "\n",
      "\n",
      "192.168.84.193 | 1427 | Driver |           | 350.0 B | LOCAL_REFERENCE | eb7cccec83cc166cffffffffffffffffffffffff0100000001000000\n",
      "\n",
      "\n",
      "192.168.84.193 | 1427 | Driver |           | 350.0 B | LOCAL_REFERENCE | 9d22d7133452b1ffffffffffffffffffffffffff0100000001000000\n",
      "\n",
      "\n",
      "192.168.84.193 | 1427 | Driver |           | 350.0 B | LOCAL_REFERENCE | 2b1d1545893d1daeffffffffffffffffffffffff0100000001000000\n",
      "\n",
      "\n",
      "192.168.84.193 | 1427 | Driver |           | 350.0 B | LOCAL_REFERENCE | 92f10cea97f12e5dffffffffffffffffffffffff0100000001000000\n",
      "\n",
      "\n",
      "192.168.84.193 | 1427 | Driver |           | 350.0 B | LOCAL_REFERENCE | 8d810c38302b25afffffffffffffffffffffffff0100000001000000\n",
      "\n",
      "\n",
      "192.168.84.193 | 1427 | Driver |           | 350.0 B | LOCAL_REFERENCE | 2ba2de5a059b7c7affffffffffffffffffffffff0100000001000000\n",
      "\n",
      "\n",
      "192.168.84.193 | 1427 | Driver |           | 350.0 B | LOCAL_REFERENCE | cd17d17a5e18c3eaffffffffffffffffffffffff0100000001000000\n",
      "\n",
      "\n",
      "192.168.84.193 | 1427 | Driver |           | 350.0 B | LOCAL_REFERENCE | 69a6825d641b4613ffffffffffffffffffffffff0100000001000000\n",
      "\n",
      "\n",
      "192.168.84.193 | 1427 | Driver |           | 350.0 B | LOCAL_REFERENCE | e004d35e3a7c2cb2ffffffffffffffffffffffff0100000001000000\n",
      "\n",
      "\n",
      "192.168.84.193 | 1427 | Driver |           | 350.0 B | LOCAL_REFERENCE | 0e940498380997deffffffffffffffffffffffff0100000001000000\n",
      "\n",
      "\n",
      "192.168.84.193 | 1427 | Driver |           | 350.0 B | LOCAL_REFERENCE | a41fc1586ae77e55ffffffffffffffffffffffff0100000001000000\n",
      "\n",
      "\n",
      "192.168.84.193 | 1427 | Driver |           | 350.0 B | LOCAL_REFERENCE | 909a212b104ea2f1ffffffffffffffffffffffff0100000001000000\n",
      "\n",
      "\n",
      "192.168.84.193 | 1427 | Driver |           | 350.0 B | LOCAL_REFERENCE | 680bcac5eaead5beffffffffffffffffffffffff0100000001000000\n",
      "\n",
      "\n",
      "192.168.84.193 | 1427 | Driver |           | 350.0 B | LOCAL_REFERENCE | 7513710212de102affffffffffffffffffffffff0100000001000000\n",
      "\n",
      "\n",
      "192.168.84.193 | 1427 | Driver |           | 350.0 B | LOCAL_REFERENCE | 485cd1e3cfb4af77ffffffffffffffffffffffff0100000001000000\n",
      "\n",
      "\n",
      "192.168.84.193 | 1427 | Driver |           | 350.0 B | LOCAL_REFERENCE | 02f9b42dcf9096dbffffffffffffffffffffffff0100000001000000\n",
      "\n",
      "\n",
      "192.168.84.193 | 1427 | Driver |           | 350.0 B | LOCAL_REFERENCE | db3ae28ea3d091dbffffffffffffffffffffffff0100000001000000\n",
      "\n",
      "\n",
      "192.168.84.193 | 1427 | Driver |           | 350.0 B | LOCAL_REFERENCE | 21711c35be2858f6ffffffffffffffffffffffff0100000001000000\n",
      "\n",
      "\n",
      "192.168.84.193 | 1427 | Driver |           | 350.0 B | LOCAL_REFERENCE | b904200e39b72e25ffffffffffffffffffffffff0100000001000000\n",
      "\n",
      "\n",
      "192.168.84.193 | 1427 | Driver |           | 350.0 B | LOCAL_REFERENCE | 24a16b24332d04c0ffffffffffffffffffffffff0100000001000000\n",
      "\n",
      "\n",
      "192.168.84.193 | 1427 | Driver |           | 350.0 B | LOCAL_REFERENCE | 9d78bd90898368caffffffffffffffffffffffff0100000001000000\n",
      "\n",
      "\n",
      "192.168.84.193 | 1427 | Driver |           | 350.0 B | LOCAL_REFERENCE | b6b1bf9bcf8721b5ffffffffffffffffffffffff0100000001000000\n",
      "\n",
      "\n",
      "192.168.84.193 | 1427 | Driver |           | 350.0 B | LOCAL_REFERENCE | b361d7a36076b6a6ffffffffffffffffffffffff0100000001000000\n",
      "\n",
      "\n",
      "192.168.84.193 | 1427 | Driver |           | 350.0 B | LOCAL_REFERENCE | 419d38867099fbd8ffffffffffffffffffffffff0100000001000000\n",
      "\n",
      "\n",
      "192.168.84.193 | 1427 | Driver |           | 350.0 B | LOCAL_REFERENCE | b4bba3bd025ddc5effffffffffffffffffffffff0100000001000000\n",
      "\n",
      "\n",
      "192.168.84.193 | 1427 | Driver |           | 350.0 B | LOCAL_REFERENCE | adfbf615e1b4bed2ffffffffffffffffffffffff0100000001000000\n",
      "\n",
      "\n",
      "192.168.84.193 | 1427 | Driver |           | 350.0 B | LOCAL_REFERENCE | 40aed905f700f037ffffffffffffffffffffffff0100000001000000\n",
      "\n",
      "\n",
      "192.168.84.193 | 1427 | Driver |           | 350.0 B | LOCAL_REFERENCE | e5eb40d302a6fdfaffffffffffffffffffffffff0100000001000000\n",
      "\n",
      "\n",
      "192.168.84.193 | 1427 | Driver |           | 350.0 B | LOCAL_REFERENCE | 2f41f345ddf68417ffffffffffffffffffffffff0100000001000000\n",
      "\n",
      "\n",
      "192.168.84.193 | 1427 | Driver |           | 350.0 B | LOCAL_REFERENCE | 00c4b50fa56034e6ffffffffffffffffffffffff0100000001000000\n",
      "\n",
      "\n",
      "192.168.84.193 | 1427 | Driver |           | 350.0 B | LOCAL_REFERENCE | ef25d802e8c24317ffffffffffffffffffffffff0100000001000000\n",
      "\n",
      "\n",
      "192.168.84.193 | 1427 | Driver |           | 350.0 B | LOCAL_REFERENCE | fc8204747604c8ccffffffffffffffffffffffff0100000001000000\n",
      "\n",
      "\n",
      "192.168.84.193 | 1427 | Driver |           | 350.0 B | LOCAL_REFERENCE | d695335b811eab9bffffffffffffffffffffffff0100000001000000\n",
      "\n",
      "\n",
      "192.168.84.193 | 1427 | Driver |           | 350.0 B | LOCAL_REFERENCE | a150357784540d7bffffffffffffffffffffffff0100000001000000\n",
      "\n",
      "\n",
      "192.168.84.193 | 1427 | Driver |           | 350.0 B | LOCAL_REFERENCE | 6dbd075c28ae20d7ffffffffffffffffffffffff0100000001000000\n",
      "\n",
      "\n",
      "192.168.84.193 | 1427 | Driver |           | 350.0 B | LOCAL_REFERENCE | d68840d2161b10fbffffffffffffffffffffffff0100000001000000\n",
      "\n",
      "\n",
      "192.168.84.193 | 1427 | Driver |           | 350.0 B | LOCAL_REFERENCE | 32cccd03c567a254ffffffffffffffffffffffff0100000001000000\n",
      "\n",
      "\n",
      "192.168.84.193 | 1427 | Driver |           | 350.0 B | LOCAL_REFERENCE | 90fd018037cd8211ffffffffffffffffffffffff0100000001000000\n",
      "\n",
      "\n",
      "192.168.84.193 | 1427 | Driver |           | 350.0 B | LOCAL_REFERENCE | 747754f46b61f47dffffffffffffffffffffffff0100000001000000\n",
      "\n",
      "\n",
      "192.168.84.193 | 1427 | Driver |           | 350.0 B | LOCAL_REFERENCE | aac4ca32fcd13c59ffffffffffffffffffffffff0100000001000000\n",
      "\n",
      "\n",
      "192.168.84.193 | 1427 | Driver |           | 350.0 B | LOCAL_REFERENCE | 3f83646dddac6e52ffffffffffffffffffffffff0100000001000000\n",
      "\n",
      "\n",
      "192.168.84.193 | 1427 | Driver |           | 350.0 B | LOCAL_REFERENCE | 36e14f5d7a18682effffffffffffffffffffffff0100000001000000\n",
      "\n",
      "\n",
      "192.168.84.193 | 1427 | Driver |           | 350.0 B | LOCAL_REFERENCE | e625fb24a67e7f4affffffffffffffffffffffff0100000001000000\n",
      "\n",
      "\n",
      "192.168.84.193 | 1427 | Driver |           | 350.0 B | LOCAL_REFERENCE | aae99729138a74d2ffffffffffffffffffffffff0100000001000000\n",
      "\n",
      "\n",
      "192.168.84.193 | 1427 | Driver |           | 350.0 B | LOCAL_REFERENCE | 11ac9524461283ceffffffffffffffffffffffff0100000001000000\n",
      "\n",
      "\n",
      "192.168.84.193 | 1427 | Driver |           | 350.0 B | LOCAL_REFERENCE | cc0320e00aa0584cffffffffffffffffffffffff0100000001000000\n",
      "\n",
      "\n",
      "192.168.84.193 | 1427 | Driver |           | 350.0 B | LOCAL_REFERENCE | 2f380fa819400849ffffffffffffffffffffffff0100000001000000\n",
      "\n",
      "\n",
      "192.168.84.193 | 1427 | Driver |           | 350.0 B | LOCAL_REFERENCE | d3ec2e91753e4340ffffffffffffffffffffffff0100000001000000\n",
      "\n",
      "\n",
      "192.168.84.193 | 1427 | Driver |           | 350.0 B | LOCAL_REFERENCE | 5b78680d95855782ffffffffffffffffffffffff0100000001000000\n",
      "\n",
      "\n",
      "192.168.84.193 | 1427 | Driver |           | 350.0 B | LOCAL_REFERENCE | c0e56a21dcb5fe64ffffffffffffffffffffffff0100000001000000\n",
      "\n",
      "\n",
      "192.168.84.193 | 1427 | Driver |           | 350.0 B | LOCAL_REFERENCE | 7d0a4228a9578dfeffffffffffffffffffffffff0100000001000000\n",
      "\n",
      "\n",
      "192.168.84.193 | 1427 | Driver |           | 350.0 B | LOCAL_REFERENCE | a06d247da28159b7ffffffffffffffffffffffff0100000001000000\n",
      "\n",
      "\n",
      "192.168.84.193 | 1427 | Driver |           | 350.0 B | LOCAL_REFERENCE | 39abb479acfc261bffffffffffffffffffffffff0100000001000000\n",
      "\n",
      "\n",
      "192.168.84.193 | 1427 | Driver |           | 350.0 B | LOCAL_REFERENCE | ce2397de373e5655ffffffffffffffffffffffff0100000001000000\n",
      "\n",
      "\n",
      "192.168.84.193 | 1427 | Driver |           | 350.0 B | LOCAL_REFERENCE | 9bb55bc9a880f4ceffffffffffffffffffffffff0100000001000000\n",
      "\n",
      "\n",
      "192.168.84.193 | 1427 | Driver |           | 350.0 B | LOCAL_REFERENCE | 2fe79181c2b3eb83ffffffffffffffffffffffff0100000001000000\n",
      "\n",
      "\n",
      "192.168.84.193 | 1427 | Driver |           | 350.0 B | LOCAL_REFERENCE | c96088b12950798bffffffffffffffffffffffff0100000001000000\n",
      "\n",
      "\n",
      "192.168.84.193 | 1427 | Driver |           | 350.0 B | LOCAL_REFERENCE | 8ac2990a3c89d814ffffffffffffffffffffffff0100000001000000\n",
      "\n",
      "\n",
      "192.168.84.193 | 1427 | Driver |           | 350.0 B | LOCAL_REFERENCE | 9ce1987488ca1394ffffffffffffffffffffffff0100000001000000\n",
      "\n",
      "\n",
      "192.168.84.193 | 1427 | Driver |           | 350.0 B | LOCAL_REFERENCE | 65a1a3aaa614cba3ffffffffffffffffffffffff0100000001000000\n",
      "\n",
      "\n",
      "192.168.84.193 | 1427 | Driver |           | 350.0 B | LOCAL_REFERENCE | 7d174d6864a3d2bbffffffffffffffffffffffff0100000001000000\n",
      "\n",
      "\n",
      "192.168.84.193 | 1427 | Driver |           | 350.0 B | LOCAL_REFERENCE | 964d85edc3bacb5bffffffffffffffffffffffff0100000001000000\n",
      "\n",
      "\n",
      "192.168.84.193 | 1427 | Driver |           | 350.0 B | LOCAL_REFERENCE | 11b5fcd52d49c071ffffffffffffffffffffffff0100000001000000\n",
      "\n",
      "\n",
      "192.168.84.193 | 1427 | Driver |           | 350.0 B | LOCAL_REFERENCE | 4c37da832ee7bc31ffffffffffffffffffffffff0100000001000000\n",
      "\n",
      "\n",
      "192.168.84.193 | 1427 | Driver |           | 350.0 B | LOCAL_REFERENCE | 31ffddd68e69d833ffffffffffffffffffffffff0100000001000000\n",
      "\n",
      "\n",
      "192.168.84.193 | 1427 | Driver |           | 350.0 B | LOCAL_REFERENCE | 42867781e3b6e074ffffffffffffffffffffffff0100000001000000\n",
      "\n",
      "\n",
      "192.168.84.193 | 1427 | Driver |           | 350.0 B | LOCAL_REFERENCE | b4b63d32e46ad812ffffffffffffffffffffffff0100000001000000\n",
      "\n",
      "To record callsite information for each ObjectRef created, set env variable RAY_record_ref_creation_sites=1\n",
      "\n",
      "--- Aggregate object store stats across all nodes ---\n",
      "Plasma memory usage 0 MiB, 200 objects, 0.0% full, 0.0% needed\n",
      "Objects consumed by Ray tasks: 0 MiB.\n",
      "\n",
      "\u001b[0m"
     ]
    }
   ],
   "source": [
    "!ray memory"
   ]
  },
  {
   "cell_type": "code",
   "execution_count": 6,
   "id": "6cfb3b23-ecf3-4004-905f-bcefb67d5221",
   "metadata": {},
   "outputs": [
    {
     "data": {
      "text/plain": [
       "Dataset(num_blocks=200, num_rows=10000, schema=<class 'int'>)"
      ]
     },
     "execution_count": 6,
     "metadata": {},
     "output_type": "execute_result"
    }
   ],
   "source": [
    "ds"
   ]
  },
  {
   "cell_type": "code",
   "execution_count": 6,
   "id": "9f9d615e-2070-4858-bc72-67b1277f8c00",
   "metadata": {},
   "outputs": [
    {
     "name": "stdout",
     "output_type": "stream",
     "text": [
      "[ObjectRef(69a6825d641b4613ffffffffffffffffffffffff0100000002000000), ObjectRef(ee4e90da584ab0ebffffffffffffffffffffffff0100000002000000), ObjectRef(4ee449587774c1f0ffffffffffffffffffffffff0100000002000000)]\n"
     ]
    }
   ],
   "source": [
    "print(ds.get_internal_block_refs()[:3])"
   ]
  },
  {
   "cell_type": "code",
   "execution_count": 7,
   "id": "054c20a9-dbc1-4059-b178-80b54101609a",
   "metadata": {},
   "outputs": [
    {
     "name": "stdout",
     "output_type": "stream",
     "text": [
      "[0, 1, 2, 3, 4, 5, 6, 7, 8, 9, 10, 11, 12, 13, 14, 15, 16, 17, 18, 19, 20, 21, 22, 23, 24, 25, 26, 27, 28, 29, 30, 31, 32, 33, 34, 35, 36, 37, 38, 39, 40, 41, 42, 43, 44, 45, 46, 47, 48, 49]\n"
     ]
    }
   ],
   "source": [
    "print(ray.get(ds.get_internal_block_refs()[0]))"
   ]
  },
  {
   "cell_type": "code",
   "execution_count": 8,
   "id": "06256ffa-e9aa-4476-a95a-901c07dc6dae",
   "metadata": {},
   "outputs": [
    {
     "name": "stderr",
     "output_type": "stream",
     "text": [
      "GroupBy Map: 100%|██████████| 200/200 [00:00<00:00, 306.37it/s]\n",
      "GroupBy Reduce: 100%|██████████| 1/1 [00:00<00:00, 182.65it/s]\n"
     ]
    },
    {
     "data": {
      "text/plain": [
       "4999.5"
      ]
     },
     "execution_count": 8,
     "metadata": {},
     "output_type": "execute_result"
    }
   ],
   "source": [
    "ds.mean()"
   ]
  },
  {
   "cell_type": "markdown",
   "id": "83cfb1c8-b0b0-4724-8626-3c08fa4f24d3",
   "metadata": {},
   "source": [
    "## read parquet"
   ]
  },
  {
   "cell_type": "code",
   "execution_count": 9,
   "id": "ebfa6d61-449d-442f-82a9-e7b7de2c3523",
   "metadata": {},
   "outputs": [],
   "source": [
    "import pandas as pd\n",
    "pd.DataFrame([(1,2,3)]* 1000000, columns=['col1', 'col2', 'col3']).to_parquet('/tmp/tmp_ex_07.parquet')\n",
    "pd.DataFrame([(1,2,3)]* 1000000, columns=['col1', 'col2', 'col3']).to_csv('/tmp/tmp_ex_07.csv')"
   ]
  },
  {
   "cell_type": "code",
   "execution_count": 10,
   "id": "e584d860-5888-4847-bb70-25cde50bb553",
   "metadata": {},
   "outputs": [
    {
     "name": "stdout",
     "output_type": "stream",
     "text": [
      "total 13M\n",
      "drwxrwxrwx 18 root root  1M Dec 25 19:43 ray\n",
      "-rw-------  1 root root  1M Dec  3 02:34 tmp7xk4pjtb\n",
      "-rw-r--r--  1 root root 13M Dec 25 19:43 tmp_ex_07.csv\n",
      "-rw-r--r--  1 root root  1M Dec 25 19:43 tmp_ex_07.parquet\n"
     ]
    }
   ],
   "source": [
    "!ls -l --block-size M /tmp/"
   ]
  },
  {
   "cell_type": "markdown",
   "id": "4ca3651c-5a49-4717-986b-7cac353b4aa3",
   "metadata": {},
   "source": [
    "### read parquet"
   ]
  },
  {
   "cell_type": "code",
   "execution_count": 11,
   "id": "d81cc113-dcb6-4fa8-beb5-6fe49415cd20",
   "metadata": {},
   "outputs": [],
   "source": [
    "df = ray.data.read_parquet(['/tmp/tmp_ex_07.parquet'] * 3)\n"
   ]
  },
  {
   "cell_type": "code",
   "execution_count": 12,
   "id": "d99b1467-f9a8-419d-a76e-f7cbcc34400b",
   "metadata": {},
   "outputs": [
    {
     "data": {
      "text/plain": [
       "Dataset(num_blocks=3, num_rows=3000000, schema={col1: int64, col2: int64, col3: int64})"
      ]
     },
     "execution_count": 12,
     "metadata": {},
     "output_type": "execute_result"
    }
   ],
   "source": [
    "df"
   ]
  },
  {
   "cell_type": "markdown",
   "id": "b1e80244-c037-49f1-aadd-c196eaff4514",
   "metadata": {},
   "source": [
    "##### check re-partition effects"
   ]
  },
  {
   "cell_type": "code",
   "execution_count": 25,
   "id": "1dca5594-a83c-4522-82b4-571d1365a4cc",
   "metadata": {},
   "outputs": [
    {
     "name": "stderr",
     "output_type": "stream",
     "text": [
      "GroupBy Map: 100%|██████████| 3/3 [00:21<00:00,  7.28s/it]\n",
      "GroupBy Reduce: 100%|██████████| 1/1 [00:00<00:00, 482.77it/s]"
     ]
    },
    {
     "name": "stdout",
     "output_type": "stream",
     "text": [
      "CPU times: user 470 ms, sys: 71.5 ms, total: 541 ms\n",
      "Wall time: 22 s\n"
     ]
    },
    {
     "name": "stderr",
     "output_type": "stream",
     "text": [
      "\n"
     ]
    },
    {
     "data": {
      "text/plain": [
       "{'mean(col1)': 1.0, 'mean(col2)': 2.0, 'mean(col3)': 3.0}"
      ]
     },
     "execution_count": 25,
     "metadata": {},
     "output_type": "execute_result"
    }
   ],
   "source": [
    "df = ray.data.read_parquet(['/tmp/tmp_ex_07.parquet'] * 3)\n",
    "df.mean()"
   ]
  },
  {
   "cell_type": "code",
   "execution_count": 27,
   "id": "ef8f6ee2-f378-42c2-9984-412dbab9ab7f",
   "metadata": {},
   "outputs": [
    {
     "name": "stderr",
     "output_type": "stream",
     "text": [
      "Repartition: 100%|██████████| 8/8 [00:00<00:00, 339.51it/s]\n",
      "GroupBy Map: 100%|██████████| 8/8 [00:17<00:00,  2.22s/it]\n",
      "GroupBy Reduce: 100%|██████████| 1/1 [00:00<00:00, 371.77it/s]"
     ]
    },
    {
     "name": "stdout",
     "output_type": "stream",
     "text": [
      "CPU times: user 480 ms, sys: 77.8 ms, total: 558 ms\n",
      "Wall time: 18 s\n"
     ]
    },
    {
     "name": "stderr",
     "output_type": "stream",
     "text": [
      "\n"
     ]
    },
    {
     "data": {
      "text/plain": [
       "{'mean(col1)': 1.0, 'mean(col2)': 2.0, 'mean(col3)': 3.0}"
      ]
     },
     "execution_count": 27,
     "metadata": {},
     "output_type": "execute_result"
    }
   ],
   "source": [
    "%%time\n",
    "# parquet\n",
    "df = ray.data.read_parquet(['/tmp/tmp_ex_07.parquet'] * 3).repartition(8)\n",
    "df.mean()"
   ]
  },
  {
   "cell_type": "markdown",
   "id": "3c890d89-9e5c-42f6-b414-220b51c0b9e9",
   "metadata": {},
   "source": [
    "### read_csv"
   ]
  },
  {
   "cell_type": "code",
   "execution_count": 28,
   "id": "932bd456-af60-4dd1-8a1e-6d446edcfaca",
   "metadata": {},
   "outputs": [
    {
     "name": "stderr",
     "output_type": "stream",
     "text": [
      "GroupBy Map: 100%|██████████| 3/3 [00:28<00:00,  9.60s/it]\n",
      "GroupBy Reduce: 100%|██████████| 1/1 [00:00<00:00, 479.62it/s]"
     ]
    },
    {
     "name": "stdout",
     "output_type": "stream",
     "text": [
      "CPU times: user 548 ms, sys: 120 ms, total: 668 ms\n",
      "Wall time: 29.2 s\n"
     ]
    },
    {
     "name": "stderr",
     "output_type": "stream",
     "text": [
      "\n"
     ]
    },
    {
     "data": {
      "text/plain": [
       "{'mean()': 499999.5, 'mean(col1)': 1.0, 'mean(col2)': 2.0, 'mean(col3)': 3.0}"
      ]
     },
     "execution_count": 28,
     "metadata": {},
     "output_type": "execute_result"
    }
   ],
   "source": [
    "%%time\n",
    "df = ray.data.read_csv(['/tmp/tmp_ex_07.csv'] * 3)\n",
    "df.mean()"
   ]
  },
  {
   "cell_type": "code",
   "execution_count": 29,
   "id": "b7365176-c2b3-4b5e-87e2-c7e01f849adb",
   "metadata": {},
   "outputs": [
    {
     "name": "stderr",
     "output_type": "stream",
     "text": [
      "Repartition: 100%|██████████| 8/8 [00:00<00:00, 318.12it/s]\n",
      "GroupBy Map: 100%|██████████| 8/8 [00:27<00:00,  3.44s/it]\n",
      "GroupBy Reduce: 100%|██████████| 1/1 [00:00<00:00, 347.24it/s]"
     ]
    },
    {
     "name": "stdout",
     "output_type": "stream",
     "text": [
      "CPU times: user 692 ms, sys: 170 ms, total: 861 ms\n",
      "Wall time: 28.1 s\n"
     ]
    },
    {
     "name": "stderr",
     "output_type": "stream",
     "text": [
      "\n"
     ]
    },
    {
     "data": {
      "text/plain": [
       "{'mean()': 499999.5, 'mean(col1)': 1.0, 'mean(col2)': 2.0, 'mean(col3)': 3.0}"
      ]
     },
     "execution_count": 29,
     "metadata": {},
     "output_type": "execute_result"
    }
   ],
   "source": [
    "%%time\n",
    "df = ray.data.read_csv(['/tmp/tmp_ex_07.csv'] * 3).repartition(8)\n",
    "df.mean()"
   ]
  },
  {
   "cell_type": "markdown",
   "id": "f7a6dc9f-2b37-407c-b4bb-bab593d5fbfa",
   "metadata": {
    "tags": []
   },
   "source": [
    "# Modin"
   ]
  },
  {
   "cell_type": "code",
   "execution_count": 2,
   "id": "d232f116-be23-487e-bea2-c1ee0a4fb869",
   "metadata": {},
   "outputs": [
    {
     "name": "stdout",
     "output_type": "stream",
     "text": [
      "======== Object references status: 2021-12-26 15:14:06.961601 ========\n",
      "Grouping by node address...        Sorting by object size...        Display allentries per group...\n",
      "\n",
      "\n",
      "To record callsite information for each ObjectRef created, set env variable RAY_record_ref_creation_sites=1\n",
      "\n",
      "--- Aggregate object store stats across all nodes ---\n",
      "Plasma memory usage 0 MiB, 0 objects, 0.0% full, 0.0% needed\n",
      "\n",
      "\u001b[0m"
     ]
    }
   ],
   "source": [
    "!ray memory"
   ]
  },
  {
   "cell_type": "code",
   "execution_count": 3,
   "id": "645d2a64-8deb-418b-976b-36a28dfb7b06",
   "metadata": {},
   "outputs": [],
   "source": [
    "import modin.pandas as mod_pd\n",
    "import pandas as pd"
   ]
  },
  {
   "cell_type": "code",
   "execution_count": 10,
   "id": "d3e22be3-6ba1-45a9-a11e-73c154e2e454",
   "metadata": {},
   "outputs": [],
   "source": [
    "pd.DataFrame([(1,2,3)]* 1000000, columns=['col1', 'col2', 'col3']).to_csv('/tmp/tmp_ex_07.csv', index=False)\n",
    "# pd.DataFrame([(1,2,3)]* 10000000, columns=['col1', 'col2', 'col3']).to_csv('/tmp/tmp_ex_07_10x.csv', index=False)\n",
    "# pd.DataFrame([(1,2,3)]* 30000000, columns=['col1', 'col2', 'col3']).to_csv('/tmp/tmp_ex_07_30x.csv', index=False)"
   ]
  },
  {
   "cell_type": "markdown",
   "id": "dbf1c489-c54f-48c3-9a38-eef78c394f0a",
   "metadata": {},
   "source": [
    "## 1000000 rows, 3 col csv"
   ]
  },
  {
   "cell_type": "code",
   "execution_count": 29,
   "id": "d7d4096e-228b-4c7e-9e4b-cba720a76107",
   "metadata": {},
   "outputs": [],
   "source": [
    "#### modin"
   ]
  },
  {
   "cell_type": "code",
   "execution_count": 36,
   "id": "67d74ae2-2ba6-4867-88dd-2d58be9a06eb",
   "metadata": {},
   "outputs": [],
   "source": [
    "file = '/tmp/tmp_ex_07.csv'\n",
    "mod_df = mod_pd.read_csv(file)"
   ]
  },
  {
   "cell_type": "code",
   "execution_count": 31,
   "id": "58e46edf-ded8-4386-a596-ffd55c31301c",
   "metadata": {
    "tags": []
   },
   "outputs": [
    {
     "name": "stdout",
     "output_type": "stream",
     "text": [
      "======== Object references status: 2021-12-26 15:27:31.572257 ========\n",
      "Grouping by node address...        Sorting by object size...        Display allentries per group...\n",
      "\n",
      "\n",
      "--- Summary for node address: 192.168.84.193 ---\n",
      "Mem Used by Objects  Local References  Pinned        Pending Tasks  Captured in Objects  Actor Handles\n",
      "24007064.0 B         8, (24007064.0 B)  0, (0.0 B)    0, (0.0 B)     0, (0.0 B)           0, (0.0 B)   \n",
      "\n",
      "--- Object references for node address: 192.168.84.193 ---\n",
      "IP Address | PID | Type | Call Site | Size | Reference Type | Object Ref\n",
      "\n",
      "192.168.84.193 | 2086 | Driver |           | 3000715.0 B | LOCAL_REFERENCE | f6d59484161292e1ffffffffffffffffffffffff0100000001000000\n",
      "\n",
      "\n",
      "192.168.84.193 | 2086 | Driver |           | 3000907.0 B | LOCAL_REFERENCE | 780ab616ab31e1bfffffffffffffffffffffffff0100000001000000\n",
      "\n",
      "\n",
      "192.168.84.193 | 2086 | Driver |           | 3000907.0 B | LOCAL_REFERENCE | 46801c25ff7108dcffffffffffffffffffffffff0100000001000000\n",
      "\n",
      "\n",
      "192.168.84.193 | 2086 | Driver |           | 3000907.0 B | LOCAL_REFERENCE | f0da08b1cd55d36dffffffffffffffffffffffff0100000001000000\n",
      "\n",
      "\n",
      "192.168.84.193 | 2086 | Driver |           | 3000907.0 B | LOCAL_REFERENCE | dc8f5a5f673265d9ffffffffffffffffffffffff0100000001000000\n",
      "\n",
      "\n",
      "192.168.84.193 | 2086 | Driver |           | 3000907.0 B | LOCAL_REFERENCE | 3ae4c95c15b4a12dffffffffffffffffffffffff0100000001000000\n",
      "\n",
      "\n",
      "192.168.84.193 | 2086 | Driver |           | 3000907.0 B | LOCAL_REFERENCE | 99348f5d03405882ffffffffffffffffffffffff0100000001000000\n",
      "\n",
      "\n",
      "192.168.84.193 | 2086 | Driver |           | 3000907.0 B | LOCAL_REFERENCE | ac5ae9695ef75804ffffffffffffffffffffffff0100000001000000\n",
      "\n",
      "To record callsite information for each ObjectRef created, set env variable RAY_record_ref_creation_sites=1\n",
      "\n",
      "--- Aggregate object store stats across all nodes ---\n",
      "Plasma memory usage 22 MiB, 8 objects, 0.52% full, 0.52% needed\n",
      "Objects consumed by Ray tasks: 25666 MiB.\n",
      "\n",
      "\u001b[0m"
     ]
    }
   ],
   "source": [
    "!ray memory"
   ]
  },
  {
   "cell_type": "code",
   "execution_count": 37,
   "id": "5acfb494-edc1-453c-b988-a1553965a707",
   "metadata": {},
   "outputs": [
    {
     "name": "stdout",
     "output_type": "stream",
     "text": [
      "\u001b[2m\u001b[36m(deploy_ray_func pid=16587)\u001b[0m \n",
      "30.5 ms ± 2.83 ms per loop (mean ± std. dev. of 7 runs, 100 loops each)\n"
     ]
    }
   ],
   "source": [
    "%%timeit -n 100\n",
    "mod_df.mean()"
   ]
  },
  {
   "cell_type": "code",
   "execution_count": 23,
   "id": "804cf466-442a-41ff-b5de-fd71c8a8152c",
   "metadata": {
    "tags": []
   },
   "outputs": [
    {
     "name": "stdout",
     "output_type": "stream",
     "text": [
      "93.2 ms ± 1.68 ms per loop (mean ± std. dev. of 7 runs, 10 loops each)\n"
     ]
    }
   ],
   "source": [
    "%%timeit -n 10\n",
    "file = '/tmp/tmp_ex_07.csv'\n",
    "mod_df = mod_pd.read_csv(file)\n",
    "mod_df.mean()"
   ]
  },
  {
   "cell_type": "code",
   "execution_count": 30,
   "id": "07be9df0-882f-421a-b00d-4b15a0554450",
   "metadata": {},
   "outputs": [],
   "source": [
    "#### pure pandas"
   ]
  },
  {
   "cell_type": "code",
   "execution_count": 24,
   "id": "9d602e52-2988-4793-944b-16af33235743",
   "metadata": {},
   "outputs": [
    {
     "name": "stdout",
     "output_type": "stream",
     "text": [
      "95.2 ms ± 2.22 ms per loop (mean ± std. dev. of 7 runs, 10 loops each)\n"
     ]
    }
   ],
   "source": [
    "%%timeit -n 10\n",
    "file = '/tmp/tmp_ex_07.csv'\n",
    "pd_df = pd.read_csv(file)\n",
    "pd_df.mean()"
   ]
  },
  {
   "cell_type": "code",
   "execution_count": 27,
   "id": "e5d268ca-7d3e-4edd-8e11-923e85ee2f10",
   "metadata": {},
   "outputs": [],
   "source": [
    "file = '/tmp/tmp_ex_07.csv'\n",
    "pd_df = pd.read_csv(file)"
   ]
  },
  {
   "cell_type": "code",
   "execution_count": 28,
   "id": "a3f4a8b4-7dbf-4734-bf9b-40f71a9c167f",
   "metadata": {},
   "outputs": [
    {
     "name": "stdout",
     "output_type": "stream",
     "text": [
      "3.35 ms ± 383 µs per loop (mean ± std. dev. of 7 runs, 100 loops each)\n"
     ]
    }
   ],
   "source": [
    "%%timeit -n 100\n",
    "pd_df.mean()"
   ]
  },
  {
   "cell_type": "markdown",
   "id": "ae1c00fe-6960-4cdd-a025-d4e59897508f",
   "metadata": {},
   "source": [
    "## 10x rows"
   ]
  },
  {
   "cell_type": "code",
   "execution_count": 49,
   "id": "cd69b14d-056d-4486-b398-7e29aa090618",
   "metadata": {},
   "outputs": [
    {
     "name": "stdout",
     "output_type": "stream",
     "text": [
      "\u001b[2m\u001b[36m(deploy_ray_func pid=13674)\u001b[0m \n",
      "\u001b[2m\u001b[36m(apply_list_of_funcs pid=13675)\u001b[0m \n",
      "533 ms ± 22.3 ms per loop (mean ± std. dev. of 7 runs, 10 loops each)\n"
     ]
    }
   ],
   "source": [
    "%%timeit -n 10\n",
    "file = '/tmp/tmp_ex_07_10x.csv'\n",
    "mod_df = mod_pd.read_csv(file)\n",
    "mod_df.mean()"
   ]
  },
  {
   "cell_type": "code",
   "execution_count": 51,
   "id": "d3024f7d-c442-411d-b456-def410c59afc",
   "metadata": {},
   "outputs": [
    {
     "name": "stdout",
     "output_type": "stream",
     "text": [
      "1.12 s ± 47.9 ms per loop (mean ± std. dev. of 7 runs, 10 loops each)\n"
     ]
    }
   ],
   "source": [
    "%%timeit -n 10\n",
    "file = '/tmp/tmp_ex_07_10x.csv'\n",
    "pd_df = pd.read_csv(file)\n",
    "pd_df.mean()"
   ]
  },
  {
   "cell_type": "markdown",
   "id": "648dde3f-50d1-4edb-a4a5-9bc9bc9829d8",
   "metadata": {},
   "source": [
    "## 30x rows"
   ]
  },
  {
   "cell_type": "code",
   "execution_count": 62,
   "id": "20bc6633-65eb-4918-b52d-bc8ebf4847a1",
   "metadata": {
    "tags": []
   },
   "outputs": [
    {
     "name": "stdout",
     "output_type": "stream",
     "text": [
      "1.99 s ± 248 ms per loop (mean ± std. dev. of 7 runs, 3 loops each)\n"
     ]
    }
   ],
   "source": [
    "%%timeit -n 3\n",
    "file = '/tmp/tmp_ex_07_30x.csv'\n",
    "mod_df = mod_pd.read_csv(file)\n",
    "mod_df.mean()"
   ]
  },
  {
   "cell_type": "code",
   "execution_count": 63,
   "id": "c193132b-490a-4992-b87c-2271003ad8ba",
   "metadata": {},
   "outputs": [
    {
     "name": "stdout",
     "output_type": "stream",
     "text": [
      "3.69 s ± 609 ms per loop (mean ± std. dev. of 7 runs, 3 loops each)\n"
     ]
    }
   ],
   "source": [
    "%%timeit -n 3\n",
    "file = '/tmp/tmp_ex_07_30x.csv'\n",
    "pd_df = pd.read_csv(file)\n",
    "pd_df.mean()"
   ]
  },
  {
   "cell_type": "code",
   "execution_count": null,
   "id": "f8e8cc73-d6f4-4b14-a2bd-8e0c54cac66b",
   "metadata": {},
   "outputs": [],
   "source": [
    "# 30x rows- mean()"
   ]
  },
  {
   "cell_type": "code",
   "execution_count": 32,
   "id": "718c9498-d129-4de2-8dcb-eea80191c478",
   "metadata": {},
   "outputs": [],
   "source": [
    "file = '/tmp/tmp_ex_07_30x.csv'\n",
    "mod_df = mod_pd.read_csv(file)"
   ]
  },
  {
   "cell_type": "code",
   "execution_count": 33,
   "id": "d25f0f82-2c4f-496d-9a94-3be781f9662d",
   "metadata": {},
   "outputs": [
    {
     "name": "stderr",
     "output_type": "stream",
     "text": [
      "\u001b[2m\u001b[36m(apply_list_of_funcs pid=16642)\u001b[0m \n"
     ]
    },
    {
     "name": "stdout",
     "output_type": "stream",
     "text": [
      "60.4 ms ± 13.7 ms per loop (mean ± std. dev. of 7 runs, 100 loops each)\n",
      "\u001b[2m\u001b[36m(apply_list_of_funcs pid=2231)\u001b[0m \n",
      "\u001b[2m\u001b[36m(apply_list_of_funcs pid=16642)\u001b[0m \n"
     ]
    }
   ],
   "source": [
    "%%timeit -n 100\n",
    "mod_df.mean()"
   ]
  },
  {
   "cell_type": "code",
   "execution_count": 34,
   "id": "ee3e9107-3673-4b43-aaeb-40bf666b8df5",
   "metadata": {
    "collapsed": true,
    "jupyter": {
     "outputs_hidden": true
    },
    "tags": []
   },
   "outputs": [
    {
     "name": "stdout",
     "output_type": "stream",
     "text": [
      "\u001b[2m\u001b[36m(apply_list_of_funcs pid=2237)\u001b[0m \n"
     ]
    }
   ],
   "source": [
    "file = '/tmp/tmp_ex_07_30x.csv'\n",
    "pd_df = pd.read_csv(file)"
   ]
  },
  {
   "cell_type": "code",
   "execution_count": 35,
   "id": "35972e9f-bb8f-47aa-88d8-679f3276cc96",
   "metadata": {},
   "outputs": [
    {
     "name": "stdout",
     "output_type": "stream",
     "text": [
      "93.6 ms ± 12.2 ms per loop (mean ± std. dev. of 7 runs, 100 loops each)\n"
     ]
    }
   ],
   "source": [
    "%%timeit -n 100\n",
    "pd_df.mean()"
   ]
  }
 ],
 "metadata": {
  "kernelspec": {
   "display_name": "Python 3 (ipykernel)",
   "language": "python",
   "name": "python3"
  },
  "language_info": {
   "codemirror_mode": {
    "name": "ipython",
    "version": 3
   },
   "file_extension": ".py",
   "mimetype": "text/x-python",
   "name": "python",
   "nbconvert_exporter": "python",
   "pygments_lexer": "ipython3",
   "version": "3.7.12"
  }
 },
 "nbformat": 4,
 "nbformat_minor": 5
}
