{
 "cells": [
  {
   "cell_type": "markdown",
   "id": "0656cb6d-a54e-4264-971f-4a254118e5d2",
   "metadata": {},
   "source": [
    "# Ray Data (still in beta)\n",
    "Ray Datasets are the standard way to load and exchange data in Ray libraries and applications. Datasets provide basic distributed data transformations such as map, filter, and repartition, and are compatible with a variety of file formats, datasources, and distributed frameworks."
   ]
  },
  {
   "cell_type": "code",
   "execution_count": 1,
   "id": "f5f1cc7a-6977-440b-8134-016439e986aa",
   "metadata": {},
   "outputs": [
    {
     "name": "stderr",
     "output_type": "stream",
     "text": [
      "2021-12-25 19:43:17,674\tINFO services.py:1340 -- View the Ray dashboard at \u001b[1m\u001b[32mhttp://127.0.0.1:8265\u001b[39m\u001b[22m\n"
     ]
    },
    {
     "data": {
      "text/plain": [
       "{'node_ip_address': '192.168.1.105',\n",
       " 'raylet_ip_address': '192.168.1.105',\n",
       " 'redis_address': '192.168.1.105:6379',\n",
       " 'object_store_address': '/tmp/ray/session_2021-12-25_19-43-15_166874_13523/sockets/plasma_store',\n",
       " 'raylet_socket_name': '/tmp/ray/session_2021-12-25_19-43-15_166874_13523/sockets/raylet',\n",
       " 'webui_url': '127.0.0.1:8265',\n",
       " 'session_dir': '/tmp/ray/session_2021-12-25_19-43-15_166874_13523',\n",
       " 'metrics_export_port': 52808,\n",
       " 'node_id': '376046ac8c34102d1bb47b5c912ffef92a95074fbd1efca1a4c79fce'}"
      ]
     },
     "execution_count": 1,
     "metadata": {},
     "output_type": "execute_result"
    }
   ],
   "source": [
    "import ray\n",
    "ray.init()"
   ]
  },
  {
   "cell_type": "code",
   "execution_count": 2,
   "id": "413d861a-d77e-40ae-86d4-4c01d62fc6ff",
   "metadata": {},
   "outputs": [],
   "source": [
    "ds = ray.data.range(10000)"
   ]
  },
  {
   "cell_type": "code",
   "execution_count": 3,
   "id": "28b424b9-6d44-47ac-a986-902417dbf2cb",
   "metadata": {},
   "outputs": [
    {
     "name": "stdout",
     "output_type": "stream",
     "text": [
      "<class 'ray.data.dataset.Dataset'>\n"
     ]
    }
   ],
   "source": [
    "print(type(ds))"
   ]
  },
  {
   "cell_type": "code",
   "execution_count": 4,
   "id": "8aeaf90e-2bd4-459f-b9ce-77f93dd8e315",
   "metadata": {},
   "outputs": [
    {
     "data": {
      "text/plain": [
       "Dataset(num_blocks=200, num_rows=10000, schema=<class 'int'>)"
      ]
     },
     "execution_count": 4,
     "metadata": {},
     "output_type": "execute_result"
    }
   ],
   "source": [
    "ds"
   ]
  },
  {
   "cell_type": "code",
   "execution_count": 5,
   "id": "829e282e-4d5f-4e07-b465-fc5f360fed4d",
   "metadata": {},
   "outputs": [
    {
     "data": {
      "text/plain": [
       "[0, 1, 2, 3, 4, 5, 6, 7, 8, 9, 10, 11, 12, 13, 14, 15, 16, 17, 18, 19]"
      ]
     },
     "execution_count": 5,
     "metadata": {},
     "output_type": "execute_result"
    }
   ],
   "source": [
    "ds.take(20)"
   ]
  },
  {
   "cell_type": "code",
   "execution_count": 6,
   "id": "9f9d615e-2070-4858-bc72-67b1277f8c00",
   "metadata": {},
   "outputs": [
    {
     "name": "stdout",
     "output_type": "stream",
     "text": [
      "[ObjectRef(69a6825d641b4613ffffffffffffffffffffffff0100000002000000), ObjectRef(ee4e90da584ab0ebffffffffffffffffffffffff0100000002000000), ObjectRef(4ee449587774c1f0ffffffffffffffffffffffff0100000002000000)]\n"
     ]
    }
   ],
   "source": [
    "print(ds.get_internal_block_refs()[:3])"
   ]
  },
  {
   "cell_type": "code",
   "execution_count": 7,
   "id": "054c20a9-dbc1-4059-b178-80b54101609a",
   "metadata": {},
   "outputs": [
    {
     "name": "stdout",
     "output_type": "stream",
     "text": [
      "[0, 1, 2, 3, 4, 5, 6, 7, 8, 9, 10, 11, 12, 13, 14, 15, 16, 17, 18, 19, 20, 21, 22, 23, 24, 25, 26, 27, 28, 29, 30, 31, 32, 33, 34, 35, 36, 37, 38, 39, 40, 41, 42, 43, 44, 45, 46, 47, 48, 49]\n"
     ]
    }
   ],
   "source": [
    "print(ray.get(ds.get_internal_block_refs()[0]))"
   ]
  },
  {
   "cell_type": "code",
   "execution_count": 8,
   "id": "06256ffa-e9aa-4476-a95a-901c07dc6dae",
   "metadata": {},
   "outputs": [
    {
     "name": "stderr",
     "output_type": "stream",
     "text": [
      "GroupBy Map: 100%|██████████| 200/200 [00:00<00:00, 306.37it/s]\n",
      "GroupBy Reduce: 100%|██████████| 1/1 [00:00<00:00, 182.65it/s]\n"
     ]
    },
    {
     "data": {
      "text/plain": [
       "4999.5"
      ]
     },
     "execution_count": 8,
     "metadata": {},
     "output_type": "execute_result"
    }
   ],
   "source": [
    "ds.mean()"
   ]
  },
  {
   "cell_type": "markdown",
   "id": "83cfb1c8-b0b0-4724-8626-3c08fa4f24d3",
   "metadata": {},
   "source": [
    "## read parquet"
   ]
  },
  {
   "cell_type": "code",
   "execution_count": 9,
   "id": "ebfa6d61-449d-442f-82a9-e7b7de2c3523",
   "metadata": {},
   "outputs": [],
   "source": [
    "import pandas as pd\n",
    "pd.DataFrame([(1,2,3)]* 1000000, columns=['col1', 'col2', 'col3']).to_parquet('/tmp/tmp_ex_07.parquet')\n",
    "pd.DataFrame([(1,2,3)]* 1000000, columns=['col1', 'col2', 'col3']).to_csv('/tmp/tmp_ex_07.csv')"
   ]
  },
  {
   "cell_type": "code",
   "execution_count": 10,
   "id": "e584d860-5888-4847-bb70-25cde50bb553",
   "metadata": {},
   "outputs": [
    {
     "name": "stdout",
     "output_type": "stream",
     "text": [
      "total 13M\n",
      "drwxrwxrwx 18 root root  1M Dec 25 19:43 ray\n",
      "-rw-------  1 root root  1M Dec  3 02:34 tmp7xk4pjtb\n",
      "-rw-r--r--  1 root root 13M Dec 25 19:43 tmp_ex_07.csv\n",
      "-rw-r--r--  1 root root  1M Dec 25 19:43 tmp_ex_07.parquet\n"
     ]
    }
   ],
   "source": [
    "!ls -l --block-size M /tmp/"
   ]
  },
  {
   "cell_type": "markdown",
   "id": "4ca3651c-5a49-4717-986b-7cac353b4aa3",
   "metadata": {},
   "source": [
    "### read parquet"
   ]
  },
  {
   "cell_type": "code",
   "execution_count": 11,
   "id": "d81cc113-dcb6-4fa8-beb5-6fe49415cd20",
   "metadata": {},
   "outputs": [],
   "source": [
    "df = ray.data.read_parquet(['/tmp/tmp_ex_07.parquet'] * 3)\n"
   ]
  },
  {
   "cell_type": "code",
   "execution_count": 12,
   "id": "d99b1467-f9a8-419d-a76e-f7cbcc34400b",
   "metadata": {},
   "outputs": [
    {
     "data": {
      "text/plain": [
       "Dataset(num_blocks=3, num_rows=3000000, schema={col1: int64, col2: int64, col3: int64})"
      ]
     },
     "execution_count": 12,
     "metadata": {},
     "output_type": "execute_result"
    }
   ],
   "source": [
    "df"
   ]
  },
  {
   "cell_type": "markdown",
   "id": "b1e80244-c037-49f1-aadd-c196eaff4514",
   "metadata": {},
   "source": [
    "##### check re-partition effects"
   ]
  },
  {
   "cell_type": "code",
   "execution_count": 25,
   "id": "1dca5594-a83c-4522-82b4-571d1365a4cc",
   "metadata": {},
   "outputs": [
    {
     "name": "stderr",
     "output_type": "stream",
     "text": [
      "GroupBy Map: 100%|██████████| 3/3 [00:21<00:00,  7.28s/it]\n",
      "GroupBy Reduce: 100%|██████████| 1/1 [00:00<00:00, 482.77it/s]"
     ]
    },
    {
     "name": "stdout",
     "output_type": "stream",
     "text": [
      "CPU times: user 470 ms, sys: 71.5 ms, total: 541 ms\n",
      "Wall time: 22 s\n"
     ]
    },
    {
     "name": "stderr",
     "output_type": "stream",
     "text": [
      "\n"
     ]
    },
    {
     "data": {
      "text/plain": [
       "{'mean(col1)': 1.0, 'mean(col2)': 2.0, 'mean(col3)': 3.0}"
      ]
     },
     "execution_count": 25,
     "metadata": {},
     "output_type": "execute_result"
    }
   ],
   "source": [
    "df = ray.data.read_parquet(['/tmp/tmp_ex_07.parquet'] * 3)\n",
    "df.mean()"
   ]
  },
  {
   "cell_type": "code",
   "execution_count": 27,
   "id": "ef8f6ee2-f378-42c2-9984-412dbab9ab7f",
   "metadata": {},
   "outputs": [
    {
     "name": "stderr",
     "output_type": "stream",
     "text": [
      "Repartition: 100%|██████████| 8/8 [00:00<00:00, 339.51it/s]\n",
      "GroupBy Map: 100%|██████████| 8/8 [00:17<00:00,  2.22s/it]\n",
      "GroupBy Reduce: 100%|██████████| 1/1 [00:00<00:00, 371.77it/s]"
     ]
    },
    {
     "name": "stdout",
     "output_type": "stream",
     "text": [
      "CPU times: user 480 ms, sys: 77.8 ms, total: 558 ms\n",
      "Wall time: 18 s\n"
     ]
    },
    {
     "name": "stderr",
     "output_type": "stream",
     "text": [
      "\n"
     ]
    },
    {
     "data": {
      "text/plain": [
       "{'mean(col1)': 1.0, 'mean(col2)': 2.0, 'mean(col3)': 3.0}"
      ]
     },
     "execution_count": 27,
     "metadata": {},
     "output_type": "execute_result"
    }
   ],
   "source": [
    "%%time\n",
    "# parquet\n",
    "df = ray.data.read_parquet(['/tmp/tmp_ex_07.parquet'] * 3).repartition(8)\n",
    "df.mean()"
   ]
  },
  {
   "cell_type": "markdown",
   "id": "3c890d89-9e5c-42f6-b414-220b51c0b9e9",
   "metadata": {},
   "source": [
    "### read_csv"
   ]
  },
  {
   "cell_type": "code",
   "execution_count": 28,
   "id": "932bd456-af60-4dd1-8a1e-6d446edcfaca",
   "metadata": {},
   "outputs": [
    {
     "name": "stderr",
     "output_type": "stream",
     "text": [
      "GroupBy Map: 100%|██████████| 3/3 [00:28<00:00,  9.60s/it]\n",
      "GroupBy Reduce: 100%|██████████| 1/1 [00:00<00:00, 479.62it/s]"
     ]
    },
    {
     "name": "stdout",
     "output_type": "stream",
     "text": [
      "CPU times: user 548 ms, sys: 120 ms, total: 668 ms\n",
      "Wall time: 29.2 s\n"
     ]
    },
    {
     "name": "stderr",
     "output_type": "stream",
     "text": [
      "\n"
     ]
    },
    {
     "data": {
      "text/plain": [
       "{'mean()': 499999.5, 'mean(col1)': 1.0, 'mean(col2)': 2.0, 'mean(col3)': 3.0}"
      ]
     },
     "execution_count": 28,
     "metadata": {},
     "output_type": "execute_result"
    }
   ],
   "source": [
    "%%time\n",
    "df = ray.data.read_csv(['/tmp/tmp_ex_07.csv'] * 3)\n",
    "df.mean()"
   ]
  },
  {
   "cell_type": "code",
   "execution_count": 29,
   "id": "b7365176-c2b3-4b5e-87e2-c7e01f849adb",
   "metadata": {},
   "outputs": [
    {
     "name": "stderr",
     "output_type": "stream",
     "text": [
      "Repartition: 100%|██████████| 8/8 [00:00<00:00, 318.12it/s]\n",
      "GroupBy Map: 100%|██████████| 8/8 [00:27<00:00,  3.44s/it]\n",
      "GroupBy Reduce: 100%|██████████| 1/1 [00:00<00:00, 347.24it/s]"
     ]
    },
    {
     "name": "stdout",
     "output_type": "stream",
     "text": [
      "CPU times: user 692 ms, sys: 170 ms, total: 861 ms\n",
      "Wall time: 28.1 s\n"
     ]
    },
    {
     "name": "stderr",
     "output_type": "stream",
     "text": [
      "\n"
     ]
    },
    {
     "data": {
      "text/plain": [
       "{'mean()': 499999.5, 'mean(col1)': 1.0, 'mean(col2)': 2.0, 'mean(col3)': 3.0}"
      ]
     },
     "execution_count": 29,
     "metadata": {},
     "output_type": "execute_result"
    }
   ],
   "source": [
    "%%time\n",
    "df = ray.data.read_csv(['/tmp/tmp_ex_07.csv'] * 3).repartition(8)\n",
    "df.mean()"
   ]
  },
  {
   "cell_type": "markdown",
   "id": "f7a6dc9f-2b37-407c-b4bb-bab593d5fbfa",
   "metadata": {
    "tags": []
   },
   "source": [
    "# Modin"
   ]
  },
  {
   "cell_type": "code",
   "execution_count": 30,
   "id": "645d2a64-8deb-418b-976b-36a28dfb7b06",
   "metadata": {},
   "outputs": [],
   "source": [
    "import modin.pandas as mod_pd\n",
    "import pandas as pd"
   ]
  },
  {
   "cell_type": "code",
   "execution_count": 31,
   "id": "c0ba12de-bb8b-4930-a329-58748a50a039",
   "metadata": {},
   "outputs": [
    {
     "name": "stdout",
     "output_type": "stream",
     "text": [
      "CPU times: user 186 ms, sys: 33.8 ms, total: 220 ms\n",
      "Wall time: 474 ms\n"
     ]
    },
    {
     "data": {
      "text/plain": [
       "col1    1.0\n",
       "col2    2.0\n",
       "col3    3.0\n",
       "dtype: float64"
      ]
     },
     "execution_count": 31,
     "metadata": {},
     "output_type": "execute_result"
    }
   ],
   "source": [
    "%%time\n",
    "files = ['/tmp/tmp_ex_07.parquet']* 3\n",
    "mod_df = mod_pd.read_parquet(files)\n",
    "mod_df.mean()"
   ]
  },
  {
   "cell_type": "code",
   "execution_count": 34,
   "id": "804cf466-442a-41ff-b5de-fd71c8a8152c",
   "metadata": {},
   "outputs": [
    {
     "name": "stdout",
     "output_type": "stream",
     "text": [
      "CPU times: user 60.3 ms, sys: 30.2 ms, total: 90.5 ms\n",
      "Wall time: 326 ms\n"
     ]
    },
    {
     "data": {
      "text/plain": [
       "Unnamed: 0    499999.5\n",
       "col1               1.0\n",
       "col2               2.0\n",
       "col3               3.0\n",
       "dtype: float64"
      ]
     },
     "execution_count": 34,
     "metadata": {},
     "output_type": "execute_result"
    }
   ],
   "source": [
    "%%time\n",
    "file = '/tmp/tmp_ex_07.csv'\n",
    "mod_df = mod_pd.read_csv(file)\n",
    "mod_df.mean()"
   ]
  },
  {
   "cell_type": "code",
   "execution_count": 32,
   "id": "1ef10104-28a5-49a7-9cb7-5fb7be501afe",
   "metadata": {},
   "outputs": [
    {
     "name": "stdout",
     "output_type": "stream",
     "text": [
      "CPU times: user 67.3 ms, sys: 55.6 ms, total: 123 ms\n",
      "Wall time: 115 ms\n"
     ]
    },
    {
     "data": {
      "text/plain": [
       "col1    1.0\n",
       "col2    2.0\n",
       "col3    3.0\n",
       "dtype: float64"
      ]
     },
     "execution_count": 32,
     "metadata": {},
     "output_type": "execute_result"
    }
   ],
   "source": [
    "%%time\n",
    "files = ['/tmp/tmp_ex_07.parquet']* 3\n",
    "pd_df = pd.read_parquet(files)\n",
    "pd_df.mean()"
   ]
  },
  {
   "cell_type": "code",
   "execution_count": 35,
   "id": "9d602e52-2988-4793-944b-16af33235743",
   "metadata": {},
   "outputs": [
    {
     "name": "stdout",
     "output_type": "stream",
     "text": [
      "CPU times: user 171 ms, sys: 20.5 ms, total: 192 ms\n",
      "Wall time: 183 ms\n"
     ]
    },
    {
     "data": {
      "text/plain": [
       "Unnamed: 0    499999.5\n",
       "col1               1.0\n",
       "col2               2.0\n",
       "col3               3.0\n",
       "dtype: float64"
      ]
     },
     "execution_count": 35,
     "metadata": {},
     "output_type": "execute_result"
    }
   ],
   "source": [
    "%%time\n",
    "file = '/tmp/tmp_ex_07.csv'\n",
    "pd_df = pd.read_csv(file)\n",
    "pd_df.mean()"
   ]
  }
 ],
 "metadata": {
  "kernelspec": {
   "display_name": "Python 3 (ipykernel)",
   "language": "python",
   "name": "python3"
  },
  "language_info": {
   "codemirror_mode": {
    "name": "ipython",
    "version": 3
   },
   "file_extension": ".py",
   "mimetype": "text/x-python",
   "name": "python",
   "nbconvert_exporter": "python",
   "pygments_lexer": "ipython3",
   "version": "3.7.12"
  }
 },
 "nbformat": 4,
 "nbformat_minor": 5
}
