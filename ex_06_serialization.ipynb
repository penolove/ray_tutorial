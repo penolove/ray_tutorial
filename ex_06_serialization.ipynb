{
 "cells": [
  {
   "cell_type": "markdown",
   "id": "d268a191-423b-4643-acc3-286f1806475f",
   "metadata": {},
   "source": [
    "# [Serialization](https://docs.ray.io/en/latest/serialization.html)\n",
    "Since Ray processes do not share memory space, data transferred between workers and nodes will need to serialized and deserialized. \n",
    "\n",
    "Ray uses the [**Plasma object store**](https://arrow.apache.org/docs/python/plasma.html) to efficiently transfer objects across different processes and different nodes. \n",
    "\n",
    "Numpy arrays in the object store are shared between workers on the same node (zero-copy deserialization).\n",
    "\n",
    "Ray has decided to use a **customized Pickle protocol version 5** backport to replace the original PyArrow serializer. This gets rid of several previous limitations (e.g. cannot serialize recursive objects).\n",
    "\n",
    "Ray is currently compatible with Pickle protocol version 5, while Ray supports serialization of a wider range of objects **(e.g. lambda & nested functions, dynamic classes) with the help of cloudpickle.**\n",
    "\n"
   ]
  },
  {
   "cell_type": "code",
   "execution_count": 1,
   "id": "d480a31b-c879-4ff9-85fb-0a58f998cffe",
   "metadata": {},
   "outputs": [],
   "source": [
    "import logging\n",
    "import ray"
   ]
  },
  {
   "cell_type": "markdown",
   "id": "a823d78c-b6c0-4a70-8b78-7dd5f4246f8d",
   "metadata": {
    "tags": []
   },
   "source": [
    "## Usually most of self defined class were serizable and needn't any change"
   ]
  },
  {
   "cell_type": "code",
   "execution_count": 2,
   "id": "f253b1b5-c0c9-4e9b-bc9b-49fc0e02289c",
   "metadata": {},
   "outputs": [
    {
     "name": "stderr",
     "output_type": "stream",
     "text": [
      "2021-12-28 16:32:36,332\tINFO services.py:1340 -- View the Ray dashboard at \u001b[1m\u001b[32mhttp://127.0.0.1:8265\u001b[39m\u001b[22m\n",
      "2021-12-28 16:32:36,346\tWARNING services.py:1826 -- WARNING: The object store is using /tmp instead of /dev/shm because /dev/shm has only 66994176 bytes available. This will harm performance! You may be able to free up space by deleting files in /dev/shm. If you are inside a Docker container, you can increase /dev/shm size by passing '--shm-size=4.86gb' to 'docker run' (or add it to the run_options list in a Ray cluster config). Make sure to set this to more than 30% of available RAM.\n"
     ]
    }
   ],
   "source": [
    "import numpy as np\n",
    "obj = [np.zeros(42)] * 99\n",
    "l = ray.get(ray.put(obj))\n",
    "assert l[0] is l[1]  # no problem!"
   ]
  },
  {
   "cell_type": "code",
   "execution_count": 3,
   "id": "259cf357-c59d-4128-9505-8ad6ccdf160a",
   "metadata": {},
   "outputs": [],
   "source": [
    "import time\n",
    "\n",
    "# `la` in taiwanese means stir\n",
    "\n",
    "@ray.remote\n",
    "class Cup:\n",
    "    def __init__(self, capacity):\n",
    "        self.capacity = capacity\n",
    "    \n",
    "    def la_with_laable_item(self, laable_item):\n",
    "        if laable_item.la():\n",
    "            time.sleep(2)\n",
    "            self.capacity -= 1\n",
    "            \n",
    "    def is_good(self):\n",
    "        return self.capacity <= 0"
   ]
  },
  {
   "cell_type": "code",
   "execution_count": 4,
   "id": "4d55f3ba-7f98-4fd8-bac5-fc08e7ed0288",
   "metadata": {},
   "outputs": [],
   "source": [
    "class Spoon:\n",
    "    def __init__(self, sp_id):\n",
    "        self.sp_id = sp_id\n",
    "    \n",
    "    def la(self):\n",
    "        return True\n",
    "    \n",
    "\n",
    "class Leborn:\n",
    "    def __init__(self, lb_id):\n",
    "        self.lb_id = lb_id\n",
    "    \n",
    "    def la(self):\n",
    "        return False"
   ]
  },
  {
   "cell_type": "markdown",
   "id": "a3ed844a-70b1-460b-b28e-c16f5071dbba",
   "metadata": {},
   "source": [
    "### What if we `La` with Spoon?\n"
   ]
  },
  {
   "cell_type": "code",
   "execution_count": 5,
   "id": "7c1c0da7-a2f8-4c8a-971b-238962cc4ce0",
   "metadata": {},
   "outputs": [
    {
     "name": "stdout",
     "output_type": "stream",
     "text": [
      "la first time\n",
      "la first time sent\n",
      "is it good drink, False\n",
      "la second time\n",
      "la second time sent\n",
      "is it good drink, False\n",
      "la third time\n",
      "la third time sent\n",
      "is it good drink, True\n",
      "CPU times: user 279 ms, sys: 98.1 ms, total: 377 ms\n",
      "Wall time: 6.04 s\n"
     ]
    }
   ],
   "source": [
    "%%time\n",
    "cup1 = Cup.remote(3)\n",
    "sp_ref = ray.put(Spoon(\"good good spoon\"))\n",
    "print('la first time')\n",
    "cup1.la_with_laable_item.remote(sp_ref)\n",
    "print('la first time sent')\n",
    "print(f\"is it good drink, {ray.get(cup1.is_good.remote())}\")\n",
    "\n",
    "print('la second time')\n",
    "cup1.la_with_laable_item.remote(sp_ref)\n",
    "print('la second time sent')\n",
    "print(f\"is it good drink, {ray.get(cup1.is_good.remote())}\")\n",
    "\n",
    "print('la third time')\n",
    "cup1.la_with_laable_item.remote(sp_ref)\n",
    "print('la third time sent')\n",
    "print(f\"is it good drink, {ray.get(cup1.is_good.remote())}\")"
   ]
  },
  {
   "cell_type": "code",
   "execution_count": 6,
   "id": "4648b26d-8a2e-49d6-86cf-f4d6d9330733",
   "metadata": {},
   "outputs": [
    {
     "name": "stdout",
     "output_type": "stream",
     "text": [
      "la first time\n",
      "la first time sent\n",
      "is it good drink, False\n",
      "la second time\n",
      "la second time sent\n",
      "is it good drink, False\n",
      "la third time\n",
      "la third time sent\n",
      "is it good drink, True\n",
      "CPU times: user 286 ms, sys: 129 ms, total: 415 ms\n",
      "Wall time: 6.03 s\n"
     ]
    }
   ],
   "source": [
    "%%time\n",
    "cup2 = Cup.remote(3)\n",
    "\n",
    "local_sp = Spoon(\"good good spoon\")\n",
    "print('la first time')\n",
    "cup2.la_with_laable_item.remote(local_sp)\n",
    "print('la first time sent')\n",
    "print(f\"is it good drink, {ray.get(cup2.is_good.remote())}\")\n",
    "\n",
    "print('la second time')\n",
    "cup2.la_with_laable_item.remote(local_sp)\n",
    "print('la second time sent')\n",
    "print(f\"is it good drink, {ray.get(cup2.is_good.remote())}\")\n",
    "\n",
    "print('la third time')\n",
    "cup2.la_with_laable_item.remote(local_sp)\n",
    "print('la third time sent')\n",
    "print(f\"is it good drink, {ray.get(cup2.is_good.remote())}\")"
   ]
  },
  {
   "cell_type": "markdown",
   "id": "b45e4709-0b2c-482e-a73c-fb70c55d8273",
   "metadata": {},
   "source": [
    "after spent 6 seconds, cup good good"
   ]
  },
  {
   "cell_type": "markdown",
   "id": "7e433d47-5583-4c44-b1d5-acdb7e66e527",
   "metadata": {},
   "source": [
    "### What if we `La` with Leborn?"
   ]
  },
  {
   "cell_type": "code",
   "execution_count": 7,
   "id": "9fd9152e-1356-4349-8754-2583b5604e42",
   "metadata": {},
   "outputs": [
    {
     "name": "stdout",
     "output_type": "stream",
     "text": [
      "la first time\n",
      "la first time sent\n",
      "is it good drink, False\n",
      "la second time\n",
      "la second time sent\n",
      "is it good drink, False\n",
      "la third time\n",
      "la third time sent\n",
      "is it good drink, False\n",
      "CPU times: user 16.6 ms, sys: 4.15 ms, total: 20.8 ms\n",
      "Wall time: 24.8 ms\n"
     ]
    }
   ],
   "source": [
    "%%time\n",
    "\n",
    "local_lb = Leborn(\"good good Leborn\")\n",
    "cup3 = Cup.remote(3)\n",
    "\n",
    "print('la first time')\n",
    "cup3.la_with_laable_item.remote(local_lb)\n",
    "print('la first time sent')\n",
    "print(f\"is it good drink, {ray.get(cup3.is_good.remote())}\")\n",
    "\n",
    "print('la second time')\n",
    "cup3.la_with_laable_item.remote(local_lb)\n",
    "print('la second time sent')\n",
    "print(f\"is it good drink, {ray.get(cup3.is_good.remote())}\")\n",
    "\n",
    "print('la third time')\n",
    "cup3.la_with_laable_item.remote(local_lb)\n",
    "print('la third time sent')\n",
    "print(f\"is it good drink, {ray.get(cup3.is_good.remote())}\")"
   ]
  },
  {
   "cell_type": "markdown",
   "id": "72ba49d3-c513-4239-85ee-7c6e77e6fd96",
   "metadata": {},
   "source": [
    "cup is not good yet, of-course, Leborn is not Laable"
   ]
  },
  {
   "cell_type": "markdown",
   "id": "4b35bf3e-7cca-4c38-8e35-8c73c763c7f5",
   "metadata": {},
   "source": [
    "## Some Special Class need thier own serialziation"
   ]
  },
  {
   "cell_type": "markdown",
   "id": "f087b029-218f-491d-88d0-edfd5fbf1498",
   "metadata": {},
   "source": [
    "### first way: __ reduce __"
   ]
  },
  {
   "cell_type": "code",
   "execution_count": 8,
   "id": "4f163718-ac4d-49bb-90fc-91ec883afee7",
   "metadata": {
    "collapsed": true,
    "jupyter": {
     "outputs_hidden": true
    },
    "tags": []
   },
   "outputs": [
    {
     "ename": "TypeError",
     "evalue": "can't pickle _thread.lock objects",
     "output_type": "error",
     "traceback": [
      "\u001b[0;31m---------------------------------------------------------------------------\u001b[0m",
      "\u001b[0;31mTypeError\u001b[0m                                 Traceback (most recent call last)",
      "\u001b[0;32m/tmp/ipykernel_5529/936152778.py\u001b[0m in \u001b[0;36m<module>\u001b[0;34m\u001b[0m\n\u001b[1;32m      8\u001b[0m \u001b[0;34m\u001b[0m\u001b[0m\n\u001b[1;32m      9\u001b[0m \u001b[0;34m\u001b[0m\u001b[0m\n\u001b[0;32m---> 10\u001b[0;31m \u001b[0mray\u001b[0m\u001b[0;34m.\u001b[0m\u001b[0mget\u001b[0m\u001b[0;34m(\u001b[0m\u001b[0mray\u001b[0m\u001b[0;34m.\u001b[0m\u001b[0mput\u001b[0m\u001b[0;34m(\u001b[0m\u001b[0mA\u001b[0m\u001b[0;34m(\u001b[0m\u001b[0;36m1\u001b[0m\u001b[0;34m)\u001b[0m\u001b[0;34m)\u001b[0m\u001b[0;34m)\u001b[0m  \u001b[0;31m# fail!\u001b[0m\u001b[0;34m\u001b[0m\u001b[0;34m\u001b[0m\u001b[0m\n\u001b[0m\u001b[1;32m     11\u001b[0m \u001b[0;34m\u001b[0m\u001b[0m\n\u001b[1;32m     12\u001b[0m \u001b[0;32mclass\u001b[0m \u001b[0mA_with_reduce\u001b[0m\u001b[0;34m:\u001b[0m\u001b[0;34m\u001b[0m\u001b[0;34m\u001b[0m\u001b[0m\n",
      "\u001b[0;32m/usr/local/lib/python3.7/site-packages/ray/_private/client_mode_hook.py\u001b[0m in \u001b[0;36mwrapper\u001b[0;34m(*args, **kwargs)\u001b[0m\n\u001b[1;32m    103\u001b[0m             \u001b[0;32mif\u001b[0m \u001b[0mfunc\u001b[0m\u001b[0;34m.\u001b[0m\u001b[0m__name__\u001b[0m \u001b[0;34m!=\u001b[0m \u001b[0;34m\"init\"\u001b[0m \u001b[0;32mor\u001b[0m \u001b[0mis_client_mode_enabled_by_default\u001b[0m\u001b[0;34m:\u001b[0m\u001b[0;34m\u001b[0m\u001b[0;34m\u001b[0m\u001b[0m\n\u001b[1;32m    104\u001b[0m                 \u001b[0;32mreturn\u001b[0m \u001b[0mgetattr\u001b[0m\u001b[0;34m(\u001b[0m\u001b[0mray\u001b[0m\u001b[0;34m,\u001b[0m \u001b[0mfunc\u001b[0m\u001b[0;34m.\u001b[0m\u001b[0m__name__\u001b[0m\u001b[0;34m)\u001b[0m\u001b[0;34m(\u001b[0m\u001b[0;34m*\u001b[0m\u001b[0margs\u001b[0m\u001b[0;34m,\u001b[0m \u001b[0;34m**\u001b[0m\u001b[0mkwargs\u001b[0m\u001b[0;34m)\u001b[0m\u001b[0;34m\u001b[0m\u001b[0;34m\u001b[0m\u001b[0m\n\u001b[0;32m--> 105\u001b[0;31m         \u001b[0;32mreturn\u001b[0m \u001b[0mfunc\u001b[0m\u001b[0;34m(\u001b[0m\u001b[0;34m*\u001b[0m\u001b[0margs\u001b[0m\u001b[0;34m,\u001b[0m \u001b[0;34m**\u001b[0m\u001b[0mkwargs\u001b[0m\u001b[0;34m)\u001b[0m\u001b[0;34m\u001b[0m\u001b[0;34m\u001b[0m\u001b[0m\n\u001b[0m\u001b[1;32m    106\u001b[0m \u001b[0;34m\u001b[0m\u001b[0m\n\u001b[1;32m    107\u001b[0m     \u001b[0;32mreturn\u001b[0m \u001b[0mwrapper\u001b[0m\u001b[0;34m\u001b[0m\u001b[0;34m\u001b[0m\u001b[0m\n",
      "\u001b[0;32m/usr/local/lib/python3.7/site-packages/ray/worker.py\u001b[0m in \u001b[0;36mput\u001b[0;34m(value, _owner)\u001b[0m\n\u001b[1;32m   1774\u001b[0m         \u001b[0;32mtry\u001b[0m\u001b[0;34m:\u001b[0m\u001b[0;34m\u001b[0m\u001b[0;34m\u001b[0m\u001b[0m\n\u001b[1;32m   1775\u001b[0m             object_ref = worker.put_object(\n\u001b[0;32m-> 1776\u001b[0;31m                 value, owner_address=serialize_owner_address)\n\u001b[0m\u001b[1;32m   1777\u001b[0m         \u001b[0;32mexcept\u001b[0m \u001b[0mObjectStoreFullError\u001b[0m\u001b[0;34m:\u001b[0m\u001b[0;34m\u001b[0m\u001b[0;34m\u001b[0m\u001b[0m\n\u001b[1;32m   1778\u001b[0m             logger.info(\n",
      "\u001b[0;32m/usr/local/lib/python3.7/site-packages/ray/worker.py\u001b[0m in \u001b[0;36mput_object\u001b[0;34m(self, value, object_ref, owner_address)\u001b[0m\n\u001b[1;32m    291\u001b[0m                                         \"inserting with an ObjectRef\")\n\u001b[1;32m    292\u001b[0m \u001b[0;34m\u001b[0m\u001b[0m\n\u001b[0;32m--> 293\u001b[0;31m         \u001b[0mserialized_value\u001b[0m \u001b[0;34m=\u001b[0m \u001b[0mself\u001b[0m\u001b[0;34m.\u001b[0m\u001b[0mget_serialization_context\u001b[0m\u001b[0;34m(\u001b[0m\u001b[0;34m)\u001b[0m\u001b[0;34m.\u001b[0m\u001b[0mserialize\u001b[0m\u001b[0;34m(\u001b[0m\u001b[0mvalue\u001b[0m\u001b[0;34m)\u001b[0m\u001b[0;34m\u001b[0m\u001b[0;34m\u001b[0m\u001b[0m\n\u001b[0m\u001b[1;32m    294\u001b[0m         \u001b[0;31m# This *must* be the first place that we construct this python\u001b[0m\u001b[0;34m\u001b[0m\u001b[0;34m\u001b[0m\u001b[0;34m\u001b[0m\u001b[0m\n\u001b[1;32m    295\u001b[0m         \u001b[0;31m# ObjectRef because an entry with 0 local references is created when\u001b[0m\u001b[0;34m\u001b[0m\u001b[0;34m\u001b[0m\u001b[0;34m\u001b[0m\u001b[0m\n",
      "\u001b[0;32m/usr/local/lib/python3.7/site-packages/ray/serialization.py\u001b[0m in \u001b[0;36mserialize\u001b[0;34m(self, value)\u001b[0m\n\u001b[1;32m    359\u001b[0m             \u001b[0;32mreturn\u001b[0m \u001b[0mRawSerializedObject\u001b[0m\u001b[0;34m(\u001b[0m\u001b[0mvalue\u001b[0m\u001b[0;34m)\u001b[0m\u001b[0;34m\u001b[0m\u001b[0;34m\u001b[0m\u001b[0m\n\u001b[1;32m    360\u001b[0m         \u001b[0;32melse\u001b[0m\u001b[0;34m:\u001b[0m\u001b[0;34m\u001b[0m\u001b[0;34m\u001b[0m\u001b[0m\n\u001b[0;32m--> 361\u001b[0;31m             \u001b[0;32mreturn\u001b[0m \u001b[0mself\u001b[0m\u001b[0;34m.\u001b[0m\u001b[0m_serialize_to_msgpack\u001b[0m\u001b[0;34m(\u001b[0m\u001b[0mvalue\u001b[0m\u001b[0;34m)\u001b[0m\u001b[0;34m\u001b[0m\u001b[0;34m\u001b[0m\u001b[0m\n\u001b[0m",
      "\u001b[0;32m/usr/local/lib/python3.7/site-packages/ray/serialization.py\u001b[0m in \u001b[0;36m_serialize_to_msgpack\u001b[0;34m(self, value)\u001b[0m\n\u001b[1;32m    339\u001b[0m             \u001b[0mmetadata\u001b[0m \u001b[0;34m=\u001b[0m \u001b[0mray_constants\u001b[0m\u001b[0;34m.\u001b[0m\u001b[0mOBJECT_METADATA_TYPE_PYTHON\u001b[0m\u001b[0;34m\u001b[0m\u001b[0;34m\u001b[0m\u001b[0m\n\u001b[1;32m    340\u001b[0m             \u001b[0mpickle5_serialized_object\u001b[0m \u001b[0;34m=\u001b[0m\u001b[0;31m \u001b[0m\u001b[0;31m\\\u001b[0m\u001b[0;34m\u001b[0m\u001b[0;34m\u001b[0m\u001b[0m\n\u001b[0;32m--> 341\u001b[0;31m                 \u001b[0mself\u001b[0m\u001b[0;34m.\u001b[0m\u001b[0m_serialize_to_pickle5\u001b[0m\u001b[0;34m(\u001b[0m\u001b[0mmetadata\u001b[0m\u001b[0;34m,\u001b[0m \u001b[0mpython_objects\u001b[0m\u001b[0;34m)\u001b[0m\u001b[0;34m\u001b[0m\u001b[0;34m\u001b[0m\u001b[0m\n\u001b[0m\u001b[1;32m    342\u001b[0m         \u001b[0;32melse\u001b[0m\u001b[0;34m:\u001b[0m\u001b[0;34m\u001b[0m\u001b[0;34m\u001b[0m\u001b[0m\n\u001b[1;32m    343\u001b[0m             \u001b[0mpickle5_serialized_object\u001b[0m \u001b[0;34m=\u001b[0m \u001b[0;32mNone\u001b[0m\u001b[0;34m\u001b[0m\u001b[0;34m\u001b[0m\u001b[0m\n",
      "\u001b[0;32m/usr/local/lib/python3.7/site-packages/ray/serialization.py\u001b[0m in \u001b[0;36m_serialize_to_pickle5\u001b[0;34m(self, metadata, value)\u001b[0m\n\u001b[1;32m    299\u001b[0m         \u001b[0;32mexcept\u001b[0m \u001b[0mException\u001b[0m \u001b[0;32mas\u001b[0m \u001b[0me\u001b[0m\u001b[0;34m:\u001b[0m\u001b[0;34m\u001b[0m\u001b[0;34m\u001b[0m\u001b[0m\n\u001b[1;32m    300\u001b[0m             \u001b[0mself\u001b[0m\u001b[0;34m.\u001b[0m\u001b[0mget_and_clear_contained_object_refs\u001b[0m\u001b[0;34m(\u001b[0m\u001b[0;34m)\u001b[0m\u001b[0;34m\u001b[0m\u001b[0;34m\u001b[0m\u001b[0m\n\u001b[0;32m--> 301\u001b[0;31m             \u001b[0;32mraise\u001b[0m \u001b[0me\u001b[0m\u001b[0;34m\u001b[0m\u001b[0;34m\u001b[0m\u001b[0m\n\u001b[0m\u001b[1;32m    302\u001b[0m         \u001b[0;32mfinally\u001b[0m\u001b[0;34m:\u001b[0m\u001b[0;34m\u001b[0m\u001b[0;34m\u001b[0m\u001b[0m\n\u001b[1;32m    303\u001b[0m             \u001b[0mself\u001b[0m\u001b[0;34m.\u001b[0m\u001b[0mset_out_of_band_serialization\u001b[0m\u001b[0;34m(\u001b[0m\u001b[0;34m)\u001b[0m\u001b[0;34m\u001b[0m\u001b[0;34m\u001b[0m\u001b[0m\n",
      "\u001b[0;32m/usr/local/lib/python3.7/site-packages/ray/serialization.py\u001b[0m in \u001b[0;36m_serialize_to_pickle5\u001b[0;34m(self, metadata, value)\u001b[0m\n\u001b[1;32m    296\u001b[0m             \u001b[0mself\u001b[0m\u001b[0;34m.\u001b[0m\u001b[0mset_in_band_serialization\u001b[0m\u001b[0;34m(\u001b[0m\u001b[0;34m)\u001b[0m\u001b[0;34m\u001b[0m\u001b[0;34m\u001b[0m\u001b[0m\n\u001b[1;32m    297\u001b[0m             inband = pickle.dumps(\n\u001b[0;32m--> 298\u001b[0;31m                 value, protocol=5, buffer_callback=writer.buffer_callback)\n\u001b[0m\u001b[1;32m    299\u001b[0m         \u001b[0;32mexcept\u001b[0m \u001b[0mException\u001b[0m \u001b[0;32mas\u001b[0m \u001b[0me\u001b[0m\u001b[0;34m:\u001b[0m\u001b[0;34m\u001b[0m\u001b[0;34m\u001b[0m\u001b[0m\n\u001b[1;32m    300\u001b[0m             \u001b[0mself\u001b[0m\u001b[0;34m.\u001b[0m\u001b[0mget_and_clear_contained_object_refs\u001b[0m\u001b[0;34m(\u001b[0m\u001b[0;34m)\u001b[0m\u001b[0;34m\u001b[0m\u001b[0;34m\u001b[0m\u001b[0m\n",
      "\u001b[0;32m/usr/local/lib/python3.7/site-packages/ray/cloudpickle/cloudpickle_fast.py\u001b[0m in \u001b[0;36mdumps\u001b[0;34m(obj, protocol, buffer_callback)\u001b[0m\n\u001b[1;32m     71\u001b[0m                 \u001b[0mfile\u001b[0m\u001b[0;34m,\u001b[0m \u001b[0mprotocol\u001b[0m\u001b[0;34m=\u001b[0m\u001b[0mprotocol\u001b[0m\u001b[0;34m,\u001b[0m \u001b[0mbuffer_callback\u001b[0m\u001b[0;34m=\u001b[0m\u001b[0mbuffer_callback\u001b[0m\u001b[0;34m\u001b[0m\u001b[0;34m\u001b[0m\u001b[0m\n\u001b[1;32m     72\u001b[0m             )\n\u001b[0;32m---> 73\u001b[0;31m             \u001b[0mcp\u001b[0m\u001b[0;34m.\u001b[0m\u001b[0mdump\u001b[0m\u001b[0;34m(\u001b[0m\u001b[0mobj\u001b[0m\u001b[0;34m)\u001b[0m\u001b[0;34m\u001b[0m\u001b[0;34m\u001b[0m\u001b[0m\n\u001b[0m\u001b[1;32m     74\u001b[0m             \u001b[0;32mreturn\u001b[0m \u001b[0mfile\u001b[0m\u001b[0;34m.\u001b[0m\u001b[0mgetvalue\u001b[0m\u001b[0;34m(\u001b[0m\u001b[0;34m)\u001b[0m\u001b[0;34m\u001b[0m\u001b[0;34m\u001b[0m\u001b[0m\n\u001b[1;32m     75\u001b[0m \u001b[0;34m\u001b[0m\u001b[0m\n",
      "\u001b[0;32m/usr/local/lib/python3.7/site-packages/ray/cloudpickle/cloudpickle_fast.py\u001b[0m in \u001b[0;36mdump\u001b[0;34m(self, obj)\u001b[0m\n\u001b[1;32m    618\u001b[0m     \u001b[0;32mdef\u001b[0m \u001b[0mdump\u001b[0m\u001b[0;34m(\u001b[0m\u001b[0mself\u001b[0m\u001b[0;34m,\u001b[0m \u001b[0mobj\u001b[0m\u001b[0;34m)\u001b[0m\u001b[0;34m:\u001b[0m\u001b[0;34m\u001b[0m\u001b[0;34m\u001b[0m\u001b[0m\n\u001b[1;32m    619\u001b[0m         \u001b[0;32mtry\u001b[0m\u001b[0;34m:\u001b[0m\u001b[0;34m\u001b[0m\u001b[0;34m\u001b[0m\u001b[0m\n\u001b[0;32m--> 620\u001b[0;31m             \u001b[0;32mreturn\u001b[0m \u001b[0mPickler\u001b[0m\u001b[0;34m.\u001b[0m\u001b[0mdump\u001b[0m\u001b[0;34m(\u001b[0m\u001b[0mself\u001b[0m\u001b[0;34m,\u001b[0m \u001b[0mobj\u001b[0m\u001b[0;34m)\u001b[0m\u001b[0;34m\u001b[0m\u001b[0;34m\u001b[0m\u001b[0m\n\u001b[0m\u001b[1;32m    621\u001b[0m         \u001b[0;32mexcept\u001b[0m \u001b[0mRuntimeError\u001b[0m \u001b[0;32mas\u001b[0m \u001b[0me\u001b[0m\u001b[0;34m:\u001b[0m\u001b[0;34m\u001b[0m\u001b[0;34m\u001b[0m\u001b[0m\n\u001b[1;32m    622\u001b[0m             \u001b[0;32mif\u001b[0m \u001b[0;34m\"recursion\"\u001b[0m \u001b[0;32min\u001b[0m \u001b[0me\u001b[0m\u001b[0;34m.\u001b[0m\u001b[0margs\u001b[0m\u001b[0;34m[\u001b[0m\u001b[0;36m0\u001b[0m\u001b[0;34m]\u001b[0m\u001b[0;34m:\u001b[0m\u001b[0;34m\u001b[0m\u001b[0;34m\u001b[0m\u001b[0m\n",
      "\u001b[0;31mTypeError\u001b[0m: can't pickle _thread.lock objects"
     ]
    }
   ],
   "source": [
    "import ray\n",
    "import threading\n",
    "\n",
    "class A:\n",
    "    def __init__(self, x):\n",
    "        self.x = x\n",
    "        self.lock = threading.Lock()  # could not be serialized!\n",
    "    \n",
    "\n",
    "ray.get(ray.put(A(1)))  # fail!\n"
   ]
  },
  {
   "cell_type": "code",
   "execution_count": 10,
   "id": "d27873b5-eb5a-4daa-ab60-a5c1813d61ab",
   "metadata": {},
   "outputs": [
    {
     "data": {
      "text/plain": [
       "<__main__.A_with_reduce at 0x7fce204a5cd0>"
      ]
     },
     "execution_count": 10,
     "metadata": {},
     "output_type": "execute_result"
    }
   ],
   "source": [
    "class A_with_reduce:\n",
    "    def __init__(self, x):\n",
    "        self.x = x\n",
    "        self.lock = threading.Lock()  # could not be serialized!\n",
    "\n",
    "    def __reduce__(self):\n",
    "        deserializer = A_with_reduce\n",
    "        serialized_data = (self.x,)\n",
    "        return deserializer, serialized_data\n",
    "\n",
    "ray.get(ray.put(A_with_reduce(1)))  # success!"
   ]
  },
  {
   "cell_type": "markdown",
   "id": "cf089462-d4d0-4652-9816-61041a4bdfcd",
   "metadata": {},
   "source": [
    "### second way: register_serializer"
   ]
  },
  {
   "cell_type": "code",
   "execution_count": null,
   "id": "7cf9f226-88c8-4f84-b867-a28931e7e699",
   "metadata": {},
   "outputs": [],
   "source": [
    "import ray\n",
    "import threading\n",
    "\n",
    "class A:\n",
    "    def __init__(self, x):\n",
    "        self.x = x\n",
    "        self.lock = threading.Lock()  # could not be serialized!\n",
    "\n",
    "ray.get(ray.put(A(1)))  # fail!\n",
    "\n",
    "def custom_serializer(a):\n",
    "    return a.x\n",
    "\n",
    "def custom_deserializer(b):\n",
    "    return A(b)\n",
    "\n",
    "# Register serializer and deserializer for class A:\n",
    "ray.util.register_serializer(\n",
    "  A, serializer=custom_serializer, deserializer=custom_deserializer)\n",
    "ray.get(ray.put(A(1)))  # success!\n",
    "\n",
    "# You can deregister the serializer at any time.\n",
    "ray.util.deregister_serializer(A)\n",
    "ray.get(ray.put(A(1)))  # fail!\n",
    "\n",
    "# Nothing happens when deregister an unavailable serializer.\n",
    "ray.util.deregister_serializer(A)"
   ]
  },
  {
   "cell_type": "markdown",
   "id": "00e892e8-bc7a-45d7-b158-5d18f824a8d3",
   "metadata": {},
   "source": [
    "### third way: SerializationHelperForA"
   ]
  },
  {
   "cell_type": "code",
   "execution_count": null,
   "id": "aaa61856-726b-4033-ab39-5a38ec2f1c63",
   "metadata": {},
   "outputs": [],
   "source": [
    "import threading\n",
    "\n",
    "class A:\n",
    "    def __init__(self, x):\n",
    "        self.x = x\n",
    "        self.lock = threading.Lock()  # could not serialize!\n",
    "\n",
    "ray.get(ray.put(A(1)))  # fail!\n",
    "\n",
    "class SerializationHelperForA:\n",
    "    \"\"\"A helper class for serialization.\"\"\"\n",
    "    def __init__(self, a):\n",
    "        self.a = a\n",
    "\n",
    "    def __reduce__(self):\n",
    "        return A, (self.a.x,)\n",
    "\n",
    "ray.get(ray.put(SerializationHelperForA(A(1))))  # success!\n",
    "# the serializer only works for a specific object, not all A\n",
    "# instances, so we still expect failure here.\n",
    "ray.get(ray.put(A(1)))  # still fail!"
   ]
  }
 ],
 "metadata": {
  "kernelspec": {
   "display_name": "Python 3 (ipykernel)",
   "language": "python",
   "name": "python3"
  },
  "language_info": {
   "codemirror_mode": {
    "name": "ipython",
    "version": 3
   },
   "file_extension": ".py",
   "mimetype": "text/x-python",
   "name": "python",
   "nbconvert_exporter": "python",
   "pygments_lexer": "ipython3",
   "version": "3.7.12"
  }
 },
 "nbformat": 4,
 "nbformat_minor": 5
}
