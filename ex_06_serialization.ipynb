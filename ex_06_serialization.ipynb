{
 "cells": [
  {
   "cell_type": "markdown",
   "id": "d268a191-423b-4643-acc3-286f1806475f",
   "metadata": {},
   "source": [
    "# [Serialization](https://docs.ray.io/en/latest/serialization.html)\n",
    "Since Ray processes do not share memory space, data transferred between workers and nodes will need to serialized and deserialized. \n",
    "\n",
    "Ray uses the [**Plasma object store**](https://arrow.apache.org/docs/python/plasma.html) to efficiently transfer objects across different processes and different nodes. \n",
    "\n",
    "Numpy arrays in the object store are shared between workers on the same node (zero-copy deserialization).\n",
    "\n"
   ]
  },
  {
   "cell_type": "code",
   "execution_count": 2,
   "id": "d480a31b-c879-4ff9-85fb-0a58f998cffe",
   "metadata": {},
   "outputs": [],
   "source": [
    "import logging\n",
    "import ray"
   ]
  },
  {
   "cell_type": "code",
   "execution_count": 2,
   "id": "f253b1b5-c0c9-4e9b-bc9b-49fc0e02289c",
   "metadata": {},
   "outputs": [
    {
     "name": "stderr",
     "output_type": "stream",
     "text": [
      "2021-12-22 18:20:18,603\tINFO services.py:1340 -- View the Ray dashboard at \u001b[1m\u001b[32mhttp://127.0.0.1:8265\u001b[39m\u001b[22m\n",
      "2021-12-22 18:20:18,606\tWARNING services.py:1826 -- WARNING: The object store is using /tmp instead of /dev/shm because /dev/shm has only 67108864 bytes available. This will harm performance! You may be able to free up space by deleting files in /dev/shm. If you are inside a Docker container, you can increase /dev/shm size by passing '--shm-size=4.97gb' to 'docker run' (or add it to the run_options list in a Ray cluster config). Make sure to set this to more than 30% of available RAM.\n"
     ]
    }
   ],
   "source": [
    "import numpy as np\n",
    "obj = [np.zeros(42)] * 99\n",
    "l = ray.get(ray.put(obj))\n",
    "assert l[0] is l[1]  # no problem!"
   ]
  },
  {
   "cell_type": "markdown",
   "id": "a823d78c-b6c0-4a70-8b78-7dd5f4246f8d",
   "metadata": {
    "tags": []
   },
   "source": [
    "## the ways to serization, customized class"
   ]
  },
  {
   "cell_type": "code",
   "execution_count": 3,
   "id": "259cf357-c59d-4128-9505-8ad6ccdf160a",
   "metadata": {},
   "outputs": [],
   "source": [
    "import time\n",
    "\n",
    "# `la` in taiwanese means stir\n",
    "\n",
    "@ray.remote\n",
    "class Cup:\n",
    "    def __init__(self, capacity):\n",
    "        self.capacity = capacity\n",
    "    \n",
    "    def la_with_laable_item(self, laable_item):\n",
    "        if laable_item.la():\n",
    "            time.sleep(2)\n",
    "            self.capacity -= 1\n",
    "            \n",
    "    def is_good(self):\n",
    "        return self.capacity <= 0\n",
    "        \n",
    "\n",
    "class Leborn:\n",
    "    def __init__(self, obj_id):\n",
    "        self.obj_id = obj_id\n",
    "        \n",
    "    def la(self): \n",
    "        return False\n",
    "    \n",
    "    # without '__reduce__', the instance is unserializable.\n",
    "    def __reduce__(self):\n",
    "        deserializer = Leborn\n",
    "        serialized_data = (self.obj_id, )\n",
    "        return deserializer, serialized_data\n",
    "    \n",
    "    \n",
    "class Spoon:\n",
    "    def __init__(self, obj_id):\n",
    "        self.obj_id = obj_id\n",
    "\n",
    "    def la(self):\n",
    "        return True\n",
    "    \n",
    "    # without '__reduce__', the instance is unserializable.\n",
    "    def __reduce__(self):\n",
    "        deserializer = Spoon\n",
    "        serialized_data = (self.obj_id, )\n",
    "        return deserializer, serialized_data"
   ]
  },
  {
   "cell_type": "code",
   "execution_count": 23,
   "id": "ebd0f21a-2059-4c3f-9074-5ca3918a9071",
   "metadata": {},
   "outputs": [
    {
     "name": "stdout",
     "output_type": "stream",
     "text": [
      "CPU times: user 4.44 ms, sys: 0 ns, total: 4.44 ms\n",
      "Wall time: 2.43 ms\n"
     ]
    }
   ],
   "source": [
    "%%time\n",
    "\n",
    "cup1 = Cup.remote(3)\n",
    "cup2 = Cup.remote(3)"
   ]
  },
  {
   "cell_type": "code",
   "execution_count": 22,
   "id": "d4ebca0c-681f-4948-8e67-8520be1656ca",
   "metadata": {},
   "outputs": [],
   "source": [
    "sp = Spoon(\"good good spoon\")\n",
    "lb = Leborn(\"good good Leborn\")"
   ]
  },
  {
   "cell_type": "markdown",
   "id": "a3ed844a-70b1-460b-b28e-c16f5071dbba",
   "metadata": {},
   "source": [
    "### What if we `La` with Spoon?\n"
   ]
  },
  {
   "cell_type": "code",
   "execution_count": 19,
   "id": "7c1c0da7-a2f8-4c8a-971b-238962cc4ce0",
   "metadata": {},
   "outputs": [
    {
     "name": "stdout",
     "output_type": "stream",
     "text": [
      "la first time\n",
      "la first time sent\n",
      "is it good drink, False\n",
      "la second time\n",
      "la second time sent\n",
      "is it good drink, False\n",
      "la third time\n",
      "la third time sent\n",
      "is it good drink, True\n",
      "CPU times: user 312 ms, sys: 96.7 ms, total: 409 ms\n",
      "Wall time: 6.02 s\n"
     ]
    }
   ],
   "source": [
    "%%time\n",
    " \n",
    "print('la first time')\n",
    "cup1.la_with_laable_item.remote(sp)\n",
    "print('la first time sent')\n",
    "print(f\"is it good drink, {ray.get(cup1.is_good.remote())}\")\n",
    "\n",
    "print('la second time')\n",
    "cup1.la_with_laable_item.remote(sp)\n",
    "print('la second time sent')\n",
    "print(f\"is it good drink, {ray.get(cup1.is_good.remote())}\")\n",
    "\n",
    "print('la third time')\n",
    "cup1.la_with_laable_item.remote(sp)\n",
    "print('la third time sent')\n",
    "print(f\"is it good drink, {ray.get(cup1.is_good.remote())}\")"
   ]
  },
  {
   "cell_type": "markdown",
   "id": "b45e4709-0b2c-482e-a73c-fb70c55d8273",
   "metadata": {},
   "source": [
    "after spent 6 seconds, cup good good"
   ]
  },
  {
   "cell_type": "markdown",
   "id": "7e433d47-5583-4c44-b1d5-acdb7e66e527",
   "metadata": {},
   "source": [
    "### What if we `La` with Leborn?"
   ]
  },
  {
   "cell_type": "code",
   "execution_count": 24,
   "id": "9fd9152e-1356-4349-8754-2583b5604e42",
   "metadata": {},
   "outputs": [
    {
     "name": "stdout",
     "output_type": "stream",
     "text": [
      "la first time\n",
      "la first time sent\n",
      "is it good drink, False\n",
      "la second time\n",
      "la second time sent\n",
      "is it good drink, False\n",
      "la third time\n",
      "la third time sent\n",
      "is it good drink, False\n",
      "CPU times: user 11.1 ms, sys: 0 ns, total: 11.1 ms\n",
      "Wall time: 9.49 ms\n"
     ]
    }
   ],
   "source": [
    "%%time\n",
    " \n",
    "print('la first time')\n",
    "cup2.la_with_laable_item.remote(lb)\n",
    "print('la first time sent')\n",
    "print(f\"is it good drink, {ray.get(cup2.is_good.remote())}\")\n",
    "\n",
    "print('la second time')\n",
    "cup2.la_with_laable_item.remote(lb)\n",
    "print('la second time sent')\n",
    "print(f\"is it good drink, {ray.get(cup2.is_good.remote())}\")\n",
    "\n",
    "print('la third time')\n",
    "cup2.la_with_laable_item.remote(lb)\n",
    "print('la third time sent')\n",
    "print(f\"is it good drink, {ray.get(cup2.is_good.remote())}\")"
   ]
  },
  {
   "cell_type": "markdown",
   "id": "72ba49d3-c513-4239-85ee-7c6e77e6fd96",
   "metadata": {},
   "source": [
    "cup is not good yet, of-course, Leborn is not Laable"
   ]
  },
  {
   "cell_type": "markdown",
   "id": "ef7159fb-b920-4f56-a6b1-c741d23eed79",
   "metadata": {},
   "source": [
    "what we observed? the fn call of actor is not parallel execution (prevent risk condition)"
   ]
  },
  {
   "cell_type": "code",
   "execution_count": 27,
   "id": "59666d4d-d110-417e-861f-0d36fc4459e0",
   "metadata": {},
   "outputs": [
    {
     "name": "stdout",
     "output_type": "stream",
     "text": [
      "start to send las\n",
      "las sent\n",
      "CPU times: user 0 ns, sys: 6.09 ms, total: 6.09 ms\n",
      "Wall time: 4.24 ms\n"
     ]
    }
   ],
   "source": [
    "%%time\n",
    "\n",
    "# another trila, call three la, will is queued?\n",
    "print(\"start to send las\")\n",
    "cup2.la_with_laable_item.remote(sp)\n",
    "cup2.la_with_laable_item.remote(sp)\n",
    "cup2.la_with_laable_item.remote(sp)\n",
    "cup2.la_with_laable_item.remote(sp)\n",
    "cup2.la_with_laable_item.remote(sp)\n",
    "cup2.la_with_laable_item.remote(sp)\n",
    "print(\"las sent\")\n"
   ]
  },
  {
   "cell_type": "code",
   "execution_count": 28,
   "id": "1de8901a-b3a0-45da-87c5-e6e63ce83bac",
   "metadata": {},
   "outputs": [
    {
     "name": "stdout",
     "output_type": "stream",
     "text": [
      "CPU times: user 699 ms, sys: 191 ms, total: 890 ms\n",
      "Wall time: 11.4 s\n"
     ]
    },
    {
     "data": {
      "text/plain": [
       "True"
      ]
     },
     "execution_count": 28,
     "metadata": {},
     "output_type": "execute_result"
    }
   ],
   "source": [
    "%%time\n",
    "\n",
    "ray.get(cup2.is_good.remote())\n"
   ]
  }
 ],
 "metadata": {
  "kernelspec": {
   "display_name": "Python 3 (ipykernel)",
   "language": "python",
   "name": "python3"
  },
  "language_info": {
   "codemirror_mode": {
    "name": "ipython",
    "version": 3
   },
   "file_extension": ".py",
   "mimetype": "text/x-python",
   "name": "python",
   "nbconvert_exporter": "python",
   "pygments_lexer": "ipython3",
   "version": "3.7.12"
  }
 },
 "nbformat": 4,
 "nbformat_minor": 5
}
