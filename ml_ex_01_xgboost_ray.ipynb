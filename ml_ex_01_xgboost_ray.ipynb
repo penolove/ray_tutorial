{
 "cells": [
  {
   "cell_type": "markdown",
   "id": "994b9b5e-8f77-43e6-ba43-1fe3ba958294",
   "metadata": {},
   "source": [
    "# Xgboost with Ray, Let's see what's the differecne"
   ]
  },
  {
   "cell_type": "code",
   "execution_count": 1,
   "id": "caf4bde5-4357-4548-b329-d7d19958b2b0",
   "metadata": {},
   "outputs": [
    {
     "name": "stderr",
     "output_type": "stream",
     "text": [
      "2021-12-26 17:06:50,204\tINFO services.py:1340 -- View the Ray dashboard at \u001b[1m\u001b[32mhttp://127.0.0.1:8265\u001b[39m\u001b[22m\n"
     ]
    },
    {
     "data": {
      "text/plain": [
       "{'node_ip_address': '192.168.84.193',\n",
       " 'raylet_ip_address': '192.168.84.193',\n",
       " 'redis_address': '192.168.84.193:6379',\n",
       " 'object_store_address': '/tmp/ray/session_2021-12-26_17-06-47_293113_25355/sockets/plasma_store',\n",
       " 'raylet_socket_name': '/tmp/ray/session_2021-12-26_17-06-47_293113_25355/sockets/raylet',\n",
       " 'webui_url': '127.0.0.1:8265',\n",
       " 'session_dir': '/tmp/ray/session_2021-12-26_17-06-47_293113_25355',\n",
       " 'metrics_export_port': 62230,\n",
       " 'node_id': '77a22e7ce284db5bf6a47f9e16492a40cd97437e9bb805078349602d'}"
      ]
     },
     "execution_count": 1,
     "metadata": {},
     "output_type": "execute_result"
    }
   ],
   "source": [
    "import ray\n",
    "ray.init()"
   ]
  },
  {
   "cell_type": "markdown",
   "id": "ae101d33-bd5c-464e-830b-ec0e12e47d51",
   "metadata": {},
   "source": [
    "## Check memory first, It shows noting there"
   ]
  },
  {
   "cell_type": "code",
   "execution_count": 2,
   "id": "04c920f4-59c0-4255-9adb-9215d919bc0b",
   "metadata": {},
   "outputs": [
    {
     "name": "stdout",
     "output_type": "stream",
     "text": [
      "======== Object references status: 2021-12-26 12:56:41.140323 ========\n",
      "Grouping by node address...        Sorting by object size...        Display allentries per group...\n",
      "\n",
      "\n",
      "To record callsite information for each ObjectRef created, set env variable RAY_record_ref_creation_sites=1\n",
      "\n",
      "--- Aggregate object store stats across all nodes ---\n",
      "Plasma memory usage 0 MiB, 0 objects, 0.0% full, 0.0% needed\n",
      "\n",
      "\u001b[0m"
     ]
    }
   ],
   "source": [
    "!ray memory"
   ]
  },
  {
   "cell_type": "markdown",
   "id": "5d920e44-0635-406b-9bd3-a26f70c5ad19",
   "metadata": {},
   "source": [
    "## Train Xgboost with ray , is so easy"
   ]
  },
  {
   "cell_type": "code",
   "execution_count": 2,
   "id": "6367c1a3-4a90-4a49-93b0-b3c0cc87536e",
   "metadata": {},
   "outputs": [],
   "source": [
    "# prepare dataset\n",
    "from xgboost_ray import RayDMatrix, RayParams, train\n",
    "from sklearn.datasets import load_breast_cancer\n",
    "\n",
    "train_x, train_y = load_breast_cancer(return_X_y=True)\n",
    "train_set = RayDMatrix(train_x, train_y)  # <- major difference\n"
   ]
  },
  {
   "cell_type": "markdown",
   "id": "7335d774-73e7-4478-abfe-07edef110c35",
   "metadata": {},
   "source": [
    "### you can see that while creating RayDMartix, nothing happend in Ray cluster"
   ]
  },
  {
   "cell_type": "code",
   "execution_count": 5,
   "id": "ebaf074b-e1a7-423e-bcc4-aa0198578af6",
   "metadata": {},
   "outputs": [
    {
     "name": "stdout",
     "output_type": "stream",
     "text": [
      "======== Object references status: 2021-12-26 12:57:33.942124 ========\n",
      "Grouping by node address...        Sorting by object size...        Display allentries per group...\n",
      "\n",
      "\n",
      "To record callsite information for each ObjectRef created, set env variable RAY_record_ref_creation_sites=1\n",
      "\n",
      "--- Aggregate object store stats across all nodes ---\n",
      "Plasma memory usage 0 MiB, 0 objects, 0.0% full, 0.0% needed\n",
      "\n",
      "\u001b[0m"
     ]
    }
   ],
   "source": [
    "!ray memory"
   ]
  },
  {
   "cell_type": "code",
   "execution_count": 6,
   "id": "35c3b901-2d48-4eda-bd8c-67386503288b",
   "metadata": {},
   "outputs": [
    {
     "name": "stderr",
     "output_type": "stream",
     "text": [
      "2021-12-26 12:57:39,135\tINFO main.py:971 -- [RayXGBoost] Created 2 new actors (2 total actors). Waiting until actors are ready for training.\n",
      "2021-12-26 12:57:40,152\tINFO main.py:1016 -- [RayXGBoost] Starting XGBoost training.\n",
      "\u001b[2m\u001b[36m(_RemoteRayXGBoostActor pid=636)\u001b[0m [12:57:40] task [xgboost.ray]:140303809745104 got new rank 0\n",
      "\u001b[2m\u001b[36m(_RemoteRayXGBoostActor pid=639)\u001b[0m [12:57:40] task [xgboost.ray]:140088995584592 got new rank 1\n",
      "2021-12-26 12:57:42,445\tINFO main.py:1498 -- [RayXGBoost] Finished XGBoost training on training data with total N=569 in 3.39 seconds (2.28 pure XGBoost training time).\n"
     ]
    },
    {
     "name": "stdout",
     "output_type": "stream",
     "text": [
      "Final training error: 0.0053\n"
     ]
    }
   ],
   "source": [
    "# train and save\n",
    "evals_result = {}\n",
    "bst = train(\n",
    "    {\n",
    "        \"objective\": \"binary:logistic\",\n",
    "        \"eval_metric\": [\"logloss\", \"error\"],\n",
    "    },\n",
    "    train_set,\n",
    "    evals_result=evals_result,\n",
    "    evals=[(train_set, \"train\")],\n",
    "    verbose_eval=False,\n",
    "    ray_params=RayParams(\n",
    "        num_actors=2,  # Number of remote actors\n",
    "        cpus_per_actor=1))\n",
    "\n",
    "bst.save_model(\"model.xgb\")\n",
    "print(\"Final training error: {:.4f}\".format(\n",
    "    evals_result[\"train\"][\"error\"][-1]))"
   ]
  },
  {
   "cell_type": "markdown",
   "id": "0200fc86-fb79-4f3a-a15e-e30fe823b8f6",
   "metadata": {},
   "source": [
    "### once train the model, the RayDMatrix changed"
   ]
  },
  {
   "cell_type": "code",
   "execution_count": 11,
   "id": "43458887-cf3b-4d37-a43c-e8b5ae790afd",
   "metadata": {},
   "outputs": [
    {
     "name": "stdout",
     "output_type": "stream",
     "text": [
      "original data shape: (569, 30)\n",
      "part: 0 (285, 30)\n",
      "part: 1 (285, 30)\n"
     ]
    }
   ],
   "source": [
    "print(f\"original data shape: {train_x.shape}\")\n",
    "for i in [0, 1]:\n",
    "    df = ray.get(train_set.refs[0]['data'])\n",
    "    print(f\"part: {i}\", df.shape, type(df))"
   ]
  },
  {
   "cell_type": "code",
   "execution_count": 12,
   "id": "e9635a3b-5fda-48a0-a050-f4c06c007184",
   "metadata": {},
   "outputs": [
    {
     "name": "stdout",
     "output_type": "stream",
     "text": [
      "======== Object references status: 2021-12-26 13:01:13.862222 ========\n",
      "Grouping by node address...        Sorting by object size...        Display allentries per group...\n",
      "\n",
      "\n",
      "--- Summary for node address: 192.168.84.193 ---\n",
      "Mem Used by Objects  Local References  Pinned        Pending Tasks  Captured in Objects  Actor Handles\n",
      "158678.0 B           11, (86905.0 B)   1, (71773.0 B)  0, (0.0 B)     0, (0.0 B)           0, (0.0 B)   \n",
      "\n",
      "--- Object references for node address: 192.168.84.193 ---\n",
      "IP Address | PID | Type | Call Site | Size | Reference Type | Object Ref\n",
      "\n",
      "192.168.84.193 | 482 | Driver |           | 15.0 B | LOCAL_REFERENCE | ffffffffffffffffffffffffffffffffffffffff0100000005000000\n",
      "\n",
      "\n",
      "192.168.84.193 | 482 | Driver |           | 15.0 B | LOCAL_REFERENCE | ffffffffffffffffffffffffffffffffffffffff010000000b000000\n",
      "\n",
      "\n",
      "192.168.84.193 | 482 | Driver |           | 15.0 B | LOCAL_REFERENCE | ffffffffffffffffffffffffffffffffffffffff0100000004000000\n",
      "\n",
      "\n",
      "192.168.84.193 | 482 | Driver |           | 15.0 B | LOCAL_REFERENCE | ffffffffffffffffffffffffffffffffffffffff010000000a000000\n",
      "\n",
      "\n",
      "192.168.84.193 | 482 | Driver |           | 15.0 B | LOCAL_REFERENCE | ffffffffffffffffffffffffffffffffffffffff0100000009000000\n",
      "\n",
      "\n",
      "192.168.84.193 | 482 | Driver |           | 15.0 B | LOCAL_REFERENCE | ffffffffffffffffffffffffffffffffffffffff010000000c000000\n",
      "\n",
      "\n",
      "192.168.84.193 | 482 | Driver |           | 15.0 B | LOCAL_REFERENCE | ffffffffffffffffffffffffffffffffffffffff0100000003000000\n",
      "\n",
      "\n",
      "192.168.84.193 | 482 | Driver |           | 15.0 B | LOCAL_REFERENCE | ffffffffffffffffffffffffffffffffffffffff0100000006000000\n",
      "\n",
      "\n",
      "192.168.84.193 | 482 | Driver |           | 7634.0 B | LOCAL_REFERENCE | ffffffffffffffffffffffffffffffffffffffff0100000008000000\n",
      "\n",
      "\n",
      "192.168.84.193 | 482 | Driver |           | 7642.0 B | LOCAL_REFERENCE | ffffffffffffffffffffffffffffffffffffffff0100000002000000\n",
      "\n",
      "\n",
      "192.168.84.193 | 482 | Driver |           | 71509.0 B | LOCAL_REFERENCE | ffffffffffffffffffffffffffffffffffffffff0100000007000000\n",
      "\n",
      "\n",
      "192.168.84.193 | 482 | Driver |           | 71773.0 B | PINNED_IN_MEMORY | ffffffffffffffffffffffffffffffffffffffff0100000001000000\n",
      "\n",
      "To record callsite information for each ObjectRef created, set env variable RAY_record_ref_creation_sites=1\n",
      "\n",
      "--- Aggregate object store stats across all nodes ---\n",
      "Plasma memory usage 0 MiB, 12 objects, 0.0% full, 0.0% needed\n",
      "Objects consumed by Ray tasks: 1 MiB.\n",
      "\n",
      "\u001b[0m"
     ]
    }
   ],
   "source": [
    "!ray memory"
   ]
  },
  {
   "cell_type": "markdown",
   "id": "8c76b9e6-cee0-41cc-aa4c-157283d8f9d6",
   "metadata": {},
   "source": [
    "## performance check"
   ]
  },
  {
   "cell_type": "code",
   "execution_count": 3,
   "id": "85553d4c-c2f4-4e59-897b-ec8a0379ed61",
   "metadata": {},
   "outputs": [],
   "source": [
    "import numpy as np\n",
    "\n",
    "train_x = np.random.rand(100000, 200)\n",
    "train_y = np.random.rand(100000) > 0.5"
   ]
  },
  {
   "cell_type": "code",
   "execution_count": 4,
   "id": "7ddece6d-5f54-4a8b-b1b9-272a239fb894",
   "metadata": {},
   "outputs": [
    {
     "name": "stderr",
     "output_type": "stream",
     "text": [
      "2021-12-26 17:10:21,582\tINFO main.py:971 -- [RayXGBoost] Created 2 new actors (2 total actors). Waiting until actors are ready for training.\n",
      "2021-12-26 17:10:22,943\tINFO main.py:1016 -- [RayXGBoost] Starting XGBoost training.\n",
      "\u001b[2m\u001b[36m(_RemoteRayXGBoostActor pid=25502)\u001b[0m [17:10:23] task [xgboost.ray]:140203909791952 got new rank 0\n",
      "\u001b[2m\u001b[36m(_RemoteRayXGBoostActor pid=25510)\u001b[0m [17:10:23] task [xgboost.ray]:139989723807312 got new rank 1\n",
      "2021-12-26 17:10:53,594\tINFO main.py:1091 -- Training in progress (30 seconds since last restart).\n",
      "2021-12-26 17:11:23,809\tINFO main.py:1091 -- Training in progress (61 seconds since last restart).\n",
      "2021-12-26 17:11:53,975\tINFO main.py:1091 -- Training in progress (91 seconds since last restart).\n",
      "2021-12-26 17:12:24,157\tINFO main.py:1091 -- Training in progress (121 seconds since last restart).\n",
      "2021-12-26 17:12:54,360\tINFO main.py:1091 -- Training in progress (151 seconds since last restart).\n",
      "2021-12-26 17:13:24,539\tINFO main.py:1091 -- Training in progress (181 seconds since last restart).\n",
      "2021-12-26 17:13:54,740\tINFO main.py:1091 -- Training in progress (212 seconds since last restart).\n",
      "2021-12-26 17:14:24,925\tINFO main.py:1091 -- Training in progress (242 seconds since last restart).\n",
      "2021-12-26 17:14:41,851\tINFO main.py:1498 -- [RayXGBoost] Finished XGBoost training on training data with total N=100,000 in 260.48 seconds (258.90 pure XGBoost training time).\n"
     ]
    },
    {
     "name": "stdout",
     "output_type": "stream",
     "text": [
      "Final training error: 0.0275\n",
      "CPU times: user 8.54 s, sys: 2.34 s, total: 10.9 s\n",
      "Wall time: 4min 20s\n"
     ]
    }
   ],
   "source": [
    "%%time\n",
    "train_set = RayDMatrix(train_x, train_y)\n",
    "\n",
    "evals_result = {}\n",
    "bst = train(\n",
    "    {\n",
    "        \"objective\": \"binary:logistic\",\n",
    "        \"eval_metric\": [\"logloss\", \"error\"],\n",
    "        'seed': 200,\n",
    "    },\n",
    "    \n",
    "    train_set,\n",
    "    num_boost_round=300,\n",
    "    evals_result=evals_result,\n",
    "    evals=[(train_set, \"train\")],\n",
    "    verbose_eval=False,\n",
    "    ray_params=RayParams(\n",
    "        num_actors=2,  # Number of remote actors\n",
    "        cpus_per_actor=4))\n",
    "\n",
    "bst.save_model(\"model.xgb\")\n",
    "print(\"Final training error: {:.4f}\".format(\n",
    "    evals_result[\"train\"][\"error\"][-1]))"
   ]
  },
  {
   "cell_type": "code",
   "execution_count": 9,
   "id": "91ae3277-3d52-4b62-8ca9-aa40b394d02b",
   "metadata": {},
   "outputs": [
    {
     "data": {
      "text/plain": [
       "{0: {'data': ObjectRef(ffffffffffffffffffffffffffffffffffffffff0100000015000000),\n",
       "  'label': ObjectRef(ffffffffffffffffffffffffffffffffffffffff0100000016000000),\n",
       "  'weight': ObjectRef(ffffffffffffffffffffffffffffffffffffffff0100000017000000),\n",
       "  'base_margin': ObjectRef(ffffffffffffffffffffffffffffffffffffffff0100000018000000),\n",
       "  'label_lower_bound': ObjectRef(ffffffffffffffffffffffffffffffffffffffff0100000019000000),\n",
       "  'label_upper_bound': ObjectRef(ffffffffffffffffffffffffffffffffffffffff010000001a000000)},\n",
       " 1: {'data': ObjectRef(ffffffffffffffffffffffffffffffffffffffff010000001b000000),\n",
       "  'label': ObjectRef(ffffffffffffffffffffffffffffffffffffffff010000001c000000),\n",
       "  'weight': ObjectRef(ffffffffffffffffffffffffffffffffffffffff010000001d000000),\n",
       "  'base_margin': ObjectRef(ffffffffffffffffffffffffffffffffffffffff010000001e000000),\n",
       "  'label_lower_bound': ObjectRef(ffffffffffffffffffffffffffffffffffffffff010000001f000000),\n",
       "  'label_upper_bound': ObjectRef(ffffffffffffffffffffffffffffffffffffffff0100000020000000)}}"
      ]
     },
     "execution_count": 9,
     "metadata": {},
     "output_type": "execute_result"
    }
   ],
   "source": [
    "train_set.refs"
   ]
  },
  {
   "cell_type": "code",
   "execution_count": 10,
   "id": "78659052-43e0-400b-b5e6-4fd3ebbbfecd",
   "metadata": {},
   "outputs": [
    {
     "name": "stdout",
     "output_type": "stream",
     "text": [
      "original data shape: (10000, 200)\n",
      "part: 0 (5000, 200) <class 'pandas.core.frame.DataFrame'>\n",
      "part: 1 (5000, 200) <class 'pandas.core.frame.DataFrame'>\n"
     ]
    }
   ],
   "source": [
    "print(f\"original data shape: {train_x.shape}\")\n",
    "for i in [0, 1]:\n",
    "    df = ray.get(train_set.refs[0]['data'])\n",
    "    print(f\"part: {i}\", df.shape, type(df))"
   ]
  },
  {
   "cell_type": "code",
   "execution_count": 16,
   "id": "23b769c3-3f77-4fda-bbf2-13556b90e765",
   "metadata": {
    "collapsed": true,
    "jupyter": {
     "outputs_hidden": true
    },
    "tags": []
   },
   "outputs": [
    {
     "name": "stdout",
     "output_type": "stream",
     "text": [
      "======== Object references status: 2021-12-26 13:11:49.156898 ========\n",
      "Grouping by node address...        Sorting by object size...        Display allentries per group...\n",
      "\n",
      "\n",
      "--- Summary for node address: 192.168.84.193 ---\n",
      "Mem Used by Objects  Local References  Pinned        Pending Tasks  Captured in Objects  Actor Handles\n",
      "162664906.0 B        23, (82262699.0 B)  1, (80402207.0 B)  0, (0.0 B)     0, (0.0 B)           0, (0.0 B)   \n",
      "\n",
      "--- Object references for node address: 192.168.84.193 ---\n",
      "IP Address | PID | Type | Call Site | Size | Reference Type | Object Ref\n",
      "\n",
      "192.168.84.193 | 482 | Driver |           | 15.0 B | LOCAL_REFERENCE | ffffffffffffffffffffffffffffffffffffffff0100000018000000\n",
      "\n",
      "\n",
      "192.168.84.193 | 482 | Driver |           | 15.0 B | LOCAL_REFERENCE | ffffffffffffffffffffffffffffffffffffffff0100000005000000\n",
      "\n",
      "\n",
      "192.168.84.193 | 482 | Driver |           | 15.0 B | LOCAL_REFERENCE | ffffffffffffffffffffffffffffffffffffffff010000001a000000\n",
      "\n",
      "\n",
      "192.168.84.193 | 482 | Driver |           | 15.0 B | LOCAL_REFERENCE | ffffffffffffffffffffffffffffffffffffffff010000000b000000\n",
      "\n",
      "\n",
      "192.168.84.193 | 482 | Driver |           | 15.0 B | LOCAL_REFERENCE | ffffffffffffffffffffffffffffffffffffffff0100000017000000\n",
      "\n",
      "\n",
      "192.168.84.193 | 482 | Driver |           | 15.0 B | LOCAL_REFERENCE | ffffffffffffffffffffffffffffffffffffffff0100000004000000\n",
      "\n",
      "\n",
      "192.168.84.193 | 482 | Driver |           | 15.0 B | LOCAL_REFERENCE | ffffffffffffffffffffffffffffffffffffffff010000000a000000\n",
      "\n",
      "\n",
      "192.168.84.193 | 482 | Driver |           | 15.0 B | LOCAL_REFERENCE | ffffffffffffffffffffffffffffffffffffffff010000001e000000\n",
      "\n",
      "\n",
      "192.168.84.193 | 482 | Driver |           | 15.0 B | LOCAL_REFERENCE | ffffffffffffffffffffffffffffffffffffffff0100000019000000\n",
      "\n",
      "\n",
      "192.168.84.193 | 482 | Driver |           | 15.0 B | LOCAL_REFERENCE | ffffffffffffffffffffffffffffffffffffffff010000001f000000\n",
      "\n",
      "\n",
      "192.168.84.193 | 482 | Driver |           | 15.0 B | LOCAL_REFERENCE | ffffffffffffffffffffffffffffffffffffffff0100000009000000\n",
      "\n",
      "\n",
      "192.168.84.193 | 482 | Driver |           | 15.0 B | LOCAL_REFERENCE | ffffffffffffffffffffffffffffffffffffffff010000000c000000\n",
      "\n",
      "\n",
      "192.168.84.193 | 482 | Driver |           | 15.0 B | LOCAL_REFERENCE | ffffffffffffffffffffffffffffffffffffffff0100000003000000\n",
      "\n",
      "\n",
      "192.168.84.193 | 482 | Driver |           | 15.0 B | LOCAL_REFERENCE | ffffffffffffffffffffffffffffffffffffffff010000001d000000\n",
      "\n",
      "\n",
      "192.168.84.193 | 482 | Driver |           | 15.0 B | LOCAL_REFERENCE | ffffffffffffffffffffffffffffffffffffffff0100000006000000\n",
      "\n",
      "\n",
      "192.168.84.193 | 482 | Driver |           | 15.0 B | LOCAL_REFERENCE | ffffffffffffffffffffffffffffffffffffffff0100000020000000\n",
      "\n",
      "\n",
      "192.168.84.193 | 482 | Driver |           | 7634.0 B | LOCAL_REFERENCE | ffffffffffffffffffffffffffffffffffffffff0100000008000000\n",
      "\n",
      "\n",
      "192.168.84.193 | 482 | Driver |           | 7642.0 B | LOCAL_REFERENCE | ffffffffffffffffffffffffffffffffffffffff0100000002000000\n",
      "\n",
      "\n",
      "192.168.84.193 | 482 | Driver |           | 71509.0 B | LOCAL_REFERENCE | ffffffffffffffffffffffffffffffffffffffff0100000007000000\n",
      "\n",
      "\n",
      "192.168.84.193 | 482 | Driver |           | 71773.0 B | LOCAL_REFERENCE | ffffffffffffffffffffffffffffffffffffffff0100000001000000\n",
      "\n",
      "\n",
      "192.168.84.193 | 482 | Driver |           | 850847.0 B | LOCAL_REFERENCE | ffffffffffffffffffffffffffffffffffffffff0100000016000000\n",
      "\n",
      "\n",
      "192.168.84.193 | 482 | Driver |           | 850847.0 B | LOCAL_REFERENCE | ffffffffffffffffffffffffffffffffffffffff010000001c000000\n",
      "\n",
      "\n",
      "192.168.84.193 | 482 | Driver |           | 80402207.0 B | LOCAL_REFERENCE | ffffffffffffffffffffffffffffffffffffffff010000001b000000\n",
      "\n",
      "\n",
      "192.168.84.193 | 482 | Driver |           | 80402207.0 B | PINNED_IN_MEMORY | ffffffffffffffffffffffffffffffffffffffff0100000015000000\n",
      "\n",
      "To record callsite information for each ObjectRef created, set env variable RAY_record_ref_creation_sites=1\n",
      "\n",
      "--- Aggregate object store stats across all nodes ---\n",
      "Plasma memory usage 155 MiB, 24 objects, 3.52% full, 3.52% needed\n",
      "Objects consumed by Ray tasks: 1299 MiB.\n",
      "\n",
      "\u001b[0m"
     ]
    }
   ],
   "source": [
    "!ray memory"
   ]
  },
  {
   "cell_type": "code",
   "execution_count": 17,
   "id": "c15cb411-7ce2-4df6-b3ce-bd017245c4fa",
   "metadata": {},
   "outputs": [],
   "source": [
    "# check perfromance for original xgb\n",
    "import xgboost as xgb"
   ]
  },
  {
   "cell_type": "code",
   "execution_count": 24,
   "id": "755c3d35-99aa-4fde-a537-39845779e944",
   "metadata": {
    "tags": []
   },
   "outputs": [
    {
     "name": "stdout",
     "output_type": "stream",
     "text": [
      "Final training error: 0.0877\n",
      "CPU times: user 53min 44s, sys: 4.89 s, total: 53min 49s\n",
      "Wall time: 7min 38s\n"
     ]
    }
   ],
   "source": [
    "%%time\n",
    "# read in data\n",
    "dtrain = xgb.DMatrix(train_x, train_y)\n",
    "\n",
    "evals_result = {}\n",
    "\n",
    "bst = xgb.train(\n",
    "    {\n",
    "        \"objective\": \"binary:logistic\",\n",
    "        \"eval_metric\": [\"logloss\", \"error\"],\n",
    "        'seed': 200,\n",
    "    },\n",
    "    dtrain,\n",
    "    num_boost_round=300,\n",
    "    evals_result=evals_result,\n",
    "    evals=[(dtrain, \"train\")],\n",
    "    verbose_eval=False\n",
    ")\n",
    "bst.save_model(\"model.xgb\")\n",
    "print(\"Final training error: {:.4f}\".format(\n",
    "    evals_result[\"train\"][\"error\"][-1]))\n"
   ]
  }
 ],
 "metadata": {
  "kernelspec": {
   "display_name": "Python 3 (ipykernel)",
   "language": "python",
   "name": "python3"
  },
  "language_info": {
   "codemirror_mode": {
    "name": "ipython",
    "version": 3
   },
   "file_extension": ".py",
   "mimetype": "text/x-python",
   "name": "python",
   "nbconvert_exporter": "python",
   "pygments_lexer": "ipython3",
   "version": "3.7.12"
  }
 },
 "nbformat": 4,
 "nbformat_minor": 5
}
